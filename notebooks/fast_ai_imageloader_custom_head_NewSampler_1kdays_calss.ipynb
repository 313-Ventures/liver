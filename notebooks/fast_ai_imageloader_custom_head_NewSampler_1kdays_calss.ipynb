{
 "cells": [
  {
   "cell_type": "markdown",
   "metadata": {},
   "source": [
    "20180524\n",
    "\n",
    "Adding a censor label for calculation of the C-index and for future train improvements\n",
    "\n",
    "Adding sample_type_id which must be 01A for the primary tumor\n",
    "\n",
    "20180525\n",
    "\n",
    "Fixed the Data Loader so that we sort on filename before calling.  Then our indices work and our loading of the file works also. \n",
    "\n",
    "20180530\n",
    "\n",
    "Using new sampler from tumor_classifier where images are a fixed size.  In tumor_classifier we can get 99% accuracy with tumor/normal classes\n",
    "\n",
    "Turn into classifier of > 1000 days (~ 3 years)\n",
    "\n",
    "\n"
   ]
  },
  {
   "cell_type": "code",
   "execution_count": 1,
   "metadata": {},
   "outputs": [
    {
     "name": "stdout",
     "output_type": "stream",
     "text": [
      "Populating the interactive namespace from numpy and matplotlib\n"
     ]
    }
   ],
   "source": [
    "%pylab inline\n",
    "import pandas as pd\n",
    "import numpy as np\n",
    "import fastai\n",
    "import torch\n",
    "from pathlib import Path\n",
    "import PIL\n",
    "import tqdm\n",
    "import os\n",
    "import json\n",
    "tqdm.monitor_interval = 0"
   ]
  },
  {
   "cell_type": "code",
   "execution_count": 2,
   "metadata": {},
   "outputs": [],
   "source": [
    "from fastai.conv_learner import resnet34, resnet152, transforms_top_down, CropType, \\\n",
    "    tfms_from_model, ConvLearner, optim, T\n",
    "from fastai.dataset import ImageClassifierData, Denormalize\n",
    "from fastai.metrics import accuracy, f1\n",
    "from fastai.sgdr import TrainingPhase, DecayType\n",
    "from lifelines.utils import concordance_index"
   ]
  },
  {
   "cell_type": "code",
   "execution_count": null,
   "metadata": {},
   "outputs": [],
   "source": [
    "def cindex_metric(preds, targs):\n",
    "    try:\n",
    "        cindex = concordance_index(preds, targs)\n",
    "    except:\n",
    "        cindex = 0.0\n",
    "    return cindex"
   ]
  },
  {
   "cell_type": "code",
   "execution_count": 3,
   "metadata": {},
   "outputs": [
    {
     "data": {
      "text/plain": [
       "1"
      ]
     },
     "execution_count": 3,
     "metadata": {},
     "output_type": "execute_result"
    }
   ],
   "source": [
    "torch.backends.cudnn.benchmark=True\n",
    "torch.cuda.set_device(1)\n",
    "torch.cuda.current_device()\n"
   ]
  },
  {
   "cell_type": "code",
   "execution_count": 4,
   "metadata": {},
   "outputs": [],
   "source": [
    "LIVER_PATH = Path('/DATA/BIO/GDC/liver')\n",
    "LIVER_SAMPLES = LIVER_PATH/\"samples\"\n",
    "EXP_PATH = LIVER_PATH/\"exp_class_1\"\n",
    "EXP_MODEL_PATH = EXP_PATH/\"models\"\n",
    "EXP_DATA = EXP_PATH/\"data\"\n",
    "EXP_TRAIN_DATA = EXP_DATA/\"train\"\n",
    "EXP_TEST_DATA = EXP_DATA/\"test\"\n",
    "PATIENT_JSON = EXP_PATH/'patient_split.json'\n",
    "TRAIN_CSV = EXP_PATH/'level_1_train.csv'\n",
    "TRAIN_CSV_FULL = EXP_PATH/'level_1_train_full.csv'\n",
    "TEST_CSV = EXP_PATH/'level_1_test.csv'\n",
    "TEST_CSV_FULL = EXP_PATH/'level_1_test_FULL.csv'\n",
    "\n",
    "for d in [EXP_PATH, EXP_DATA, EXP_TRAIN_DATA, EXP_TEST_DATA, EXP_MODEL_PATH]:\n",
    "    if not d.exists():\n",
    "        d.mkdir()"
   ]
  },
  {
   "cell_type": "code",
   "execution_count": 5,
   "metadata": {},
   "outputs": [],
   "source": [
    "slides = pd.read_csv(LIVER_PATH/'slides.csv')\n",
    "def get_tissue_type(x):\n",
    "    return x.split('-')[4]\n",
    "def get_sample_type(x):\n",
    "    ''' 01A samples are \"primary tumor\" and we want just those samples'''\n",
    "    return x.split('-')[3]\n",
    "\n",
    "tissue_type = slides.slide_file_name.apply(get_tissue_type)\n",
    "sample_type = slides.slide_file_name.apply(get_sample_type)\n",
    "slides = slides.loc[(tissue_type == '01') &  (sample_type=='01A'),:].copy()"
   ]
  },
  {
   "cell_type": "code",
   "execution_count": 6,
   "metadata": {},
   "outputs": [],
   "source": [
    "try:\n",
    "    with open(PATIENT_JSON, 'r') as fobj:\n",
    "        patients = json.load(fobj)\n",
    "        train_patients = patients['train']\n",
    "        val_patients = patients['val']\n",
    "        test_patients = patients['test']\n",
    "    train_slides = slides.loc[slides.submitter_id.isin(train_patients)]\n",
    "    test_slides = slides.loc[slides.submitter_id.isin(test_patients)]\n",
    "\n",
    "    train_csv_df = pd.read_csv(TRAIN_CSV_FULL)\n",
    "    val_idx = train_csv_df.loc[train_csv_df.val_patient].index\n",
    "except:\n",
    "    slides['days_proxy'] = \\\n",
    "        slides.days_to_death.fillna(slides.days_to_last_follow_up).apply(lambda x : 1.0 if x>1000 else 0.0)\n",
    "    slides = slides.loc[slides.days_proxy.notnull()].copy()\n",
    "    #create censor label\n",
    "#    slides['event_observed'] = True\n",
    "#    slides.loc[slides.days_to_last_follow_up.notnull(),'event_observed'] = False    \n",
    "\n",
    "    patients = random.permutation(list(set(slides.submitter_id)))\n",
    "    \n",
    "    split     = int(0.7 * len(patients))\n",
    "    val_split = int(0.7 * split)\n",
    "    train_patients = patients[:split]\n",
    "    val_patients   = patients[val_split:split]\n",
    "    test_patients  = patients[split:]\n",
    "\n",
    "    patient_split = {\n",
    "        'train': list(train_patients),\n",
    "        'val': list(val_patients),\n",
    "        'test': list(test_patients)\n",
    "    }\n",
    "    with open(EXP_PATH/'patient_split.json', 'w') as fobj:\n",
    "        json.dump(patient_split, fobj)\n",
    "\n",
    "    print(len(train_patients), len(val_patients), len(test_patients))\n",
    "    \n",
    "    train_slides = slides.loc[slides.submitter_id.isin(train_patients)]\n",
    "    test_slides  = slides.loc[slides.submitter_id.isin(test_patients)]\n",
    "    \n",
    "    \n",
    "    train_items = []\n",
    "    test_items = []\n",
    "    num_slides = []\n",
    "    slide_level = 'level_1'\n",
    "    samples_per_slide = 5\n",
    "    \n",
    "    \n",
    "    for ix, patient in tqdm.tqdm_notebook(slides.iterrows(), total=len(slides)):\n",
    "        sfp = LIVER_SAMPLES/patient.slide_file_name.upper()/slide_level\n",
    "        sample_files = list(sfp.iterdir())\n",
    "        num_samples = len(sample_files)\n",
    "        num_slides.append(num_samples)\n",
    "        for fn in np.random.choice(sample_files, size=min(samples_per_slide,num_samples), replace=False):\n",
    "            if patient.submitter_id in train_patients:\n",
    "                dest_path = EXP_TRAIN_DATA\n",
    "                train = True\n",
    "                if patient.submitter_id in val_patients:\n",
    "                    val = True\n",
    "                else:\n",
    "                    val = False\n",
    "            else:\n",
    "                dest_path = EXP_TEST_DATA\n",
    "                train = False\n",
    "\n",
    "            slide_id = os.path.basename(patient.slide_file_name).split('.')[0]\n",
    "            img_id = os.path.basename(fn).split('.')[0]\n",
    "            new_fn_base = '-'.join([slide_id, img_id]) + '.tiff'\n",
    "            full_path = dest_path/new_fn_base\n",
    "\n",
    "            if not full_path.exists():\n",
    "                os.symlink(fn, dest_path/new_fn_base)\n",
    "\n",
    "            if train:\n",
    "                train_items.append({\n",
    "                    'fn': str(new_fn_base),\n",
    "                    'val': patient.days_proxy,\n",
    "                    'val_patient': val,\n",
    "                    'patient_id': patient.submitter_id,\n",
    "                    'slide_file':patient.slide_file_name\n",
    "                })\n",
    "            else:\n",
    "                test_items.append({\n",
    "                    'fn': str(new_fn_base),\n",
    "                    'val': patient.days_proxy,\n",
    "                    'patient_id': patient.submitter_id,\n",
    "                    'slide_file':patient.slide_file_name\n",
    "                })\n",
    "       \n",
    "    \n",
    "    train_csv_df = pd.DataFrame(list(random.permutation(train_items)))\n",
    "     #fast.ai will sort on filenames, idx will be a mess!\n",
    "    train_csv_df = train_csv_df.sort_values('fn').reset_index(drop=True)\n",
    "    \n",
    "    train_csv_df[['fn','val']].to_csv(TRAIN_CSV, index=False)\n",
    "    train_csv_df.to_csv(TRAIN_CSV_FULL, index=False)\n",
    "    val_idx = train_csv_df.loc[train_csv_df.val_patient].index\n",
    "    \n",
    "    test_csv_df = pd.DataFrame(test_items)\n",
    "    test_csv_df = test_csv_df.sort_values('fn').reset_index(drop=True)\n",
    "    \n",
    "    test_csv_df[['fn','val']].to_csv(TEST_CSV, index=False)\n",
    "    test_csv_df.to_csv(TEST_CSV_FULL, index=False)\n",
    "    "
   ]
  },
  {
   "cell_type": "code",
   "execution_count": 24,
   "metadata": {},
   "outputs": [],
   "source": [
    "f_model = resnet34\n",
    "sz=256\n",
    "bs=18\n",
    "tfms = tfms_from_model(f_model, sz, aug_tfms=transforms_top_down, crop_type=CropType.CENTER)\n",
    "md = ImageClassifierData.from_csv(\n",
    "    EXP_PATH, \"data/train\", TRAIN_CSV, tfms=tfms, bs=bs, val_idxs=val_idx.values, continuous=False\n",
    ")\n"
   ]
  },
  {
   "cell_type": "raw",
   "metadata": {},
   "source": [
    "try:\n",
    "    test_csv_df\n",
    "except NameError:\n",
    "    test_csv_df = pd.read_csv(TEST_CSV_FULL)\n",
    "    \n",
    "md_test = ImageClassifierData.from_csv(\n",
    "    EXP_PATH, \"data/test\", TEST_CSV, tfms=tfms, bs=bs, val_idxs=test_csv_df.index.values, continuous=False\n",
    ")"
   ]
  },
  {
   "cell_type": "raw",
   "metadata": {},
   "source": [
    "from fastai.layers import AdaptiveConcatPool2d,Flatten\n",
    "from torch.nn import BatchNorm1d,Dropout,ReLU,Linear,Sequential,Hardtanh\n",
    "\n",
    "layers = [AdaptiveConcatPool2d(), Flatten()]\n",
    "layers += [BatchNorm1d(1024),\n",
    "            Dropout(p=0.5), \n",
    "            Linear(in_features=1024, out_features=256), \n",
    "            ReLU(), \n",
    "            BatchNorm1d(256),\n",
    "            Dropout(p=0.5), \n",
    "            Linear(in_features=256, out_features=1),\n",
    "            Hardtanh(0,5000)]\n",
    "head_relu = Sequential(*layers)"
   ]
  },
  {
   "cell_type": "code",
   "execution_count": 9,
   "metadata": {},
   "outputs": [],
   "source": [
    "#learn = ConvLearner.pretrained(f_model, md,custom_head=head_relu)\n",
    "learn = ConvLearner.pretrained(f_model, md)\n",
    "learn.opt_fn = optim.Adam\n",
    "\n",
    "### criteria must be from funtional library.\n",
    "#import torch.nn.functional as F\n",
    "#learn.crit = F.mse_loss"
   ]
  },
  {
   "cell_type": "code",
   "execution_count": 10,
   "metadata": {},
   "outputs": [
    {
     "data": {
      "text/plain": [
       "[AdaptiveConcatPool2d(\n",
       "   (ap): AdaptiveAvgPool2d(output_size=(1, 1))\n",
       "   (mp): AdaptiveMaxPool2d(output_size=(1, 1))\n",
       " ), Flatten(\n",
       " ), BatchNorm1d(1024, eps=1e-05, momentum=0.1, affine=True), Dropout(p=0.25), Linear(in_features=1024, out_features=512), ReLU(), BatchNorm1d(512, eps=1e-05, momentum=0.1, affine=True), Dropout(p=0.5), Linear(in_features=512, out_features=2), LogSoftmax()]"
      ]
     },
     "execution_count": 10,
     "metadata": {},
     "output_type": "execute_result"
    }
   ],
   "source": [
    "learn.children[-10:]"
   ]
  },
  {
   "cell_type": "code",
   "execution_count": 11,
   "metadata": {},
   "outputs": [
    {
     "data": {
      "application/vnd.jupyter.widget-view+json": {
       "model_id": "5ad1fdb036284d00af9d2168c4cc6506",
       "version_major": 2,
       "version_minor": 0
      },
      "text/html": [
       "<p>Failed to display Jupyter Widget of type <code>HBox</code>.</p>\n",
       "<p>\n",
       "  If you're reading this message in the Jupyter Notebook or JupyterLab Notebook, it may mean\n",
       "  that the widgets JavaScript is still loading. If this message persists, it\n",
       "  likely means that the widgets JavaScript library is either not installed or\n",
       "  not enabled. See the <a href=\"https://ipywidgets.readthedocs.io/en/stable/user_install.html\">Jupyter\n",
       "  Widgets Documentation</a> for setup instructions.\n",
       "</p>\n",
       "<p>\n",
       "  If you're reading this message in another frontend (for example, a static\n",
       "  rendering on GitHub or <a href=\"https://nbviewer.jupyter.org/\">NBViewer</a>),\n",
       "  it may mean that your frontend doesn't currently support widgets.\n",
       "</p>\n"
      ],
      "text/plain": [
       "HBox(children=(IntProgress(value=0, description='Epoch', max=1), HTML(value='')))"
      ]
     },
     "metadata": {},
     "output_type": "display_data"
    },
    {
     "name": "stdout",
     "output_type": "stream",
     "text": [
      " 87%|████████▋ | 45/52 [00:02<00:00, 16.68it/s, loss=7.44] \n",
      "                                                          \r"
     ]
    },
    {
     "data": {
      "image/png": "[encoded data removed]",
      "text/plain": [
       "<matplotlib.figure.Figure at 0x7fa9d4f88a20>"
      ]
     },
     "metadata": {},
     "output_type": "display_data"
    }
   ],
   "source": [
    "# set to true to try learning rate finder\n",
    "if True:\n",
    "    learn.save('tmp')\n",
    "    lrf=learn.lr_find()\n",
    "    learn.sched.plot(0)\n",
    "    learn.load('tmp')"
   ]
  },
  {
   "cell_type": "code",
   "execution_count": 12,
   "metadata": {},
   "outputs": [
    {
     "name": "stdout",
     "output_type": "stream",
     "text": [
      "0.01\n"
     ]
    }
   ],
   "source": [
    "lr = 10e-3\n",
    "print(lr)"
   ]
  },
  {
   "cell_type": "code",
   "execution_count": 13,
   "metadata": {},
   "outputs": [
    {
     "data": {
      "application/vnd.jupyter.widget-view+json": {
       "model_id": "c3e09dab52064b37b0c68a49f641dbef",
       "version_major": 2,
       "version_minor": 0
      },
      "text/html": [
       "<p>Failed to display Jupyter Widget of type <code>HBox</code>.</p>\n",
       "<p>\n",
       "  If you're reading this message in the Jupyter Notebook or JupyterLab Notebook, it may mean\n",
       "  that the widgets JavaScript is still loading. If this message persists, it\n",
       "  likely means that the widgets JavaScript library is either not installed or\n",
       "  not enabled. See the <a href=\"https://ipywidgets.readthedocs.io/en/stable/user_install.html\">Jupyter\n",
       "  Widgets Documentation</a> for setup instructions.\n",
       "</p>\n",
       "<p>\n",
       "  If you're reading this message in another frontend (for example, a static\n",
       "  rendering on GitHub or <a href=\"https://nbviewer.jupyter.org/\">NBViewer</a>),\n",
       "  it may mean that your frontend doesn't currently support widgets.\n",
       "</p>\n"
      ],
      "text/plain": [
       "HBox(children=(IntProgress(value=0, description='Epoch', max=50), HTML(value='')))"
      ]
     },
     "metadata": {},
     "output_type": "display_data"
    },
    {
     "name": "stdout",
     "output_type": "stream",
     "text": [
      "epoch      trn_loss   val_loss   accuracy                  \n",
      "    0      0.789227   1.019214   0.579221  \n",
      "    1      0.672686   1.028405   0.607792                  \n",
      "    2      0.594179   0.969547   0.618182                  \n",
      "    3      0.533808   0.896067   0.615584                  \n",
      "    4      0.503998   0.92978    0.615584                  \n",
      "    5      0.496741   1.038514   0.620779                  \n",
      "    6      0.540999   1.089875   0.61039                   \n",
      "    7      0.521949   0.993727   0.597403                  \n",
      "    8      0.523055   0.949501   0.620779                  \n",
      "    9      0.479561   0.944782   0.618182                  \n",
      "    10     0.49394    0.943129   0.612987                  \n",
      "    11     0.551962   1.060471   0.633766                  \n",
      "    12     0.540045   1.097426   0.612987                  \n",
      "    13     0.533137   1.000894   0.631169                  \n",
      "    14     0.48004    0.95134    0.625974                  \n",
      "    15     0.462625   1.181825   0.620779                  \n",
      "    16     0.501588   1.169278   0.628571                  \n",
      "    17     0.539536   1.041215   0.631169                  \n",
      "    18     0.498346   0.84314    0.607792                  \n",
      "    19     0.462348   1.012747   0.631169                  \n",
      "    20     0.465065   1.169115   0.576623                  \n",
      "    21     0.487372   0.967565   0.623377                  \n",
      "    22     0.484232   1.362134   0.631169                  \n",
      "    23     0.462318   1.133444   0.628571                  \n",
      "    24     0.440232   1.210536   0.615584                  \n",
      "    25     0.452657   1.085103   0.631169                  \n",
      "    26     0.466708   1.631156   0.623377                  \n",
      "    27     0.472671   1.354807   0.623377                  \n",
      "    28     0.447569   1.398005   0.623377                  \n",
      "    29     0.45229    1.012987   0.612987                  \n",
      "    30     0.474784   1.566916   0.618182                  \n",
      "    31     0.50352    1.309797   0.527273                  \n",
      "    32     0.507299   0.949496   0.61039                   \n",
      "    33     0.483278   1.444258   0.607792                  \n",
      "    34     0.44373    1.167583   0.594805                  \n",
      "    35     0.486094   0.939538   0.594805                  \n",
      "    36     0.487805   1.557157   0.636364                  \n",
      "    37     0.471405   1.590066   0.576623                  \n",
      "    38     0.467429   1.468195   0.618182                  \n",
      "    39     0.437199   1.257067   0.628571                  \n",
      "    40     0.423474   1.543267   0.623377                  \n",
      "    41     0.447387   1.276137   0.628571                  \n",
      "    42     0.453889   1.152195   0.607792                  \n",
      "    43     0.448844   1.147463   0.625974                  \n",
      "    44     0.433708   1.251699   0.623377                  \n",
      "    45     0.429178   1.184423   0.633766                  \n",
      "    46     0.458803   1.020742   0.602597                  \n",
      "    47     0.4741     0.931818   0.576623                  \n",
      "    48     0.443262   1.034226   0.633766                  \n",
      "    49     0.41821    1.050624   0.620779                  \n",
      "\n"
     ]
    }
   ],
   "source": [
    "#lr = 0.003\n",
    "learn.fit(lr, 10, cycle_len=5, use_clr=(32,5), best_save_name='liver_class_best_1', metrics=[accuracy])\n",
    "learn.save('liver_class_1')"
   ]
  },
  {
   "cell_type": "code",
   "execution_count": 15,
   "metadata": {},
   "outputs": [
    {
     "data": {
      "application/vnd.jupyter.widget-view+json": {
       "model_id": "7355cd96d3e04bcda0824bd755129ac4",
       "version_major": 2,
       "version_minor": 0
      },
      "text/html": [
       "<p>Failed to display Jupyter Widget of type <code>HBox</code>.</p>\n",
       "<p>\n",
       "  If you're reading this message in the Jupyter Notebook or JupyterLab Notebook, it may mean\n",
       "  that the widgets JavaScript is still loading. If this message persists, it\n",
       "  likely means that the widgets JavaScript library is either not installed or\n",
       "  not enabled. See the <a href=\"https://ipywidgets.readthedocs.io/en/stable/user_install.html\">Jupyter\n",
       "  Widgets Documentation</a> for setup instructions.\n",
       "</p>\n",
       "<p>\n",
       "  If you're reading this message in another frontend (for example, a static\n",
       "  rendering on GitHub or <a href=\"https://nbviewer.jupyter.org/\">NBViewer</a>),\n",
       "  it may mean that your frontend doesn't currently support widgets.\n",
       "</p>\n"
      ],
      "text/plain": [
       "HBox(children=(IntProgress(value=0, description='Epoch'), HTML(value='')))"
      ]
     },
     "metadata": {},
     "output_type": "display_data"
    },
    {
     "name": "stdout",
     "output_type": "stream",
     "text": [
      "epoch      trn_loss   val_loss   accuracy                  \n",
      "    0      0.60776    29.52373   0.607792  \n",
      "    1      0.595494   0.871252   0.638961                  \n",
      "    2      0.548118   1.389527   0.633766                  \n",
      "    3      0.529724   0.90415    0.607792                  \n",
      "    4      0.515588   1.553944   0.644156                  \n",
      "    5      0.502664   69.969027  0.566234                  \n",
      "    6      0.500824   2.14796    0.633766                  \n",
      "    7      0.512226   1.386228   0.631169                  \n",
      "    8      0.499389   0.96274    0.625974                  \n",
      "    9      0.473418   0.935953   0.620779                  \n",
      "    10     0.497038   1.186098   0.612987                  \n",
      "    11     0.521908   0.882961   0.633766                  \n",
      "    12     0.505727   1.118172   0.623377                  \n",
      "    13     0.502184   0.893606   0.633766                  \n",
      "    14     0.496486   2.101323   0.625974                  \n",
      "    15     0.4609     2.502177   0.651948                  \n",
      "    16     0.467566   1.206381   0.631169                  \n",
      "    17     0.437779   1.184141   0.657143                  \n",
      "    18     0.447295   2.910108   0.644156                  \n",
      "    19     0.446611   2.489096   0.636364                  \n",
      "    20     0.469028   3.611999   0.633766                  \n",
      "    21     0.498968   0.84094    0.612987                  \n",
      "    22     0.488796   2.764869   0.636364                  \n",
      "    23     0.46724    0.854153   0.638961                  \n",
      "    24     0.445133   1.853613   0.623377                  \n",
      "    25     0.434146   0.863368   0.623377                  \n",
      "    26     0.430007   0.944093   0.631169                  \n",
      "    27     0.398986   1.008368   0.628571                  \n",
      "    28     0.38042    0.996084   0.644156                  \n",
      "    29     0.400181   0.896431   0.628571                  \n",
      "    30     0.4121     12.953855  0.550649                  \n",
      "    31     0.45439    0.859427   0.602597                  \n",
      "    32     0.44575    4.524499   0.638961                  \n",
      "    33     0.447286   1.256329   0.631169                  \n",
      "    34     0.408911   1.334478   0.651948                  \n",
      "    35     0.409731   1.522793   0.651948                  \n",
      "    36     0.422366   1.578794   0.654545                  \n",
      "    37     0.382117   1.337492   0.641558                  \n",
      "    38     0.338819   1.201182   0.641558                  \n",
      "    39     0.354267   1.723807   0.625974                  \n",
      "    40     0.380971   5.971254   0.555844                  \n",
      "    41     0.413112   2.108077   0.631169                  \n",
      "    42     0.44797    1.081048   0.672727                  \n",
      "    43     0.422256   0.949826   0.638961                  \n",
      "    44     0.396394   1.170065   0.644156                  \n",
      "    45     0.371612   2.298449   0.654545                  \n",
      "    46     0.334188   1.454167   0.631169                  \n",
      "    47     0.31437    1.288812   0.623377                  \n",
      "    48     0.286177   1.118709   0.638961                  \n",
      "    49     0.299547   1.119336   0.631169                  \n",
      "    50     0.308433   0.827993   0.620779                  \n",
      "    51     0.358898   1.832764   0.615584                  \n",
      "    52     0.360793   1.360128   0.633766                  \n",
      "    53     0.361228   31.498805  0.618182                  \n",
      "    54     0.352778   1.026675   0.646753                  \n",
      "    55     0.328188   1.077547   0.605195                  \n",
      "    56     0.313985   2.026682   0.641558                  \n",
      "    57     0.285427   1.14306    0.607792                  \n",
      "    58     0.268552   1.135053   0.597403                  \n",
      "    59     0.237138   1.259654   0.623377                  \n",
      "    60     0.270624   1.386884   0.631169                  \n",
      "    61     0.341443   1.703634   0.574026                  \n",
      "    62     0.377042   1.167428   0.605195                  \n",
      "    63     0.353758   3.479566   0.615584                  \n",
      "    64     0.317868   1.82875    0.587013                  \n",
      "    65     0.337798   1.228254   0.602597                  \n",
      "    66     0.293561   1.894829   0.594805                  \n",
      "    67     0.273886   3.907611   0.615584                  \n",
      "    68     0.249059   5.710847   0.615584                  \n",
      "    69     0.231676   2.022114   0.615584                  \n",
      "    70     0.254204   1.526103   0.620779                  \n",
      "    71     0.327787   0.983583   0.646753                  \n",
      "    72     0.380622   1.974289   0.641558                  \n",
      "    73     0.352772   1.778328   0.628571                  \n",
      "    74     0.401986   2.747839   0.568831                  \n",
      "    75     0.374583   1.264265   0.58961                   \n",
      "    76     0.357311   2.330841   0.6                       \n",
      "    77     0.317998   1.591501   0.576623                  \n",
      "    78     0.269498   1.764739   0.636364                  \n",
      "    79     0.227792   2.257144   0.594805                  \n",
      "    80     0.278696   111.136838 0.54026                   \n",
      "    81     0.338845   4.046343   0.592208                  \n",
      "    82     0.316375   1.499559   0.550649                  \n",
      "    83     0.322294   1.63044    0.550649                  \n",
      "    84     0.315733   5.166653   0.592208                  \n",
      "    85     0.287642   2.129349   0.618182                  \n",
      "    86     0.285564   1.293118   0.620779                  \n",
      "    87     0.336504   1.413038   0.605195                  \n",
      "    88     0.295744   33.644597  0.553247                  \n",
      "    89     0.242806   34.627619  0.576623                  \n",
      "    90     0.244156   4.89462    0.550649                  \n",
      "    91     0.28471    13.213612  0.576623                  \n",
      "    92     0.278251   3.167757   0.561039                  \n",
      "    93     0.286221   1.677126   0.607792                  \n",
      "    94     0.305512   83.397201  0.558442                  \n",
      "    95     0.265451   170.489742 0.581818                  \n",
      "    96     0.251013   2.514774   0.618182                  \n",
      "    97     0.265472   2.74655    0.638961                  \n",
      "    98     0.247541   2.61391    0.625974                  \n",
      "    99     0.232498   1.322155   0.628571                  \n",
      "\n"
     ]
    }
   ],
   "source": [
    "learn.load('liver_class_best_1')\n",
    "lrs = np.array([lr/100, lr/10, lr])\n",
    "learn.freeze_to(-2) #unfreeze res and head layers\n",
    "learn.fit(lrs, 10, cycle_len=10, use_clr=(32,10), best_save_name='liver_class_best_2', metrics=[accuracy])\n",
    "learn.save('liver_class_2')"
   ]
  },
  {
   "cell_type": "code",
   "execution_count": 20,
   "metadata": {},
   "outputs": [
    {
     "data": {
      "application/vnd.jupyter.widget-view+json": {
       "model_id": "49ac10546811430b9be1615322227f6a",
       "version_major": 2,
       "version_minor": 0
      },
      "text/html": [
       "<p>Failed to display Jupyter Widget of type <code>HBox</code>.</p>\n",
       "<p>\n",
       "  If you're reading this message in the Jupyter Notebook or JupyterLab Notebook, it may mean\n",
       "  that the widgets JavaScript is still loading. If this message persists, it\n",
       "  likely means that the widgets JavaScript library is either not installed or\n",
       "  not enabled. See the <a href=\"https://ipywidgets.readthedocs.io/en/stable/user_install.html\">Jupyter\n",
       "  Widgets Documentation</a> for setup instructions.\n",
       "</p>\n",
       "<p>\n",
       "  If you're reading this message in another frontend (for example, a static\n",
       "  rendering on GitHub or <a href=\"https://nbviewer.jupyter.org/\">NBViewer</a>),\n",
       "  it may mean that your frontend doesn't currently support widgets.\n",
       "</p>\n"
      ],
      "text/plain": [
       "HBox(children=(IntProgress(value=0, description='Epoch'), HTML(value='')))"
      ]
     },
     "metadata": {},
     "output_type": "display_data"
    },
    {
     "name": "stdout",
     "output_type": "stream",
     "text": [
      "epoch      trn_loss   val_loss   accuracy                  \n",
      "    0      0.466903   207.615027 0.618182  \n",
      "    1      0.512074   0.784765   0.644156                  \n",
      "    2      0.523039   6.214885   0.612987                  \n",
      "    3      0.496142   0.906365   0.618182                  \n",
      "    4      0.467414   1.593034   0.641558                  \n",
      "    5      0.479762   0.925802   0.638961                  \n",
      "    6      0.451653   2.623297   0.61039                   \n",
      "    7      0.429963   6.472501   0.654545                  \n",
      "    8      0.412352   5.080597   0.636364                  \n",
      "    9      0.399696   4.008613   0.646753                  \n",
      "    10     0.416781   14.163379  0.641558                  \n",
      "    11     0.44881    7.329286   0.628571                  \n",
      "    12     0.438781   3.112176   0.618182                  \n",
      "    13     0.416192   2.101975   0.636364                  \n",
      "    14     0.40666    1.072613   0.612987                  \n",
      "    15     0.36924    3.900143   0.638961                  \n",
      "    16     0.357614   4.697121   0.576623                  \n",
      "    17     0.351929   4.119728   0.631169                  \n",
      "    18     0.332877   1.678558   0.625974                  \n",
      "    19     0.346231   1.694518   0.644156                  \n",
      "    20     0.368416   2.347314   0.631169                  \n",
      "    21     0.405979   2.423079   0.612987                  \n",
      "    22     0.410241   5.388843   0.605195                  \n",
      "    23     0.379973   2.450931   0.644156                  \n",
      "    24     0.380554   5.484712   0.65974                   \n",
      "    25     0.366134   8.447649   0.618182                  \n",
      "    26     0.3552     21.807998  0.641558                  \n",
      "    27     0.388672   17.595703  0.625974                  \n",
      "    28     0.307802   9.460773   0.636364                  \n",
      "    29     0.278171   10.784218  0.605195                  \n",
      "    30     0.300011   1.22       0.587013                  \n",
      "    31     0.342479   3.231925   0.625974                  \n",
      "    32     0.321796   3.077088   0.615584                  \n",
      "    33     0.289202   1.731151   0.615584                  \n",
      "    34     0.351928   3.453603   0.605195                  \n",
      "    35     0.485376   0.717231   0.641558                  \n",
      "    36     0.540469   0.786279   0.644156                  \n",
      "    37     0.529601   0.92925    0.638961                  \n",
      "    38     0.522158   1.089655   0.636364                  \n",
      "    39     0.521509   1.440503   0.636364                  \n",
      "    40     0.540455   1.121216   0.638961                  \n",
      "    41     0.550006   3.967943   0.631169                  \n",
      "    42     0.538159   1.244352   0.618182                  \n",
      "    43     0.526357   0.978641   0.628571                  \n",
      "    44     0.512881   1.955729   0.623377                  \n",
      "    45     0.490846   1.929443   0.607792                  \n",
      "    46     0.480808   27.767989  0.558442                  \n",
      "    47     0.475223   2.25386    0.6                       \n",
      "    48     0.458864   1.765123   0.594805                  \n",
      "    49     0.464984   34.007767  0.597403                  \n",
      "    50     0.474844   38.435305  0.605195                  \n",
      "    51     0.472277   2.847608   0.623377                  \n",
      "    52     0.474654   0.791862   0.636364                  \n",
      "    53     0.482827   0.966418   0.615584                  \n",
      "    54     0.499016   0.762684   0.615584                  \n",
      "    55     0.503958   0.733755   0.636364                  \n",
      "    56     0.449689   0.82445    0.623377                  \n",
      "    57     0.440635   0.84054    0.636364                  \n",
      "    58     0.421402   0.984416   0.607792                  \n",
      "    59     0.392003   0.825588   0.615584                  \n",
      "    60     0.397975   0.897157   0.628571                  \n",
      "    61     0.439102   0.861741   0.631169                  \n",
      "    62     0.447745   0.853574   0.636364                  \n",
      "    63     0.431977   0.916023   0.587013                  \n",
      "    64     0.401768   0.794567   0.618182                  \n",
      "    65     0.386695   0.953758   0.620779                  \n",
      "    66     0.377692   0.947963   0.615584                  \n",
      "    67     0.397467   1.091066   0.636364                  \n",
      "    68     0.423999   0.880587   0.631169                  \n",
      "    69     0.452825   0.874273   0.61039                   \n",
      "    70     0.41507    0.969669   0.625974                  \n",
      "    71     0.433786   1.230887   0.58961                   \n",
      "    72     0.405288   1.324834   0.649351                  \n",
      "    73     0.415327   0.993287   0.636364                  \n",
      "    74     0.42864    0.878748   0.612987                  \n",
      "    75     0.410623   0.904517   0.607792                  \n",
      "    76     0.388266   1.080082   0.605195                  \n",
      "    77     0.403678   1.176353   0.607792                  \n",
      "    78     0.363349   1.01599    0.612987                  \n",
      "    79     0.333315   0.904683   0.605195                  \n",
      "    80     0.368362   0.877703   0.620779                  \n",
      "    81     0.381229   1.132673   0.633766                  \n",
      "    82     0.383266   0.996635   0.620779                  \n",
      "    83     0.342982   1.111896   0.612987                  \n",
      "    84     0.340262   1.350485   0.605195                  \n",
      "    85     0.328322   2.292521   0.602597                  \n",
      "    86     0.337443   1.555507   0.605195                  \n",
      "    87     0.335235   1.454121   0.612987                  \n",
      "    88     0.301375   1.11348    0.605195                  \n",
      "    89     0.278775   1.149726   0.620779                  \n",
      "    90     0.278483   1.858743   0.581818                  \n",
      "    91     0.327415   1.70656    0.6                       \n",
      "    92     0.444739   1.058979   0.61039                   \n",
      "    93     0.449653   0.891231   0.620779                  \n",
      "    94     0.422858   1.109077   0.615584                  \n",
      "    95     0.38533    1.17378    0.631169                  \n",
      "    96     0.360923   1.179638   0.618182                  \n",
      "    97     0.340154   1.184688   0.633766                  \n",
      "    98     0.339358   1.026278   0.607792                  \n",
      "    99     0.334687   1.163994   0.612987                  \n",
      "\n"
     ]
    }
   ],
   "source": [
    "learn.load('liver_class_best_2')\n",
    "lrs = np.array([lr/100, lr/10, lr])\n",
    "learn.unfreeze() #unfreeze all types, including conv layers\n",
    "learn.fit(lrs, 10, cycle_len=10, use_clr=(32,10), best_save_name='liver_class_best_3', metrics=[accuracy])\n",
    "learn.save('liver_class_3')"
   ]
  },
  {
   "cell_type": "code",
   "execution_count": 21,
   "metadata": {},
   "outputs": [],
   "source": [
    "learn.load('liver_class_best_3')"
   ]
  },
  {
   "cell_type": "code",
   "execution_count": 25,
   "metadata": {},
   "outputs": [
    {
     "data": {
      "text/html": [
       "<div>\n",
       "<style scoped>\n",
       "    .dataframe tbody tr th:only-of-type {\n",
       "        vertical-align: middle;\n",
       "    }\n",
       "\n",
       "    .dataframe tbody tr th {\n",
       "        vertical-align: top;\n",
       "    }\n",
       "\n",
       "    .dataframe thead th {\n",
       "        text-align: right;\n",
       "    }\n",
       "</style>\n",
       "<table border=\"1\" class=\"dataframe\">\n",
       "  <thead>\n",
       "    <tr style=\"text-align: right;\">\n",
       "      <th></th>\n",
       "      <th>fn</th>\n",
       "      <th>patient_id</th>\n",
       "      <th>slide_file</th>\n",
       "      <th>val</th>\n",
       "      <th>val_patient</th>\n",
       "    </tr>\n",
       "  </thead>\n",
       "  <tbody>\n",
       "    <tr>\n",
       "      <th>0</th>\n",
       "      <td>TCGA-2V-A95S-01A-01-TS1-153.tiff</td>\n",
       "      <td>TCGA-2V-A95S</td>\n",
       "      <td>TCGA-2V-A95S-01A-01-TS1.88A3BD39-B510-464C-861...</td>\n",
       "      <td>0.0</td>\n",
       "      <td>False</td>\n",
       "    </tr>\n",
       "    <tr>\n",
       "      <th>1</th>\n",
       "      <td>TCGA-2V-A95S-01A-01-TS1-266.tiff</td>\n",
       "      <td>TCGA-2V-A95S</td>\n",
       "      <td>TCGA-2V-A95S-01A-01-TS1.88A3BD39-B510-464C-861...</td>\n",
       "      <td>0.0</td>\n",
       "      <td>False</td>\n",
       "    </tr>\n",
       "    <tr>\n",
       "      <th>2</th>\n",
       "      <td>TCGA-2V-A95S-01A-01-TS1-355.tiff</td>\n",
       "      <td>TCGA-2V-A95S</td>\n",
       "      <td>TCGA-2V-A95S-01A-01-TS1.88A3BD39-B510-464C-861...</td>\n",
       "      <td>0.0</td>\n",
       "      <td>False</td>\n",
       "    </tr>\n",
       "    <tr>\n",
       "      <th>3</th>\n",
       "      <td>TCGA-2V-A95S-01A-01-TS1-413.tiff</td>\n",
       "      <td>TCGA-2V-A95S</td>\n",
       "      <td>TCGA-2V-A95S-01A-01-TS1.88A3BD39-B510-464C-861...</td>\n",
       "      <td>0.0</td>\n",
       "      <td>False</td>\n",
       "    </tr>\n",
       "    <tr>\n",
       "      <th>4</th>\n",
       "      <td>TCGA-2V-A95S-01A-01-TS1-499.tiff</td>\n",
       "      <td>TCGA-2V-A95S</td>\n",
       "      <td>TCGA-2V-A95S-01A-01-TS1.88A3BD39-B510-464C-861...</td>\n",
       "      <td>0.0</td>\n",
       "      <td>False</td>\n",
       "    </tr>\n",
       "  </tbody>\n",
       "</table>\n",
       "</div>"
      ],
      "text/plain": [
       "                                 fn    patient_id  \\\n",
       "0  TCGA-2V-A95S-01A-01-TS1-153.tiff  TCGA-2V-A95S   \n",
       "1  TCGA-2V-A95S-01A-01-TS1-266.tiff  TCGA-2V-A95S   \n",
       "2  TCGA-2V-A95S-01A-01-TS1-355.tiff  TCGA-2V-A95S   \n",
       "3  TCGA-2V-A95S-01A-01-TS1-413.tiff  TCGA-2V-A95S   \n",
       "4  TCGA-2V-A95S-01A-01-TS1-499.tiff  TCGA-2V-A95S   \n",
       "\n",
       "                                          slide_file  val  val_patient  \n",
       "0  TCGA-2V-A95S-01A-01-TS1.88A3BD39-B510-464C-861...  0.0        False  \n",
       "1  TCGA-2V-A95S-01A-01-TS1.88A3BD39-B510-464C-861...  0.0        False  \n",
       "2  TCGA-2V-A95S-01A-01-TS1.88A3BD39-B510-464C-861...  0.0        False  \n",
       "3  TCGA-2V-A95S-01A-01-TS1.88A3BD39-B510-464C-861...  0.0        False  \n",
       "4  TCGA-2V-A95S-01A-01-TS1.88A3BD39-B510-464C-861...  0.0        False  "
      ]
     },
     "execution_count": 25,
     "metadata": {},
     "output_type": "execute_result"
    }
   ],
   "source": [
    "train_csv_df.he"
   ]
  },
  {
   "cell_type": "code",
   "execution_count": 22,
   "metadata": {},
   "outputs": [
    {
     "ename": "TypeError",
     "evalue": "'NoneType' object is not iterable",
     "output_type": "error",
     "traceback": [
      "\u001b[0;31m---------------------------------------------------------------------------\u001b[0m",
      "\u001b[0;31mTypeError\u001b[0m                                 Traceback (most recent call last)",
      "\u001b[0;32m<ipython-input-22-66196ad832f9>\u001b[0m in \u001b[0;36m<module>\u001b[0;34m()\u001b[0m\n\u001b[0;32m----> 1\u001b[0;31m \u001b[0mmulti_test_preds\u001b[0m\u001b[0;34m,\u001b[0m \u001b[0mtest_y\u001b[0m \u001b[0;34m=\u001b[0m \u001b[0mlearn\u001b[0m\u001b[0;34m.\u001b[0m\u001b[0mTTA\u001b[0m\u001b[0;34m(\u001b[0m\u001b[0mis_test\u001b[0m\u001b[0;34m=\u001b[0m\u001b[0;32mTrue\u001b[0m\u001b[0;34m)\u001b[0m\u001b[0;34m\u001b[0m\u001b[0m\n\u001b[0m\u001b[1;32m      2\u001b[0m \u001b[0mtest_preds\u001b[0m \u001b[0;34m=\u001b[0m \u001b[0mnp\u001b[0m\u001b[0;34m.\u001b[0m\u001b[0mmean\u001b[0m\u001b[0;34m(\u001b[0m\u001b[0mmulti_test_preds\u001b[0m\u001b[0;34m,\u001b[0m \u001b[0;36m0\u001b[0m\u001b[0;34m)\u001b[0m\u001b[0;34m\u001b[0m\u001b[0m\n",
      "\u001b[0;32m~/fast_ai/fastai/courses/dl1/fastai/learner.py\u001b[0m in \u001b[0;36mTTA\u001b[0;34m(self, n_aug, is_test)\u001b[0m\n\u001b[1;32m    388\u001b[0m         \u001b[0mdl1\u001b[0m \u001b[0;34m=\u001b[0m \u001b[0mself\u001b[0m\u001b[0;34m.\u001b[0m\u001b[0mdata\u001b[0m\u001b[0;34m.\u001b[0m\u001b[0mtest_dl\u001b[0m     \u001b[0;32mif\u001b[0m \u001b[0mis_test\u001b[0m \u001b[0;32melse\u001b[0m \u001b[0mself\u001b[0m\u001b[0;34m.\u001b[0m\u001b[0mdata\u001b[0m\u001b[0;34m.\u001b[0m\u001b[0mval_dl\u001b[0m\u001b[0;34m\u001b[0m\u001b[0m\n\u001b[1;32m    389\u001b[0m         \u001b[0mdl2\u001b[0m \u001b[0;34m=\u001b[0m \u001b[0mself\u001b[0m\u001b[0;34m.\u001b[0m\u001b[0mdata\u001b[0m\u001b[0;34m.\u001b[0m\u001b[0mtest_aug_dl\u001b[0m \u001b[0;32mif\u001b[0m \u001b[0mis_test\u001b[0m \u001b[0;32melse\u001b[0m \u001b[0mself\u001b[0m\u001b[0;34m.\u001b[0m\u001b[0mdata\u001b[0m\u001b[0;34m.\u001b[0m\u001b[0maug_dl\u001b[0m\u001b[0;34m\u001b[0m\u001b[0m\n\u001b[0;32m--> 390\u001b[0;31m         \u001b[0mpreds1\u001b[0m\u001b[0;34m,\u001b[0m\u001b[0mtargs\u001b[0m \u001b[0;34m=\u001b[0m \u001b[0mpredict_with_targs\u001b[0m\u001b[0;34m(\u001b[0m\u001b[0mself\u001b[0m\u001b[0;34m.\u001b[0m\u001b[0mmodel\u001b[0m\u001b[0;34m,\u001b[0m \u001b[0mdl1\u001b[0m\u001b[0;34m)\u001b[0m\u001b[0;34m\u001b[0m\u001b[0m\n\u001b[0m\u001b[1;32m    391\u001b[0m         \u001b[0mpreds1\u001b[0m \u001b[0;34m=\u001b[0m \u001b[0;34m[\u001b[0m\u001b[0mpreds1\u001b[0m\u001b[0;34m]\u001b[0m\u001b[0;34m*\u001b[0m\u001b[0mmath\u001b[0m\u001b[0;34m.\u001b[0m\u001b[0mceil\u001b[0m\u001b[0;34m(\u001b[0m\u001b[0mn_aug\u001b[0m\u001b[0;34m/\u001b[0m\u001b[0;36m4\u001b[0m\u001b[0;34m)\u001b[0m\u001b[0;34m\u001b[0m\u001b[0m\n\u001b[1;32m    392\u001b[0m         \u001b[0mpreds2\u001b[0m \u001b[0;34m=\u001b[0m \u001b[0;34m[\u001b[0m\u001b[0mpredict_with_targs\u001b[0m\u001b[0;34m(\u001b[0m\u001b[0mself\u001b[0m\u001b[0;34m.\u001b[0m\u001b[0mmodel\u001b[0m\u001b[0;34m,\u001b[0m \u001b[0mdl2\u001b[0m\u001b[0;34m)\u001b[0m\u001b[0;34m[\u001b[0m\u001b[0;36m0\u001b[0m\u001b[0;34m]\u001b[0m \u001b[0;32mfor\u001b[0m \u001b[0mi\u001b[0m \u001b[0;32min\u001b[0m \u001b[0mtqdm\u001b[0m\u001b[0;34m(\u001b[0m\u001b[0mrange\u001b[0m\u001b[0;34m(\u001b[0m\u001b[0mn_aug\u001b[0m\u001b[0;34m)\u001b[0m\u001b[0;34m,\u001b[0m \u001b[0mleave\u001b[0m\u001b[0;34m=\u001b[0m\u001b[0;32mFalse\u001b[0m\u001b[0;34m)\u001b[0m\u001b[0;34m]\u001b[0m\u001b[0;34m\u001b[0m\u001b[0m\n",
      "\u001b[0;32m~/fast_ai/fastai/courses/dl1/fastai/model.py\u001b[0m in \u001b[0;36mpredict_with_targs\u001b[0;34m(m, dl)\u001b[0m\n\u001b[1;32m    243\u001b[0m \u001b[0;34m\u001b[0m\u001b[0m\n\u001b[1;32m    244\u001b[0m \u001b[0;32mdef\u001b[0m \u001b[0mpredict_with_targs\u001b[0m\u001b[0;34m(\u001b[0m\u001b[0mm\u001b[0m\u001b[0;34m,\u001b[0m \u001b[0mdl\u001b[0m\u001b[0;34m)\u001b[0m\u001b[0;34m:\u001b[0m\u001b[0;34m\u001b[0m\u001b[0m\n\u001b[0;32m--> 245\u001b[0;31m     \u001b[0mpreda\u001b[0m\u001b[0;34m,\u001b[0m\u001b[0mtarga\u001b[0m \u001b[0;34m=\u001b[0m \u001b[0mpredict_with_targs_\u001b[0m\u001b[0;34m(\u001b[0m\u001b[0mm\u001b[0m\u001b[0;34m,\u001b[0m \u001b[0mdl\u001b[0m\u001b[0;34m)\u001b[0m\u001b[0;34m\u001b[0m\u001b[0m\n\u001b[0m\u001b[1;32m    246\u001b[0m     \u001b[0;32mreturn\u001b[0m \u001b[0mto_np\u001b[0m\u001b[0;34m(\u001b[0m\u001b[0mtorch\u001b[0m\u001b[0;34m.\u001b[0m\u001b[0mcat\u001b[0m\u001b[0;34m(\u001b[0m\u001b[0mpreda\u001b[0m\u001b[0;34m)\u001b[0m\u001b[0;34m)\u001b[0m\u001b[0;34m,\u001b[0m \u001b[0mto_np\u001b[0m\u001b[0;34m(\u001b[0m\u001b[0mtorch\u001b[0m\u001b[0;34m.\u001b[0m\u001b[0mcat\u001b[0m\u001b[0;34m(\u001b[0m\u001b[0mtarga\u001b[0m\u001b[0;34m)\u001b[0m\u001b[0;34m)\u001b[0m\u001b[0;34m\u001b[0m\u001b[0m\n\u001b[1;32m    247\u001b[0m \u001b[0;34m\u001b[0m\u001b[0m\n",
      "\u001b[0;32m~/fast_ai/fastai/courses/dl1/fastai/model.py\u001b[0m in \u001b[0;36mpredict_with_targs_\u001b[0;34m(m, dl)\u001b[0m\n\u001b[1;32m    239\u001b[0m     \u001b[0;32mif\u001b[0m \u001b[0mhasattr\u001b[0m\u001b[0;34m(\u001b[0m\u001b[0mm\u001b[0m\u001b[0;34m,\u001b[0m \u001b[0;34m'reset'\u001b[0m\u001b[0;34m)\u001b[0m\u001b[0;34m:\u001b[0m \u001b[0mm\u001b[0m\u001b[0;34m.\u001b[0m\u001b[0mreset\u001b[0m\u001b[0;34m(\u001b[0m\u001b[0;34m)\u001b[0m\u001b[0;34m\u001b[0m\u001b[0m\n\u001b[1;32m    240\u001b[0m     \u001b[0mres\u001b[0m \u001b[0;34m=\u001b[0m \u001b[0;34m[\u001b[0m\u001b[0;34m]\u001b[0m\u001b[0;34m\u001b[0m\u001b[0m\n\u001b[0;32m--> 241\u001b[0;31m     \u001b[0;32mfor\u001b[0m \u001b[0;34m*\u001b[0m\u001b[0mx\u001b[0m\u001b[0;34m,\u001b[0m\u001b[0my\u001b[0m \u001b[0;32min\u001b[0m \u001b[0miter\u001b[0m\u001b[0;34m(\u001b[0m\u001b[0mdl\u001b[0m\u001b[0;34m)\u001b[0m\u001b[0;34m:\u001b[0m \u001b[0mres\u001b[0m\u001b[0;34m.\u001b[0m\u001b[0mappend\u001b[0m\u001b[0;34m(\u001b[0m\u001b[0;34m[\u001b[0m\u001b[0mget_prediction\u001b[0m\u001b[0;34m(\u001b[0m\u001b[0mm\u001b[0m\u001b[0;34m(\u001b[0m\u001b[0;34m*\u001b[0m\u001b[0mVV\u001b[0m\u001b[0;34m(\u001b[0m\u001b[0mx\u001b[0m\u001b[0;34m)\u001b[0m\u001b[0;34m)\u001b[0m\u001b[0;34m)\u001b[0m\u001b[0;34m,\u001b[0m\u001b[0my\u001b[0m\u001b[0;34m]\u001b[0m\u001b[0;34m)\u001b[0m\u001b[0;34m\u001b[0m\u001b[0m\n\u001b[0m\u001b[1;32m    242\u001b[0m     \u001b[0;32mreturn\u001b[0m \u001b[0mzip\u001b[0m\u001b[0;34m(\u001b[0m\u001b[0;34m*\u001b[0m\u001b[0mres\u001b[0m\u001b[0;34m)\u001b[0m\u001b[0;34m\u001b[0m\u001b[0m\n\u001b[1;32m    243\u001b[0m \u001b[0;34m\u001b[0m\u001b[0m\n",
      "\u001b[0;31mTypeError\u001b[0m: 'NoneType' object is not iterable"
     ]
    }
   ],
   "source": [
    "multi_test_preds, test_y = learn.TTA(is_test=True)\n",
    "test_preds = np.mean(multi_test_preds, 0)\n"
   ]
  },
  {
   "cell_type": "code",
   "execution_count": null,
   "metadata": {},
   "outputs": [],
   "source": [
    "preds.shape, accuracy(T(preds), T(y)), f1_score(y, np.argmax(preds, 1))"
   ]
  },
  {
   "cell_type": "code",
   "execution_count": null,
   "metadata": {},
   "outputs": [],
   "source": [
    "test_preds.shape, accuracy(T(test_preds), T(test_y)), f1_score(test_y, np.argmax(test_preds, 1))"
   ]
  },
  {
   "cell_type": "code",
   "execution_count": null,
   "metadata": {},
   "outputs": [],
   "source": []
  },
  {
   "cell_type": "code",
   "execution_count": null,
   "metadata": {},
   "outputs": [],
   "source": []
  },
  {
   "cell_type": "code",
   "execution_count": null,
   "metadata": {},
   "outputs": [],
   "source": [
    "y_pred,y_targ = learn.predict_with_targs()"
   ]
  },
  {
   "cell_type": "code",
   "execution_count": null,
   "metadata": {},
   "outputs": [],
   "source": [
    "print(cindex_metric(y_pred,y_targ))"
   ]
  },
  {
   "cell_type": "code",
   "execution_count": null,
   "metadata": {},
   "outputs": [],
   "source": [
    "print(y_pred.shape)\n",
    "print(md.val_dl.dataset.n)\n",
    "print(md.trn_dl.dataset.n)\n"
   ]
  },
  {
   "cell_type": "code",
   "execution_count": null,
   "metadata": {},
   "outputs": [],
   "source": [
    "y_pred_val = learn.predict_dl(md.trn_dl)\n",
    "val_df = train_csv_df.loc[~train_csv_df.val_patient,:].copy()"
   ]
  },
  {
   "cell_type": "code",
   "execution_count": null,
   "metadata": {},
   "outputs": [],
   "source": [
    "md.val_ds.fnames[:10]"
   ]
  },
  {
   "cell_type": "code",
   "execution_count": null,
   "metadata": {},
   "outputs": [],
   "source": [
    "val_df.head()"
   ]
  },
  {
   "cell_type": "code",
   "execution_count": null,
   "metadata": {},
   "outputs": [],
   "source": [
    "val_df.loc[:,'y_pred']=y_pred_val.copy()"
   ]
  },
  {
   "cell_type": "code",
   "execution_count": null,
   "metadata": {},
   "outputs": [],
   "source": [
    "plt.scatter(np.clip(val_df.y_pred,0,np.inf),val_df.val)"
   ]
  },
  {
   "cell_type": "code",
   "execution_count": null,
   "metadata": {},
   "outputs": [],
   "source": [
    "print(concordance_index(val_df.y_pred,val_df.val))\n",
    "print(cindex_metric(val_df.y_pred,val_df.val))\n"
   ]
  },
  {
   "cell_type": "markdown",
   "metadata": {},
   "source": [
    "### TEST"
   ]
  },
  {
   "cell_type": "code",
   "execution_count": null,
   "metadata": {},
   "outputs": [],
   "source": [
    "y_pred = learn.predict_dl(md_test.val_dl)\n",
    "test_df = test_csv_df.copy()\n",
    "test_df['y_pred'] = y_pred\n",
    "\n",
    "y_pred.shape, test_df.shape"
   ]
  },
  {
   "cell_type": "code",
   "execution_count": null,
   "metadata": {},
   "outputs": [],
   "source": [
    "yp_pred = test_df.groupby('patient_id').y_pred.min()\n",
    "yp_targ = test_df.groupby('patient_id').val.mean()\n",
    "concordance_index(yp_pred, yp_targ )"
   ]
  },
  {
   "cell_type": "code",
   "execution_count": null,
   "metadata": {},
   "outputs": [],
   "source": [
    "scatter(yp_targ, yp_pred)"
   ]
  },
  {
   "cell_type": "code",
   "execution_count": null,
   "metadata": {},
   "outputs": [],
   "source": [
    "test_df.val.hist()"
   ]
  },
  {
   "cell_type": "code",
   "execution_count": null,
   "metadata": {},
   "outputs": [],
   "source": [
    "train_csv_df.val.hist()"
   ]
  },
  {
   "cell_type": "code",
   "execution_count": null,
   "metadata": {},
   "outputs": [],
   "source": []
  }
 ],
 "metadata": {
  "kernelspec": {
   "display_name": "Python 3",
   "language": "python",
   "name": "python3"
  },
  "language_info": {
   "codemirror_mode": {
    "name": "ipython",
    "version": 3
   },
   "file_extension": ".py",
   "mimetype": "text/x-python",
   "name": "python",
   "nbconvert_exporter": "python",
   "pygments_lexer": "ipython3",
   "version": "3.6.3"
  },
  "varInspector": {
   "cols": {
    "lenName": 16,
    "lenType": 16,
    "lenVar": 40
   },
   "kernels_config": {
    "python": {
     "delete_cmd_postfix": "",
     "delete_cmd_prefix": "del ",
     "library": "var_list.py",
     "varRefreshCmd": "print(var_dic_list())"
    },
    "r": {
     "delete_cmd_postfix": ") ",
     "delete_cmd_prefix": "rm(",
     "library": "var_list.r",
     "varRefreshCmd": "cat(var_dic_list()) "
    }
   },
   "position": {
    "height": "499px",
    "left": "799.5px",
    "right": "115px",
    "top": "128px",
    "width": "653px"
   },
   "types_to_exclude": [
    "module",
    "function",
    "builtin_function_or_method",
    "instance",
    "_Feature"
   ],
   "window_display": false
  }
 },
 "nbformat": 4,
 "nbformat_minor": 2
}
