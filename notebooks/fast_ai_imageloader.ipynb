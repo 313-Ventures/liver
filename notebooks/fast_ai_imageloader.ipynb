{
 "cells": [
  {
   "cell_type": "code",
   "execution_count": 3,
   "metadata": {},
   "outputs": [
    {
     "name": "stdout",
     "output_type": "stream",
     "text": [
      "Populating the interactive namespace from numpy and matplotlib\n"
     ]
    }
   ],
   "source": [
    "%pylab inline\n",
    "import pandas as pd\n",
    "import numpy as np\n",
    "import fastai\n",
    "import torch\n",
    "from pathlib import Path\n",
    "import PIL\n",
    "import tqdm\n",
    "import os\n",
    "import json\n",
    "tqdm.monitor_interval = 0"
   ]
  },
  {
   "cell_type": "code",
   "execution_count": 4,
   "metadata": {},
   "outputs": [],
   "source": [
    "from fastai.conv_learner import resnet34, resnet152, transforms_top_down, CropType, \\\n",
    "    tfms_from_model, ConvLearner, optim, T\n",
    "from fastai.dataset import ImageClassifierData, Denormalize\n",
    "from fastai.sgdr import TrainingPhase, DecayType\n",
    "from lifelines.utils import concordance_index"
   ]
  },
  {
   "cell_type": "code",
   "execution_count": 5,
   "metadata": {},
   "outputs": [],
   "source": [
    "def cindex_metric(preds, targs):\n",
    "    try:\n",
    "        cindex = concordance_index(preds, targs)\n",
    "    except:\n",
    "        cindex = 0.0\n",
    "    return cindex"
   ]
  },
  {
   "cell_type": "code",
   "execution_count": 6,
   "metadata": {},
   "outputs": [
    {
     "data": {
      "text/plain": [
       "1"
      ]
     },
     "execution_count": 6,
     "metadata": {},
     "output_type": "execute_result"
    }
   ],
   "source": [
    "torch.backends.cudnn.benchmark=True\n",
    "torch.cuda.set_device(1)\n",
    "torch.cuda.current_device()\n"
   ]
  },
  {
   "cell_type": "code",
   "execution_count": 11,
   "metadata": {},
   "outputs": [],
   "source": [
    "LIVER_PATH = Path('/DATA/BIO/GDC/liver')\n",
    "LIVER_SAMPLES = LIVER_PATH/\"samples\"\n",
    "EXP_PATH = LIVER_PATH/\"exp1\"\n",
    "EXP_MODEL_PATH = EXP_PATH/\"models\"\n",
    "EXP_DATA = EXP_PATH/\"data\"\n",
    "EXP_TRAIN_DATA = EXP_DATA/\"train\"\n",
    "EXP_TEST_DATA = EXP_DATA/\"test\"\n",
    "PATIENT_JSON = EXP_PATH/'patient_split.json'\n",
    "TRAIN_CSV = EXP_PATH/'level_1_train.csv'\n",
    "TRAIN_CSV_FULL = EXP_PATH/'level_1_train_full.csv'\n",
    "TEST_CSV = EXP_PATH/'level_1_test.csv'\n",
    "TEST_CSV_FULL = EXP_PATH/'level_1_test_FULL.csv'\n",
    "\n",
    "for d in [EXP_PATH, EXP_DATA, EXP_TRAIN_DATA, EXP_TEST_DATA, EXP_MODEL_PATH]:\n",
    "    if not d.exists():\n",
    "        d.mkdir()"
   ]
  },
  {
   "cell_type": "code",
   "execution_count": 12,
   "metadata": {},
   "outputs": [],
   "source": [
    "slides = pd.read_csv('../download/slides.csv')\n",
    "def get_tissue_type(x):\n",
    "    return x.split('-')[4]\n",
    "\n",
    "tissue_type = slides.slide_file_name.apply(get_tissue_type)\n",
    "slides = slides.loc[tissue_type == '01',:].copy()"
   ]
  },
  {
   "cell_type": "code",
   "execution_count": 19,
   "metadata": {},
   "outputs": [],
   "source": [
    "try:\n",
    "    with open(PATIENT_JSON, 'r') as fobj:\n",
    "        patients = json.load(fobj)\n",
    "        train_patients = patients['train']\n",
    "        val_patients = patients['val']\n",
    "        test_patients = patients['test']\n",
    "    train_slides = slides.loc[slides.submitter_id.isin(train_patients)]\n",
    "    test_slides = slides.loc[slides.submitter_id.isin(test_patients)]\n",
    "\n",
    "    train_csv_df = pd.read_csv(TRAIN_CSV_FULL)\n",
    "    val_idx = train_csv_df.loc[train_csv_df.val_patient].index\n",
    "except:\n",
    "    slides['days_proxy'] = slides.days_to_death.fillna(slides.days_to_last_follow_up)\n",
    "    slides = slides.loc[slides.days_proxy.notnull()].copy()\n",
    "    patients = random.permutation(list(set(slides.submitter_id)))\n",
    "    split = int(0.95 * len(patients))\n",
    "    val_split = int(0.8 * split)\n",
    "    train_patients = patients[:split]\n",
    "    val_patients = patients[val_split:split]\n",
    "    test_patients = patients[split:]\n",
    "\n",
    "    patient_split = {\n",
    "        'train': list(train_patients),\n",
    "        'val': list(val_patients),\n",
    "        'test': list(test_patients)\n",
    "    }\n",
    "    with open(EXP_PATH/'patient_split.json', 'w') as fobj:\n",
    "        json.dump(patient_split, fobj)\n",
    "\n",
    "    len(train_patients), len(val_patients), len(test_patients)\n",
    "    \n",
    "    train_slides = slides.loc[slides.submitter_id.isin(train_patients)]\n",
    "    test_slides = slides.loc[slides.submitter_id.isin(test_patients)]\n",
    "    \n",
    "    \n",
    "    train_items = []\n",
    "    test_items = []\n",
    "    num_slides = []\n",
    "    samples_per_slide = 50\n",
    "    for ix, patient in tqdm.tqdm_notebook(slides.iterrows(), total=len(slides)):\n",
    "        sfp = LIVER_SAMPLES/patient.slide_file_name.upper()/\"level_1\"\n",
    "        sample_files = list(sfp.iterdir())\n",
    "        num_samples = len(sample_files)\n",
    "        num_slides.append(num_samples)\n",
    "        for fn in np.random.choice(sample_files, size=min(samples_per_slide,num_samples), replace=False):\n",
    "            if patient.submitter_id in train_patients:\n",
    "                dest_path = EXP_TRAIN_DATA\n",
    "                train = True\n",
    "                if patient.submitter_id in val_patients:\n",
    "                    val = True\n",
    "                else:\n",
    "                    val = False\n",
    "            else:\n",
    "                dest_path = EXP_TEST_DATA\n",
    "                train = False\n",
    "\n",
    "            slide_id = os.path.basename(patient.slide_file_name).split('.')[0]\n",
    "            img_id = os.path.basename(fn).split('.')[0]\n",
    "            new_fn_base = '-'.join([slide_id, img_id]) + '.tiff'\n",
    "            full_path = dest_path/new_fn_base\n",
    "\n",
    "            if not full_path.exists():\n",
    "                os.symlink(fn, dest_path/new_fn_base)\n",
    "\n",
    "            if train:\n",
    "                train_items.append({\n",
    "                    'fn': str(new_fn_base),\n",
    "                    'val': patient.days_proxy,\n",
    "                    'val_patient': val,\n",
    "                    'patient_id': patient.submitter_id\n",
    "                })\n",
    "            else:\n",
    "                test_items.append({\n",
    "                    'fn': str(new_fn_base),\n",
    "                    'val': patient.days_proxy,\n",
    "                    'patient_id': patient.submitter_id\n",
    "                })\n",
    "                \n",
    "    train_csv_df = pd.DataFrame(list(random.permutation(train_items)))\n",
    "    \n",
    "    train_csv_df[['fn','val']].to_csv(TRAIN_CSV, index=False)\n",
    "    train_csv_df.to_csv(TRAIN_CSV_FULL, index=False)\n",
    "    val_idx = train_csv_df.loc[train_csv_df.val_patient].index\n",
    "\n",
    "    test_csv_df = pd.DataFrame(test_items)\n",
    "    test_csv_df[['fn','val']].to_csv(TEST_CSV, index=False)\n",
    "    test_csv_df.to_csv(TEST_CSV_FULL, index=False)"
   ]
  },
  {
   "cell_type": "code",
   "execution_count": 20,
   "metadata": {},
   "outputs": [],
   "source": [
    "f_model = resnet34\n",
    "sz=256\n",
    "bs=16\n",
    "tfms = tfms_from_model(f_model, sz, aug_tfms=transforms_top_down, crop_type=CropType.CENTER)\n",
    "md = ImageClassifierData.from_csv(\n",
    "    EXP_PATH, \"data/train\", TRAIN_CSV, tfms=tfms, bs=bs, val_idxs=val_idx, continuous=True\n",
    ")\n",
    "\n",
    "md_test = ImageClassifierData.from_csv(\n",
    "    EXP_PATH, \"data/test\", TEST_CSV, tfms=tfms, bs=bs, val_idxs=test_csv_df.index, continuous=True\n",
    ")"
   ]
  },
  {
   "cell_type": "code",
   "execution_count": 25,
   "metadata": {},
   "outputs": [
    {
     "name": "stderr",
     "output_type": "stream",
     "text": [
      "/home/fredmonroe/repos/fastai/fastai/initializers.py:6: UserWarning: nn.init.kaiming_normal is now deprecated in favor of nn.init.kaiming_normal_.\n",
      "  if hasattr(m, 'weight'): init_fn(m.weight)\n"
     ]
    }
   ],
   "source": [
    "learn = ConvLearner.pretrained(f_model, md)\n",
    "learn.opt_fn = optim.Adam"
   ]
  },
  {
   "cell_type": "code",
   "execution_count": 26,
   "metadata": {},
   "outputs": [],
   "source": [
    "# set to true to try learning rate finder\n",
    "if False:\n",
    "    learn.save('tmp')\n",
    "    lrf=learn.lr_find()\n",
    "    learn.sched.plot(0)\n",
    "    learn.load('tmp')"
   ]
  },
  {
   "cell_type": "code",
   "execution_count": 29,
   "metadata": {},
   "outputs": [
    {
     "data": {
      "application/vnd.jupyter.widget-view+json": {
       "model_id": "e7b14f694d5a4cd9a7d6090e7222f26d",
       "version_major": 2,
       "version_minor": 0
      },
      "text/html": [
       "<p>Failed to display Jupyter Widget of type <code>HBox</code>.</p>\n",
       "<p>\n",
       "  If you're reading this message in the Jupyter Notebook or JupyterLab Notebook, it may mean\n",
       "  that the widgets JavaScript is still loading. If this message persists, it\n",
       "  likely means that the widgets JavaScript library is either not installed or\n",
       "  not enabled. See the <a href=\"https://ipywidgets.readthedocs.io/en/stable/user_install.html\">Jupyter\n",
       "  Widgets Documentation</a> for setup instructions.\n",
       "</p>\n",
       "<p>\n",
       "  If you're reading this message in another frontend (for example, a static\n",
       "  rendering on GitHub or <a href=\"https://nbviewer.jupyter.org/\">NBViewer</a>),\n",
       "  it may mean that your frontend doesn't currently support widgets.\n",
       "</p>\n"
      ],
      "text/plain": [
       "HBox(children=(IntProgress(value=0, description='Epoch', max=3), HTML(value='')))"
      ]
     },
     "metadata": {},
     "output_type": "display_data"
    },
    {
     "name": "stdout",
     "output_type": "stream",
     "text": [
      "epoch      trn_loss   val_loss   cindex_metric             \n",
      "    0      603.002195 800.480971 0.513621  \n",
      "    1      585.421094 2478.263706 0.538347                 \n",
      "    2      562.296467 9194.350705 0.538268                 \n",
      "\n"
     ]
    }
   ],
   "source": [
    "lr = 1\n",
    "learn.fit(lr, 4, cycle_len=5, use_clr=(32,5), best_save_name='liver_best_1', metrics=[cindex_metric])\n",
    "learn.save('liver_1')"
   ]
  },
  {
   "cell_type": "code",
   "execution_count": 30,
   "metadata": {},
   "outputs": [
    {
     "data": {
      "application/vnd.jupyter.widget-view+json": {
       "model_id": "ceb78b90545f492f9251c5890fc4a754",
       "version_major": 2,
       "version_minor": 0
      },
      "text/html": [
       "<p>Failed to display Jupyter Widget of type <code>HBox</code>.</p>\n",
       "<p>\n",
       "  If you're reading this message in the Jupyter Notebook or JupyterLab Notebook, it may mean\n",
       "  that the widgets JavaScript is still loading. If this message persists, it\n",
       "  likely means that the widgets JavaScript library is either not installed or\n",
       "  not enabled. See the <a href=\"https://ipywidgets.readthedocs.io/en/stable/user_install.html\">Jupyter\n",
       "  Widgets Documentation</a> for setup instructions.\n",
       "</p>\n",
       "<p>\n",
       "  If you're reading this message in another frontend (for example, a static\n",
       "  rendering on GitHub or <a href=\"https://nbviewer.jupyter.org/\">NBViewer</a>),\n",
       "  it may mean that your frontend doesn't currently support widgets.\n",
       "</p>\n"
      ],
      "text/plain": [
       "HBox(children=(IntProgress(value=0, description='Epoch', max=25), HTML(value='')))"
      ]
     },
     "metadata": {},
     "output_type": "display_data"
    },
    {
     "name": "stdout",
     "output_type": "stream",
     "text": [
      "epoch      trn_loss   val_loss   cindex_metric             \n",
      "    0      551.554762 22306.19503 0.533114  \n",
      "    1      561.991755 3249.970818 0.536006                 \n",
      "    2      558.707892 4947.480091 0.541625                 \n",
      "    3      533.588561 11863.24019 0.540837                 \n",
      "    4      538.884717 4257.014944 0.540677                 \n",
      "    5      556.945806 3307.84435 0.541895                  \n",
      "    6      544.479282 1678.641691 0.539446                 \n",
      "    7      544.092819 2677.026327 0.54445                  \n",
      "    8      554.477637 1457.640576 0.543842                 \n",
      "    9      543.793081 838.723055 0.544539                  \n",
      "    10     542.542939 2152.263631 0.541781                 \n",
      "    11     549.691347 2707.210244 0.541192                 \n",
      "    12     544.490882 572.086199 0.54222                   \n",
      "    13     545.59784  11114.520217 0.545205                \n",
      "    14     545.978016 2184.417394 0.546192                 \n",
      "    15     549.086834 3157.682395 0.542966                 \n",
      "    18     541.22171  7425.10579 0.545066                  \n",
      "    19     548.22092  3741.817081 0.546339                 \n",
      "    20     544.311813 1167.633835 0.545999                 \n",
      "    21     526.271431 2749.02948 0.544361                  \n",
      "    22     536.243241 1974.249742 0.547455                 \n",
      " 57%|█████▋    | 157/276 [00:23<00:17,  6.74it/s, loss=535]"
     ]
    },
    {
     "name": "stderr",
     "output_type": "stream",
     "text": [
      "IOPub message rate exceeded.\n",
      "The notebook server will temporarily stop sending output\n",
      "to the client in order to avoid crashing it.\n",
      "To change this limit, set the config variable\n",
      "`--NotebookApp.iopub_msg_rate_limit`.\n",
      "\n",
      "Current values:\n",
      "NotebookApp.iopub_msg_rate_limit=1000.0 (msgs/sec)\n",
      "NotebookApp.rate_limit_window=3.0 (secs)\n",
      "\n"
     ]
    }
   ],
   "source": [
    "lr = 0.1\n",
    "learn.fit(lr, 5, cycle_len=5, use_clr=(32,5), best_save_name='liver_best_2', metrics=[cindex_metric])\n",
    "learn.save('liver_2')"
   ]
  },
  {
   "cell_type": "code",
   "execution_count": 31,
   "metadata": {},
   "outputs": [
    {
     "data": {
      "application/vnd.jupyter.widget-view+json": {
       "model_id": "278c30ee356f46b5be9aaf5b1412b56c",
       "version_major": 2,
       "version_minor": 0
      },
      "text/html": [
       "<p>Failed to display Jupyter Widget of type <code>HBox</code>.</p>\n",
       "<p>\n",
       "  If you're reading this message in the Jupyter Notebook or JupyterLab Notebook, it may mean\n",
       "  that the widgets JavaScript is still loading. If this message persists, it\n",
       "  likely means that the widgets JavaScript library is either not installed or\n",
       "  not enabled. See the <a href=\"https://ipywidgets.readthedocs.io/en/stable/user_install.html\">Jupyter\n",
       "  Widgets Documentation</a> for setup instructions.\n",
       "</p>\n",
       "<p>\n",
       "  If you're reading this message in another frontend (for example, a static\n",
       "  rendering on GitHub or <a href=\"https://nbviewer.jupyter.org/\">NBViewer</a>),\n",
       "  it may mean that your frontend doesn't currently support widgets.\n",
       "</p>\n"
      ],
      "text/plain": [
       "HBox(children=(IntProgress(value=0, description='Epoch'), HTML(value='')))"
      ]
     },
     "metadata": {},
     "output_type": "display_data"
    },
    {
     "name": "stdout",
     "output_type": "stream",
     "text": [
      "epoch      trn_loss   val_loss   cindex_metric             \n",
      "    0      548.186578 1509.549918 0.549685  \n",
      "    1      537.366973 1490.522408 0.549524                 \n",
      "    2      546.453126 2955.044755 0.549019                 \n",
      "    3      544.846399 4976.962902 0.55018                  \n",
      "    4      531.532194 3072.78719 0.549287                  \n",
      " 39%|███▉      | 108/276 [00:16<00:25,  6.55it/s, loss=537]"
     ]
    },
    {
     "name": "stderr",
     "output_type": "stream",
     "text": [
      "IOPub message rate exceeded.\n",
      "The notebook server will temporarily stop sending output\n",
      "to the client in order to avoid crashing it.\n",
      "To change this limit, set the config variable\n",
      "`--NotebookApp.iopub_msg_rate_limit`.\n",
      "\n",
      "Current values:\n",
      "NotebookApp.iopub_msg_rate_limit=1000.0 (msgs/sec)\n",
      "NotebookApp.rate_limit_window=3.0 (secs)\n",
      "\n"
     ]
    },
    {
     "name": "stdout",
     "output_type": "stream",
     "text": [
      "    18     546.536333 8736.088889 0.552171                 \n",
      "    19     539.992203 2961.616533 0.551824                 \n",
      "    20     525.109199 1841.075263 0.553065                 \n",
      "    21     537.418972 2841.226772 0.5532                   \n",
      "    22     535.331294 650.487131 0.553758                  \n",
      " 73%|███████▎  | 201/276 [00:29<00:11,  6.72it/s, loss=524]"
     ]
    },
    {
     "name": "stderr",
     "output_type": "stream",
     "text": [
      "IOPub message rate exceeded.\n",
      "The notebook server will temporarily stop sending output\n",
      "to the client in order to avoid crashing it.\n",
      "To change this limit, set the config variable\n",
      "`--NotebookApp.iopub_msg_rate_limit`.\n",
      "\n",
      "Current values:\n",
      "NotebookApp.iopub_msg_rate_limit=1000.0 (msgs/sec)\n",
      "NotebookApp.rate_limit_window=3.0 (secs)\n",
      "\n"
     ]
    },
    {
     "name": "stdout",
     "output_type": "stream",
     "text": [
      "    36     530.941138 2314.774708 0.554468                 \n",
      "    37     531.380823 1057.580442 0.553101                 \n",
      "    38     526.461036 6737.829406 0.55179                  \n",
      "    39     521.682113 613.774312 0.553219                  \n",
      "    40     523.855915 8926.949837 0.553691                 \n",
      " 83%|████████▎ | 230/276 [00:34<00:06,  6.76it/s, loss=542]"
     ]
    },
    {
     "name": "stderr",
     "output_type": "stream",
     "text": [
      "IOPub message rate exceeded.\n",
      "The notebook server will temporarily stop sending output\n",
      "to the client in order to avoid crashing it.\n",
      "To change this limit, set the config variable\n",
      "`--NotebookApp.iopub_msg_rate_limit`.\n",
      "\n",
      "Current values:\n",
      "NotebookApp.iopub_msg_rate_limit=1000.0 (msgs/sec)\n",
      "NotebookApp.rate_limit_window=3.0 (secs)\n",
      "\n"
     ]
    },
    {
     "name": "stdout",
     "output_type": "stream",
     "text": [
      "    54     524.859027 4800.732614 0.556392                 \n",
      "    55     516.348416 5294.322077 0.555997                 \n",
      "    56     528.233206 5723.134182 0.556007                 \n",
      "    57     544.068859 761.616477 0.55565                   \n",
      "    58     529.325719 837.299875 0.555614                  \n",
      "    59     532.074066 951.784065 0.557648                  \n",
      "  2%|▏         | 5/276 [00:01<01:36,  2.80it/s, loss=530]"
     ]
    },
    {
     "name": "stderr",
     "output_type": "stream",
     "text": [
      "IOPub message rate exceeded.\n",
      "The notebook server will temporarily stop sending output\n",
      "to the client in order to avoid crashing it.\n",
      "To change this limit, set the config variable\n",
      "`--NotebookApp.iopub_msg_rate_limit`.\n",
      "\n",
      "Current values:\n",
      "NotebookApp.iopub_msg_rate_limit=1000.0 (msgs/sec)\n",
      "NotebookApp.rate_limit_window=3.0 (secs)\n",
      "\n"
     ]
    },
    {
     "name": "stdout",
     "output_type": "stream",
     "text": [
      "    72     521.893009 831.945382 0.557532                  \n",
      "    73     526.927372 2724.213276 0.558199                 \n",
      "    74     535.246683 768.349073 0.557966                  \n",
      "    75     524.061324 626.231605 0.556747                  \n",
      "    76     536.626489 845.429391 0.557405                  \n",
      "    77     518.003369 1235.820839 0.557966                 \n",
      " 18%|█▊        | 49/276 [00:07<00:35,  6.34it/s, loss=533]"
     ]
    },
    {
     "name": "stderr",
     "output_type": "stream",
     "text": [
      "IOPub message rate exceeded.\n",
      "The notebook server will temporarily stop sending output\n",
      "to the client in order to avoid crashing it.\n",
      "To change this limit, set the config variable\n",
      "`--NotebookApp.iopub_msg_rate_limit`.\n",
      "\n",
      "Current values:\n",
      "NotebookApp.iopub_msg_rate_limit=1000.0 (msgs/sec)\n",
      "NotebookApp.rate_limit_window=3.0 (secs)\n",
      "\n"
     ]
    },
    {
     "name": "stdout",
     "output_type": "stream",
     "text": [
      "    91     545.994536 824.215958 0.562581                  \n",
      "    92     525.171862 792.05211  0.561143                  \n",
      "    93     527.547871 600.209535 0.559371                  \n",
      "    94     509.504974 645.038302 0.560644                  \n",
      "    95     533.764349 708.448046 0.561507                  \n",
      " 42%|████▏     | 116/276 [00:17<00:24,  6.52it/s, loss=521]"
     ]
    },
    {
     "name": "stderr",
     "output_type": "stream",
     "text": [
      "IOPub message rate exceeded.\n",
      "The notebook server will temporarily stop sending output\n",
      "to the client in order to avoid crashing it.\n",
      "To change this limit, set the config variable\n",
      "`--NotebookApp.iopub_msg_rate_limit`.\n",
      "\n",
      "Current values:\n",
      "NotebookApp.iopub_msg_rate_limit=1000.0 (msgs/sec)\n",
      "NotebookApp.rate_limit_window=3.0 (secs)\n",
      "\n"
     ]
    }
   ],
   "source": [
    "lr = 0.01\n",
    "learn.fit(lr, 20, cycle_len=5, use_clr=(32,5), best_save_name='liver_best_3', metrics=[cindex_metric])\n",
    "learn.save('liver_3')"
   ]
  },
  {
   "cell_type": "code",
   "execution_count": 32,
   "metadata": {},
   "outputs": [
    {
     "data": {
      "application/vnd.jupyter.widget-view+json": {
       "model_id": "2e64d6b32c9a407194c50b70634c33e2",
       "version_major": 2,
       "version_minor": 0
      },
      "text/html": [
       "<p>Failed to display Jupyter Widget of type <code>HBox</code>.</p>\n",
       "<p>\n",
       "  If you're reading this message in the Jupyter Notebook or JupyterLab Notebook, it may mean\n",
       "  that the widgets JavaScript is still loading. If this message persists, it\n",
       "  likely means that the widgets JavaScript library is either not installed or\n",
       "  not enabled. See the <a href=\"https://ipywidgets.readthedocs.io/en/stable/user_install.html\">Jupyter\n",
       "  Widgets Documentation</a> for setup instructions.\n",
       "</p>\n",
       "<p>\n",
       "  If you're reading this message in another frontend (for example, a static\n",
       "  rendering on GitHub or <a href=\"https://nbviewer.jupyter.org/\">NBViewer</a>),\n",
       "  it may mean that your frontend doesn't currently support widgets.\n",
       "</p>\n"
      ],
      "text/plain": [
       "HBox(children=(IntProgress(value=0, description='Epoch'), HTML(value='')))"
      ]
     },
     "metadata": {},
     "output_type": "display_data"
    },
    {
     "name": "stdout",
     "output_type": "stream",
     "text": [
      "epoch      trn_loss   val_loss   cindex_metric             \n",
      "    0      557.441113 3738.753223 0.53385   \n",
      "    1      538.927193 7607.744861 0.545522                 \n",
      "    2      541.59516  12303.387441 0.550914                \n",
      "    3      518.73888  31861.259616 0.571591                \n",
      "    4      494.946207 603.233637 0.569304                  \n",
      " 39%|███▉      | 107/276 [00:23<00:37,  4.48it/s, loss=506]"
     ]
    },
    {
     "name": "stderr",
     "output_type": "stream",
     "text": [
      "IOPub message rate exceeded.\n",
      "The notebook server will temporarily stop sending output\n",
      "to the client in order to avoid crashing it.\n",
      "To change this limit, set the config variable\n",
      "`--NotebookApp.iopub_msg_rate_limit`.\n",
      "\n",
      "Current values:\n",
      "NotebookApp.iopub_msg_rate_limit=1000.0 (msgs/sec)\n",
      "NotebookApp.rate_limit_window=3.0 (secs)\n",
      "\n"
     ]
    },
    {
     "name": "stdout",
     "output_type": "stream",
     "text": [
      "    18     345.823824 7519.791252 0.667039                 \n",
      "    19     343.730241 127174.772511 0.675058               \n",
      "    20     401.277261 10156.132758 0.632756                \n",
      "    21     404.779356 1224.485397 0.6218                   \n",
      "    22     406.08545  31786.274435 0.616091                \n",
      " 54%|█████▍    | 150/276 [00:32<00:27,  4.62it/s, loss=380]"
     ]
    },
    {
     "name": "stderr",
     "output_type": "stream",
     "text": [
      "IOPub message rate exceeded.\n",
      "The notebook server will temporarily stop sending output\n",
      "to the client in order to avoid crashing it.\n",
      "To change this limit, set the config variable\n",
      "`--NotebookApp.iopub_msg_rate_limit`.\n",
      "\n",
      "Current values:\n",
      "NotebookApp.iopub_msg_rate_limit=1000.0 (msgs/sec)\n",
      "NotebookApp.rate_limit_window=3.0 (secs)\n",
      "\n"
     ]
    },
    {
     "name": "stdout",
     "output_type": "stream",
     "text": [
      "    36     282.457317 4566.594483 0.703808                 \n",
      "    37     264.230692 10328.52242 0.710643                 \n",
      "    38     251.444274 753.131528 0.719796                  \n",
      "    39     237.822007 598.275967 0.725104                  \n",
      "    40     306.608605 1293.671853 0.674151                 \n",
      " 58%|█████▊    | 159/276 [00:34<00:25,  4.57it/s, loss=312]"
     ]
    },
    {
     "name": "stderr",
     "output_type": "stream",
     "text": [
      "IOPub message rate exceeded.\n",
      "The notebook server will temporarily stop sending output\n",
      "to the client in order to avoid crashing it.\n",
      "To change this limit, set the config variable\n",
      "`--NotebookApp.iopub_msg_rate_limit`.\n",
      "\n",
      "Current values:\n",
      "NotebookApp.iopub_msg_rate_limit=1000.0 (msgs/sec)\n",
      "NotebookApp.rate_limit_window=3.0 (secs)\n",
      "\n"
     ]
    },
    {
     "name": "stdout",
     "output_type": "stream",
     "text": [
      "    54     244.055937 239.193515 0.716997                  \n",
      "    55     230.371757 2306.561392 0.725472                 \n",
      "    56     212.615087 203.065352 0.742438                  \n",
      "    57     199.839276 425.021142 0.737038                  \n",
      "    58     193.045923 331.65708  0.749585                  \n",
      " 67%|██████▋   | 185/276 [00:40<00:19,  4.55it/s, loss=183]"
     ]
    },
    {
     "name": "stderr",
     "output_type": "stream",
     "text": [
      "IOPub message rate exceeded.\n",
      "The notebook server will temporarily stop sending output\n",
      "to the client in order to avoid crashing it.\n",
      "To change this limit, set the config variable\n",
      "`--NotebookApp.iopub_msg_rate_limit`.\n",
      "\n",
      "Current values:\n",
      "NotebookApp.iopub_msg_rate_limit=1000.0 (msgs/sec)\n",
      "NotebookApp.rate_limit_window=3.0 (secs)\n",
      "\n"
     ]
    },
    {
     "name": "stdout",
     "output_type": "stream",
     "text": [
      "    72     244.590292 224.935869 0.723588                  \n",
      "    73     208.570241 250.708579 0.738775                  \n",
      "    74     204.469009 201.863837 0.748692                  \n",
      "    75     189.804977 225.643422 0.756993                  \n",
      "    76     174.902257 185.832887 0.759915                  \n",
      " 83%|████████▎ | 229/276 [00:49<00:10,  4.60it/s, loss=164]"
     ]
    },
    {
     "name": "stderr",
     "output_type": "stream",
     "text": [
      "IOPub message rate exceeded.\n",
      "The notebook server will temporarily stop sending output\n",
      "to the client in order to avoid crashing it.\n",
      "To change this limit, set the config variable\n",
      "`--NotebookApp.iopub_msg_rate_limit`.\n",
      "\n",
      "Current values:\n",
      "NotebookApp.iopub_msg_rate_limit=1000.0 (msgs/sec)\n",
      "NotebookApp.rate_limit_window=3.0 (secs)\n",
      "\n"
     ]
    },
    {
     "name": "stdout",
     "output_type": "stream",
     "text": [
      "    90     187.818144 211.469999 0.729577                  \n",
      "    91     221.728876 3125.388185 0.738992                 \n",
      "    92     213.444377 695.947882 0.744216                  \n",
      "    93     196.631751 181.102764 0.755527                  \n",
      "    94     171.744613 197.592143 0.761399                  \n",
      "    95     168.651694 777.69499  0.758081                  \n",
      "  0%|          | 1/276 [00:01<04:57,  1.08s/it, loss=169]"
     ]
    },
    {
     "name": "stderr",
     "output_type": "stream",
     "text": [
      "IOPub message rate exceeded.\n",
      "The notebook server will temporarily stop sending output\n",
      "to the client in order to avoid crashing it.\n",
      "To change this limit, set the config variable\n",
      "`--NotebookApp.iopub_msg_rate_limit`.\n",
      "\n",
      "Current values:\n",
      "NotebookApp.iopub_msg_rate_limit=1000.0 (msgs/sec)\n",
      "NotebookApp.rate_limit_window=3.0 (secs)\n",
      "\n"
     ]
    }
   ],
   "source": [
    "lrs = np.array([lr/100, lr/10, lr])\n",
    "learn.freeze_to(-2)\n",
    "learn.fit(lrs, 10, cycle_len=10, use_clr=(32,10), best_save_name='liver_best_4', metrics=[cindex_metric])\n",
    "learn.save('liver_4')"
   ]
  },
  {
   "cell_type": "code",
   "execution_count": 66,
   "metadata": {},
   "outputs": [
    {
     "data": {
      "application/vnd.jupyter.widget-view+json": {
       "model_id": "6c7e429a16854f14bb7ae984513f8d74",
       "version_major": 2,
       "version_minor": 0
      },
      "text/html": [
       "<p>Failed to display Jupyter Widget of type <code>HBox</code>.</p>\n",
       "<p>\n",
       "  If you're reading this message in the Jupyter Notebook or JupyterLab Notebook, it may mean\n",
       "  that the widgets JavaScript is still loading. If this message persists, it\n",
       "  likely means that the widgets JavaScript library is either not installed or\n",
       "  not enabled. See the <a href=\"https://ipywidgets.readthedocs.io/en/stable/user_install.html\">Jupyter\n",
       "  Widgets Documentation</a> for setup instructions.\n",
       "</p>\n",
       "<p>\n",
       "  If you're reading this message in another frontend (for example, a static\n",
       "  rendering on GitHub or <a href=\"https://nbviewer.jupyter.org/\">NBViewer</a>),\n",
       "  it may mean that your frontend doesn't currently support widgets.\n",
       "</p>\n"
      ],
      "text/plain": [
       "HBox(children=(IntProgress(value=0, description='Epoch', max=10), HTML(value='')))"
      ]
     },
     "metadata": {},
     "output_type": "display_data"
    },
    {
     "name": "stdout",
     "output_type": "stream",
     "text": [
      "epoch      trn_loss   val_loss   cindex_metric             \n",
      "    0      174.981989 209.116802 0.743673  \n",
      "    1      193.999884 216.696528 0.755679                  \n",
      "    2      174.133351 174.831888 0.759622                  \n",
      "    3      166.915496 163.193418 0.767542                  \n",
      "    4      176.259088 163.771943 0.759412                  \n",
      "    5      155.261857 939.851968 0.770377                  \n",
      "    6      151.961062 133.097705 0.778853                  \n",
      "    7      138.630279 133.703139 0.780801                  \n",
      "    8      129.787115 237.492949 0.782897                  \n",
      "    9      130.055211 117.720141 0.78833                   \n",
      "\n"
     ]
    }
   ],
   "source": [
    "lrs = np.array([lr/100, lr/10, lr])\n",
    "learn.freeze_to(-2)\n",
    "learn.fit(lrs, 1, cycle_len=10, use_clr=(32,10), best_save_name='liver_best_5', metrics=[cindex_metric])\n",
    "learn.save('liver_5')"
   ]
  },
  {
   "cell_type": "code",
   "execution_count": 33,
   "metadata": {},
   "outputs": [],
   "source": [
    "def eval_model(learn, model_name):\n",
    "    learn.save('tmp')\n",
    "    learn.load(model_name)\n",
    "    y_pred, y_targ = learn.predict_with_targs()\n",
    "    learn.load('tmp')\n",
    "    return learn.crit(T(y_pred), T(y_targ)), cindex_metric(y_pred, y_targ)"
   ]
  },
  {
   "cell_type": "code",
   "execution_count": 67,
   "metadata": {},
   "outputs": [
    {
     "name": "stdout",
     "output_type": "stream",
     "text": [
      "liver_1 (tensor(9194.3516, device='cuda:1'), 0.5708342592520156)\n",
      "liver_best_1 (tensor(2478.2639, device='cuda:1'), 0.5632086847420128)\n",
      "liver_2 (tensor(683.5911, device='cuda:1'), 0.6008112319710077)\n",
      "liver_best_2 (tensor(683.5911, device='cuda:1'), 0.6008112319710077)\n",
      "liver_3 (tensor(5451.8164, device='cuda:1'), 0.6135976417987639)\n",
      "liver_best_3 (tensor(824.2160, device='cuda:1'), 0.6155594617401238)\n",
      "liver_4 (tensor(315.7702, device='cuda:1'), 0.9002067749972144)\n",
      "liver_best_4 (tensor(315.7702, device='cuda:1'), 0.9002067749972144)\n",
      "liver_5 (tensor(117.7201, device='cuda:1'), 0.9093368441773476)\n",
      "liver_best_5 (tensor(117.7201, device='cuda:1'), 0.9093368441773476)\n"
     ]
    }
   ],
   "source": [
    "for mname in ['liver_1', 'liver_best_1', \n",
    "              'liver_2', 'liver_best_2', \n",
    "              'liver_3', 'liver_best_3', \n",
    "              'liver_4', 'liver_best_4',\n",
    "              'liver_5', 'liver_best_5'\n",
    "             ]:\n",
    "    print(mname,eval_model(learn, mname))"
   ]
  },
  {
   "cell_type": "code",
   "execution_count": 68,
   "metadata": {},
   "outputs": [],
   "source": [
    "learn.load('liver_best_5')"
   ]
  },
  {
   "cell_type": "code",
   "execution_count": 69,
   "metadata": {},
   "outputs": [
    {
     "data": {
      "text/plain": [
       "((1450, 1), (1450, 4))"
      ]
     },
     "execution_count": 69,
     "metadata": {},
     "output_type": "execute_result"
    }
   ],
   "source": [
    "y_pred = learn.predict_dl(md_test.val_dl)\n",
    "y_pred.shape, test_df.shape"
   ]
  },
  {
   "cell_type": "code",
   "execution_count": 70,
   "metadata": {},
   "outputs": [],
   "source": [
    "test_df = test_csv_df.copy()\n",
    "test_df['y_pred'] = y_pred"
   ]
  },
  {
   "cell_type": "code",
   "execution_count": 71,
   "metadata": {},
   "outputs": [],
   "source": [
    "yp_pred = test_df.groupby('patient_id').y_pred.min()\n",
    "yp_targ = test_df.groupby('patient_id').val.mean()"
   ]
  },
  {
   "cell_type": "code",
   "execution_count": 72,
   "metadata": {},
   "outputs": [
    {
     "data": {
      "text/plain": [
       "0.49707602339181284"
      ]
     },
     "execution_count": 72,
     "metadata": {},
     "output_type": "execute_result"
    }
   ],
   "source": [
    "concordance_index(yp_pred, yp_targ )"
   ]
  },
  {
   "cell_type": "code",
   "execution_count": 73,
   "metadata": {},
   "outputs": [
    {
     "data": {
      "text/plain": [
       "tensor(1032.8519, device='cuda:1')"
      ]
     },
     "execution_count": 73,
     "metadata": {},
     "output_type": "execute_result"
    }
   ],
   "source": [
    "learn.crit(T(yp_pred), T(yp_targ))"
   ]
  },
  {
   "cell_type": "code",
   "execution_count": 74,
   "metadata": {},
   "outputs": [
    {
     "data": {
      "text/plain": [
       "<matplotlib.collections.PathCollection at 0x7f7e9d6ca240>"
      ]
     },
     "execution_count": 74,
     "metadata": {},
     "output_type": "execute_result"
    },
    {
     "data": {
      "image/png": "[encoded data removed]",
      "text/plain": [
       "<matplotlib.figure.Figure at 0x7f7ea527a3c8>"
      ]
     },
     "metadata": {},
     "output_type": "display_data"
    }
   ],
   "source": [
    "scatter(yp_targ, yp_pred)"
   ]
  },
  {
   "cell_type": "code",
   "execution_count": 75,
   "metadata": {},
   "outputs": [
    {
     "data": {
      "text/plain": [
       "<matplotlib.axes._subplots.AxesSubplot at 0x7f7e9d708fd0>"
      ]
     },
     "execution_count": 75,
     "metadata": {},
     "output_type": "execute_result"
    },
    {
     "data": {
      "image/png": "[encoded data removed]",
      "text/plain": [
       "<matplotlib.figure.Figure at 0x7f7e9d65d080>"
      ]
     },
     "metadata": {},
     "output_type": "display_data"
    }
   ],
   "source": [
    "test_df.val.hist()"
   ]
  },
  {
   "cell_type": "code",
   "execution_count": 77,
   "metadata": {},
   "outputs": [
    {
     "data": {
      "text/plain": [
       "<matplotlib.axes._subplots.AxesSubplot at 0x7f7ea4f930f0>"
      ]
     },
     "execution_count": 77,
     "metadata": {},
     "output_type": "execute_result"
    },
    {
     "data": {
      "image/png": "[encoded data removed]",
      "text/plain": [
       "<matplotlib.figure.Figure at 0x7f7ea4d56978>"
      ]
     },
     "metadata": {},
     "output_type": "display_data"
    }
   ],
   "source": [
    "train_csv_df.val.hist()"
   ]
  },
  {
   "cell_type": "code",
   "execution_count": null,
   "metadata": {},
   "outputs": [],
   "source": []
  }
 ],
 "metadata": {
  "kernelspec": {
   "display_name": "Python 3",
   "language": "python",
   "name": "python3"
  },
  "language_info": {
   "codemirror_mode": {
    "name": "ipython",
    "version": 3
   },
   "file_extension": ".py",
   "mimetype": "text/x-python",
   "name": "python",
   "nbconvert_exporter": "python",
   "pygments_lexer": "ipython3",
   "version": "3.6.3"
  }
 },
 "nbformat": 4,
 "nbformat_minor": 2
}
