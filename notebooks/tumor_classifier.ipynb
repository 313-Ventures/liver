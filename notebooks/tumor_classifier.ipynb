{
 "cells": [
  {
   "cell_type": "code",
   "execution_count": 1,
   "metadata": {},
   "outputs": [
    {
     "name": "stdout",
     "output_type": "stream",
     "text": [
      "Populating the interactive namespace from numpy and matplotlib\n"
     ]
    }
   ],
   "source": [
    "%pylab inline\n",
    "import pandas as pd\n",
    "import numpy as np\n",
    "import fastai\n",
    "import torch\n",
    "from pathlib import Path\n",
    "import PIL\n",
    "import tqdm\n",
    "import os\n",
    "import json\n",
    "from fastai.conv_learner import resnet34, resnet152, transforms_top_down, CropType, \\\n",
    "    tfms_from_model, ConvLearner, optim, T\n",
    "from fastai.dataset import ImageClassifierData, Denormalize, folder_source\n",
    "from fastai.metrics import accuracy, f1\n",
    "from fastai.sgdr import TrainingPhase, DecayType\n",
    "from lifelines.utils import concordance_index\n",
    "from collections import defaultdict\n",
    "from sklearn.metrics import f1_score\n",
    "\n",
    "tqdm.monitor_interval = 0"
   ]
  },
  {
   "cell_type": "code",
   "execution_count": 2,
   "metadata": {},
   "outputs": [
    {
     "data": {
      "text/plain": [
       "1"
      ]
     },
     "execution_count": 2,
     "metadata": {},
     "output_type": "execute_result"
    }
   ],
   "source": [
    "torch.backends.cudnn.benchmark=True\n",
    "torch.cuda.set_device(1)\n",
    "torch.cuda.current_device()"
   ]
  },
  {
   "cell_type": "code",
   "execution_count": 3,
   "metadata": {},
   "outputs": [],
   "source": [
    "LIVER_PATH = Path('/DATA/BIO/GDC/liver')\n",
    "LIVER_SAMPLES = LIVER_PATH/\"samples\"\n",
    "EXP_PATH = LIVER_PATH/\"exp3\"\n",
    "EXP_MODEL_PATH = EXP_PATH/\"models\"\n",
    "\n",
    "for d in [EXP_PATH, EXP_MODEL_PATH]:\n",
    "    if not d.exists():\n",
    "        d.mkdir()"
   ]
  },
  {
   "cell_type": "code",
   "execution_count": 4,
   "metadata": {},
   "outputs": [
    {
     "name": "stdout",
     "output_type": "stream",
     "text": [
      "skip: train - already exists\n",
      "skip: valid - already exists\n",
      "skip: test - already exists\n",
      "CPU times: user 752 ms, sys: 92 ms, total: 844 ms\n",
      "Wall time: 844 ms\n"
     ]
    }
   ],
   "source": [
    "%%time\n",
    "slides = pd.read_csv(LIVER_PATH/'slides.csv')\n",
    "slides = slides.loc[slides.sample_type_id.isin([1,11])]\n",
    "slide_level = 'level_1'\n",
    "samples_per_slide = 20\n",
    "split = 0.7\n",
    "val_split = 0.7\n",
    "\n",
    "# 400 tumor, 90 normal - so we'll do 4.44 more normal samples\n",
    "num_tiles_by_category = {\n",
    "    'tumor': samples_per_slide,\n",
    "    'normal': int(4.44 * samples_per_slide),\n",
    "    'test': int(4 * samples_per_slide)\n",
    "}\n",
    "\n",
    "slide_info = defaultdict(dict)\n",
    "\n",
    "def pull_tiles(slides, num_tiles, slide_level):\n",
    "    tiles = []\n",
    "    for i, slide in slides.iterrows():\n",
    "        slide_file_name = slide.slide_file_name\n",
    "        sfp = LIVER_SAMPLES/slide_file_name.upper()/slide_level\n",
    "        sample_files = list(sfp.iterdir())\n",
    "        num_samples = len(sample_files)\n",
    "        for fn in np.random.choice(sample_files, size=min(num_tiles,num_samples), replace=False):\n",
    "            tiles.append(fn)\n",
    "    return tiles\n",
    "        \n",
    "for grp_type, grp_slides in slides.groupby('sample_type_id'):\n",
    "    num_slides = len(grp_slides)\n",
    "    slide_test_split = int(split * num_slides)\n",
    "    slide_val_split = int(val_split * slide_test_split)\n",
    "    train_slides = grp_slides.iloc[0:slide_val_split]\n",
    "    val_slides = grp_slides.iloc[slide_val_split:slide_test_split]\n",
    "    test_slides = grp_slides.iloc[slide_test_split:]\n",
    "\n",
    "    slide_category = {1: 'tumor', 11: 'normal'}[grp_type]\n",
    "    num_tiles = num_tiles_by_category[slide_category]\n",
    "    test_num_tiles = num_tiles_by_category['test']\n",
    "    \n",
    "    slide_info['train'][slide_category] = pull_tiles(train_slides, num_tiles, slide_level)\n",
    "    slide_info['valid'][slide_category] = pull_tiles(val_slides, num_tiles, slide_level)\n",
    "    slide_info['test'][slide_category] = pull_tiles(test_slides, test_num_tiles, slide_level)\n",
    "    \n",
    "for folder in slide_info:\n",
    "    if (EXP_PATH/folder).exists():\n",
    "        print(\"skip: %s - already exists\" % folder)\n",
    "    else:\n",
    "        for catname in slide_info[folder]:\n",
    "            for tile_fn in slide_info[folder][catname]:\n",
    "                dest_path = EXP_PATH/folder/catname\n",
    "                dest_path.mkdir(parents=True, exist_ok=True)\n",
    "\n",
    "                slide_id = '_'.join(os.path.basename(tile_fn.parents[1]).split('.')[0:2])\n",
    "                img_id = os.path.basename(tile_fn).split('.')[0]\n",
    "                new_fn_base = '-'.join([slide_id, img_id]) + '.tiff'\n",
    "                full_path = dest_path/new_fn_base\n",
    "\n",
    "                if not full_path.exists():\n",
    "                    os.symlink(tile_fn, dest_path/new_fn_base)\n"
   ]
  },
  {
   "cell_type": "code",
   "execution_count": 5,
   "metadata": {},
   "outputs": [],
   "source": [
    "f_model = resnet152\n",
    "sz=128\n",
    "bs=16\n",
    "tfms = tfms_from_model(f_model, sz, aug_tfms=transforms_top_down, crop_type=CropType.CENTER)\n",
    "md = ImageClassifierData.from_paths(EXP_PATH, tfms=tfms, test_name='test', test_with_labels=True)"
   ]
  },
  {
   "cell_type": "code",
   "execution_count": 6,
   "metadata": {},
   "outputs": [],
   "source": [
    "learn = ConvLearner.pretrained(f_model, md)\n",
    "learn.opt_fn = optim.Adam"
   ]
  },
  {
   "cell_type": "code",
   "execution_count": null,
   "metadata": {},
   "outputs": [],
   "source": [
    "learn.save('tmp_wt')\n",
    "lrf=learn.lr_find(start_lr=1e-06, end_lr=100)\n",
    "learn.sched.plot(0)\n",
    "learn.load('tmp_wt')"
   ]
  },
  {
   "cell_type": "code",
   "execution_count": null,
   "metadata": {},
   "outputs": [],
   "source": [
    "lr = 0.05\n",
    "learn.fit(lr, 1, cycle_len=10, use_clr=(32,10), best_save_name='liver_cat_best_1', metrics=[accuracy])\n",
    "learn.save('liver_cat_1')"
   ]
  },
  {
   "cell_type": "code",
   "execution_count": null,
   "metadata": {},
   "outputs": [],
   "source": [
    "learn.load('liver_cat_best_1')\n",
    "lrs = np.array([lr/100, lr/10, lr])\n",
    "learn.freeze_to(-2)\n",
    "learn.fit(lrs, 1, cycle_len=10, use_clr=(32,10), best_save_name='liver_cat_best_2', metrics=[accuracy])\n",
    "learn.save('liver_cat_2')"
   ]
  },
  {
   "cell_type": "code",
   "execution_count": null,
   "metadata": {},
   "outputs": [],
   "source": [
    "learn.load('liver_cat_best_2')\n",
    "learn.unfreeze()\n",
    "learn.fit(lrs, 1, cycle_len=20, use_clr=(32,10), best_save_name='liver_cat_best_3', metrics=[accuracy])\n",
    "learn.save('liver_cat_3')"
   ]
  },
  {
   "cell_type": "code",
   "execution_count": null,
   "metadata": {},
   "outputs": [],
   "source": [
    "learn.load('liver_cat_best_3')\n",
    "learn.unfreeze()\n",
    "learn.fit(lrs, 1, cycle_len=50, use_clr=(32,10), best_save_name='liver_cat_best_4', metrics=[accuracy])\n",
    "learn.save('liver_cat_4')\n",
    "learn.load('liver_cat_best_4')"
   ]
  },
  {
   "cell_type": "code",
   "execution_count": 7,
   "metadata": {},
   "outputs": [
    {
     "name": "stdout",
     "output_type": "stream",
     "text": [
      "                                             \r"
     ]
    }
   ],
   "source": [
    "learn.load('liver_cat_best_4')\n",
    "multi_preds, y = learn.TTA()\n",
    "preds = np.mean(multi_preds, 0)"
   ]
  },
  {
   "cell_type": "code",
   "execution_count": 8,
   "metadata": {},
   "outputs": [
    {
     "name": "stdout",
     "output_type": "stream",
     "text": [
      "                                             \r"
     ]
    }
   ],
   "source": [
    "multi_test_preds, test_y = learn.TTA(is_test=True)\n",
    "test_preds = np.mean(multi_test_preds, 0)"
   ]
  },
  {
   "cell_type": "code",
   "execution_count": 9,
   "metadata": {},
   "outputs": [
    {
     "data": {
      "text/plain": [
       "((3285, 2), tensor(0.9924, device='cuda:1'), 0.9925395404356908)"
      ]
     },
     "execution_count": 9,
     "metadata": {},
     "output_type": "execute_result"
    }
   ],
   "source": [
    "preds.shape, accuracy(T(preds), T(y)), f1_score(y, np.argmax(preds, 1))"
   ]
  },
  {
   "cell_type": "code",
   "execution_count": 10,
   "metadata": {},
   "outputs": [
    {
     "data": {
      "text/plain": [
       "((11605, 2), tensor(0.9870, device='cuda:1'), 0.9920211360634082)"
      ]
     },
     "execution_count": 10,
     "metadata": {},
     "output_type": "execute_result"
    }
   ],
   "source": [
    "test_preds.shape, accuracy(T(test_preds), T(test_y)), f1_score(test_y, np.argmax(test_preds, 1))"
   ]
  },
  {
   "cell_type": "code",
   "execution_count": 11,
   "metadata": {},
   "outputs": [
    {
     "data": {
      "text/plain": [
       "(0.5092846270928463, 0.8199913830245584)"
      ]
     },
     "execution_count": 11,
     "metadata": {},
     "output_type": "execute_result"
    }
   ],
   "source": [
    "y.mean(), test_y.mean()"
   ]
  },
  {
   "cell_type": "code",
   "execution_count": 12,
   "metadata": {},
   "outputs": [
    {
     "data": {
      "text/plain": [
       "(0.5108066971080669, 0.810771219302025)"
      ]
     },
     "execution_count": 12,
     "metadata": {},
     "output_type": "execute_result"
    }
   ],
   "source": [
    "np.argmax(preds,1).mean(), np.argmax(test_preds,1).mean(), "
   ]
  },
  {
   "cell_type": "code",
   "execution_count": null,
   "metadata": {},
   "outputs": [],
   "source": []
  }
 ],
 "metadata": {
  "kernelspec": {
   "display_name": "Python 3",
   "language": "python",
   "name": "python3"
  },
  "language_info": {
   "codemirror_mode": {
    "name": "ipython",
    "version": 3
   },
   "file_extension": ".py",
   "mimetype": "text/x-python",
   "name": "python",
   "nbconvert_exporter": "python",
   "pygments_lexer": "ipython3",
   "version": "3.6.5"
  }
 },
 "nbformat": 4,
 "nbformat_minor": 2
}
