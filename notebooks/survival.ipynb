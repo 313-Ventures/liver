{
 "cells": [
  {
   "cell_type": "code",
   "execution_count": 1,
   "metadata": {},
   "outputs": [
    {
     "name": "stdout",
     "output_type": "stream",
     "text": [
      "Populating the interactive namespace from numpy and matplotlib\n"
     ]
    }
   ],
   "source": [
    "%pylab inline\n",
    "import pandas as pd\n",
    "import numpy as np\n"
   ]
  },
  {
   "cell_type": "code",
   "execution_count": 2,
   "metadata": {},
   "outputs": [],
   "source": [
    "from lifelines.utils import k_fold_cross_validation\n",
    "from lifelines.utils import concordance_index, _concordance_index\n",
    "from lifelines import CoxPHFitter"
   ]
  },
  {
   "cell_type": "code",
   "execution_count": 3,
   "metadata": {},
   "outputs": [],
   "source": [
    "# simulating a feature matrix for 100 samples with 50 features\n",
    "data = np.random.random((100, 5))\n",
    "\n",
    "# simulating time of observations (days) min 10 days, max 2500 days\n",
    "observed_time = np.random.randint(10, 2500, (100))\n",
    "\n",
    "# simulating event (death) 0 did not occur 1 occured\n",
    "observed_event = np.random.randint(0, 2, (100))\n",
    "\n",
    "# create a sig feature\n",
    "data[:,2] = observed_time + np.random.random(size=len(observed_time)) * observed_time\n",
    "\n",
    "test_data = np.random.random((25, 5))\n",
    "test_observed_time = np.random.randint(10, 2500, (25))\n",
    "test_observed_event = np.random.randint(0, 2, (25))\n",
    "\n",
    "# create a sig feature\n",
    "test_data[:,2] = test_observed_time + np.random.random(size=len(test_observed_time))* test_observed_time\n"
   ]
  },
  {
   "cell_type": "code",
   "execution_count": 4,
   "metadata": {},
   "outputs": [
    {
     "name": "stdout",
     "output_type": "stream",
     "text": [
      "pvalue: 0.32649706438195414 for feature nb: 0\n",
      "pvalue: 0.7597311507076233 for feature nb: 1\n",
      "pvalue: 3.8395341671563113e-10 for feature nb: 2\n",
      "feature nb 2 is overall significant!\n",
      "score (mean) (c-index) for 0.8873573805232834\n",
      "validation c-index: 0.9108910891089109\n",
      "pvalue: 0.4645098417997843 for feature nb: 3\n",
      "pvalue: 0.5053291501177191 for feature nb: 4\n"
     ]
    }
   ],
   "source": [
    "for feature_id, feature_vect in enumerate(data.T):\n",
    "        dataframe = pd.DataFrame({\n",
    "            'feature nb{0}'.format(feature_id): feature_vect,\n",
    "            'event': observed_event,\n",
    "            'time': observed_time})\n",
    "\n",
    "        #building a coxph model to see the significance of each independant feature\n",
    "        cox_model = CoxPHFitter()\n",
    "\n",
    "        cox_model.fit(dataframe,\n",
    "                      duration_col='time',\n",
    "                      event_col='event')\n",
    "\n",
    "        pvalue = cox_model.summary.p[0]\n",
    "        print('pvalue: {0} for feature nb: {1}'.format(\n",
    "            pvalue, feature_id))\n",
    "\n",
    "        if pvalue > 0.05:\n",
    "            #print('feature nb {0} not overall significant!'.format(feature_id))\n",
    "            continue\n",
    "\n",
    "        print('feature nb {0} is overall significant!'.format(feature_id))\n",
    "        # test the robustness: score close / higher to 0.7 is a good sign\n",
    "        scores = k_fold_cross_validation(cox_model,\n",
    "                                         dataframe,\n",
    "                                         duration_col='time',\n",
    "                                         event_col='event',\n",
    "                                         k=3)\n",
    "\n",
    "        print('score (mean) (c-index) for {0}'.format(np.mean(scores)))\n",
    "\n",
    "        # validate the features on the test set\n",
    "        test_dataframe = pd.DataFrame({\n",
    "            'feature nb{0}'.format(feature_id): test_data.T[feature_id],\n",
    "            'event': test_observed_event,\n",
    "            'time': test_observed_time})\n",
    "\n",
    "        inferred_time = cox_model.predict_expectation(test_dataframe)\n",
    "\n",
    "        validation_c_index = concordance_index(\n",
    "            test_observed_time,\n",
    "            inferred_time,\n",
    "            test_observed_event)\n",
    "\n",
    "        print('validation c-index: {0}'.format(validation_c_index))\n"
   ]
  },
  {
   "cell_type": "markdown",
   "metadata": {},
   "source": [
    "this is the hazard function:\n",
    "h(t)=h0(t)×exp(b1x1+b2x2+...+bpxp)\n",
    "\n",
    "that is regressed on... i feel like we could learn that?\n"
   ]
  },
  {
   "cell_type": "code",
   "execution_count": 5,
   "metadata": {},
   "outputs": [],
   "source": [
    "df = pd.read_csv('../download/slides.csv')\n",
    "\n",
    "def tissue_type(x):\n",
    "    return x.split('-')[4]\n",
    "\n",
    "df = df.loc[df.slide_file_name.apply(tissue_type) == '01',:].copy()"
   ]
  },
  {
   "cell_type": "code",
   "execution_count": 6,
   "metadata": {},
   "outputs": [],
   "source": [
    "alive = df[df.days_to_death.isnull()]\n",
    "dead = df[df.days_to_death.notnull()]"
   ]
  },
  {
   "cell_type": "code",
   "execution_count": 15,
   "metadata": {},
   "outputs": [
    {
     "data": {
      "text/plain": [
       "count     82.00000\n",
       "mean     166.93919\n",
       "std       20.59417\n",
       "min       -9.00000\n",
       "25%      173.00000\n",
       "50%      115.50000\n",
       "75%      205.50000\n",
       "max      417.00000\n",
       "dtype: float64"
      ]
     },
     "execution_count": 15,
     "metadata": {},
     "output_type": "execute_result"
    }
   ],
   "source": [
    "alive.days_to_last_follow_up.hist()"
   ]
  },
  {
   "cell_type": "code",
   "execution_count": 16,
   "metadata": {},
   "outputs": [
    {
     "data": {
      "text/plain": [
       "<matplotlib.axes._subplots.AxesSubplot at 0x7efe603534a8>"
      ]
     },
     "execution_count": 16,
     "metadata": {},
     "output_type": "execute_result"
    },
    {
     "data": {
      "image/png": "[encoded data removed]",
      "text/plain": [
       "<matplotlib.figure.Figure at 0x7efe60345780>"
      ]
     },
     "metadata": {},
     "output_type": "display_data"
    }
   ],
   "source": [
    "dead.days_to_death.hist()"
   ]
  },
  {
   "cell_type": "code",
   "execution_count": 11,
   "metadata": {},
   "outputs": [],
   "source": [
    "no_cancer = df.loc[df.percent_tumor_cells == 0,:]\n",
    "cancer = df.loc[df.percent_tumor_cells > 0,:]"
   ]
  },
  {
   "cell_type": "code",
   "execution_count": 12,
   "metadata": {},
   "outputs": [
    {
     "data": {
      "text/plain": [
       "count      54.000000\n",
       "mean      991.351852\n",
       "std       852.992162\n",
       "min         9.000000\n",
       "25%       355.000000\n",
       "50%       777.500000\n",
       "75%      1525.750000\n",
       "max      3258.000000\n",
       "Name: days_to_death, dtype: float64"
      ]
     },
     "execution_count": 12,
     "metadata": {},
     "output_type": "execute_result"
    }
   ],
   "source": [
    "no_cancer.days_to_death.describe()"
   ]
  },
  {
   "cell_type": "code",
   "execution_count": 13,
   "metadata": {},
   "outputs": [
    {
     "data": {
      "text/plain": [
       "count     140.000000\n",
       "mean      693.371429\n",
       "std       692.666709\n",
       "min         9.000000\n",
       "25%       209.250000\n",
       "50%       435.000000\n",
       "75%       860.750000\n",
       "max      3258.000000\n",
       "Name: days_to_death, dtype: float64"
      ]
     },
     "execution_count": 13,
     "metadata": {},
     "output_type": "execute_result"
    }
   ],
   "source": [
    "cancer.days_to_death.describe()"
   ]
  },
  {
   "cell_type": "code",
   "execution_count": 44,
   "metadata": {},
   "outputs": [],
   "source": [
    "end_days = df[['days_to_last_follow_up','days_to_death']].max(axis=1)\n",
    "life = df.days_to_birth.abs() + end_days"
   ]
  },
  {
   "cell_type": "code",
   "execution_count": 59,
   "metadata": {},
   "outputs": [
    {
     "data": {
      "text/plain": [
       "<matplotlib.axes._subplots.AxesSubplot at 0x7f51c4bad7b8>"
      ]
     },
     "execution_count": 59,
     "metadata": {},
     "output_type": "execute_result"
    },
    {
     "data": {
      "image/png": "[encoded data removed]",
      "text/plain": [
       "<matplotlib.figure.Figure at 0x7f51c495d278>"
      ]
     },
     "metadata": {},
     "output_type": "display_data"
    }
   ],
   "source": []
  },
  {
   "cell_type": "code",
   "execution_count": 28,
   "metadata": {},
   "outputs": [
    {
     "data": {
      "text/plain": [
       "<matplotlib.collections.PathCollection at 0x7f51d15b3e10>"
      ]
     },
     "execution_count": 28,
     "metadata": {},
     "output_type": "execute_result"
    },
    {
     "data": {
      "image/png": "[encoded data removed]",
      "text/plain": [
       "<matplotlib.figure.Figure at 0x7f51d14dc390>"
      ]
     },
     "metadata": {},
     "output_type": "display_data"
    }
   ],
   "source": [
    "scatter(cancer.days_to_death, cancer.days_to_birth.abs())"
   ]
  },
  {
   "cell_type": "code",
   "execution_count": 31,
   "metadata": {},
   "outputs": [
    {
     "data": {
      "text/plain": [
       "<matplotlib.axes._subplots.AxesSubplot at 0x7f51d034f080>"
      ]
     },
     "execution_count": 31,
     "metadata": {},
     "output_type": "execute_result"
    },
    {
     "data": {
      "image/png": "[encoded data removed]",
      "text/plain": [
       "<matplotlib.figure.Figure at 0x7f51d0342f60>"
      ]
     },
     "metadata": {},
     "output_type": "display_data"
    }
   ],
   "source": [
    "(cancer.days_to_birth.abs() / 365.25).hist()"
   ]
  },
  {
   "cell_type": "code",
   "execution_count": 33,
   "metadata": {},
   "outputs": [
    {
     "data": {
      "text/plain": [
       "<matplotlib.axes._subplots.AxesSubplot at 0x7f51d02d26d8>"
      ]
     },
     "execution_count": 33,
     "metadata": {},
     "output_type": "execute_result"
    },
    {
     "data": {
      "image/png": "[encoded data removed]",
      "text/plain": [
       "<matplotlib.figure.Figure at 0x7f51d02d2080>"
      ]
     },
     "metadata": {},
     "output_type": "display_data"
    }
   ],
   "source": [
    "(no_cancer.days_to_birth.abs() / 365.25).hist()"
   ]
  },
  {
   "cell_type": "code",
   "execution_count": null,
   "metadata": {},
   "outputs": [],
   "source": []
  }
 ],
 "metadata": {
  "kernelspec": {
   "display_name": "Python 3",
   "language": "python",
   "name": "python3"
  },
  "language_info": {
   "codemirror_mode": {
    "name": "ipython",
    "version": 3
   },
   "file_extension": ".py",
   "mimetype": "text/x-python",
   "name": "python",
   "nbconvert_exporter": "python",
   "pygments_lexer": "ipython3",
   "version": "3.6.3"
  }
 },
 "nbformat": 4,
 "nbformat_minor": 2
}
