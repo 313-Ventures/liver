{
 "cells": [
  {
   "cell_type": "code",
   "execution_count": 1,
   "metadata": {},
   "outputs": [
    {
     "name": "stdout",
     "output_type": "stream",
     "text": [
      "Populating the interactive namespace from numpy and matplotlib\n"
     ]
    }
   ],
   "source": [
    "%pylab inline\n",
    "%load_ext autoreload\n",
    "%autoreload 2\n",
    "\n",
    "import pandas as pd\n",
    "import numpy as np\n",
    "from pathlib import Path\n",
    "from lifelines.utils import concordance_index, survival_table_from_events\n",
    "from lifelines import CoxPHFitter, AalenAdditiveFitter\n",
    "from sklearn.preprocessing import MinMaxScaler, StandardScaler"
   ]
  },
  {
   "cell_type": "code",
   "execution_count": 2,
   "metadata": {},
   "outputs": [],
   "source": [
    "LIVER_PATH = Path('/DATA/BIO/GDC/liver')\n",
    "LIVER_SAMPLES = LIVER_PATH/\"samples\"\n",
    "EXP_PATH = LIVER_PATH/\"exp_cox\"\n",
    "\n",
    "\n",
    "for d in [EXP_PATH]:\n",
    "    if not d.exists():\n",
    "        d.mkdir()"
   ]
  },
  {
   "cell_type": "code",
   "execution_count": 3,
   "metadata": {},
   "outputs": [],
   "source": [
    "slides = pd.read_csv(LIVER_PATH/'slides.csv')\n",
    "slides = slides.loc[slides.sample_type_id == 1]\n",
    "slide_level = 'level_1'\n",
    "slides['days_proxy'] = slides.days_to_death.fillna(slides.days_to_last_follow_up)\n",
    "slides = slides.loc[slides.days_proxy.notnull()]\n",
    "slides['death'] = True\n",
    "slides.loc[slides.days_to_last_follow_up.notnull(),'death'] = False    \n",
    "slides['death'] = slides['death'].astype(int)\n",
    "slides['sec_loc'] = (slides.section_location == 'TOP').astype(int)\n",
    "\n",
    "features =  [    \n",
    "    'age_at_diagnosis'\n",
    "]\n",
    "\n",
    "targets = [\n",
    "    'days_proxy',\n",
    "    'death',  \n",
    "]\n",
    "\n",
    "fit_df = slides.groupby('submitter_id').first()[features+targets].dropna()\n",
    "n_patients = len(fit_df)\n",
    "\n",
    "\n",
    "\n",
    "fit_df['age_at_diagnosis'] = (fit_df['age_at_diagnosis']+1).apply(np.log) - 6.0\n",
    "    \n",
    "    \n",
    "\n",
    "#fit_df['age_at_diagnosis'] = (fit_df['age_at_diagnosis'] - 5000) / 30000\n",
    "\n",
    "idx = np.random.permutation(fit_df.index)\n",
    "split = int(0.8 * n_patients)\n",
    "val_split = int(0.5 * split)"
   ]
  },
  {
   "cell_type": "code",
   "execution_count": 4,
   "metadata": {},
   "outputs": [
    {
     "data": {
      "text/plain": [
       "count    373.000000\n",
       "mean       3.958913\n",
       "std        0.275079\n",
       "min        2.676417\n",
       "25%        3.848820\n",
       "50%        4.019402\n",
       "75%        4.136779\n",
       "max        4.377265\n",
       "Name: age_at_diagnosis, dtype: float64"
      ]
     },
     "execution_count": 4,
     "metadata": {},
     "output_type": "execute_result"
    }
   ],
   "source": [
    "fit_df['age_at_diagnosis'].describe()"
   ]
  },
  {
   "cell_type": "code",
   "execution_count": 5,
   "metadata": {},
   "outputs": [
    {
     "data": {
      "text/plain": [
       "(149, 149, 75)"
      ]
     },
     "execution_count": 5,
     "metadata": {},
     "output_type": "execute_result"
    }
   ],
   "source": [
    "def replicate_with_jjitter(df, n=10, jitter=0.01):\n",
    "    new_dfs = [df]\n",
    "    for i in range(n):\n",
    "        df_jitter = df.copy()\n",
    "        jit_seq = 1.0 - np.random.randn(len(df_jitter)) * 0.01\n",
    "        df_jitter['age_at_diagnosis'] *= jit_seq\n",
    "        jit_seq = 1.0 - np.random.randn(len(df_jitter)) * 0.01\n",
    "        df_jitter['days_proxy'] *= jit_seq\n",
    "        new_dfs.append(df_jitter)\n",
    "    return pd.concat(new_dfs)\n",
    "\n",
    "train_df = fit_df.loc[idx[0:val_split]]\n",
    "val_df = fit_df.loc[idx[val_split:split]]\n",
    "test_df = fit_df.loc[idx[split:]]\n",
    "\n",
    "        \n",
    "len(train_df), len(val_df), len(test_df)"
   ]
  },
  {
   "cell_type": "code",
   "execution_count": 6,
   "metadata": {},
   "outputs": [
    {
     "data": {
      "text/plain": [
       "<lifelines.CoxPHFitter: fitted with 149 observations, 114 censored>"
      ]
     },
     "execution_count": 6,
     "metadata": {},
     "output_type": "execute_result"
    }
   ],
   "source": [
    "model = CoxPHFitter()\n",
    "model.fit(train_df, 'days_proxy', event_col='death')"
   ]
  },
  {
   "cell_type": "code",
   "execution_count": 7,
   "metadata": {},
   "outputs": [
    {
     "data": {
      "text/plain": [
       "0.6583947266382318"
      ]
     },
     "execution_count": 7,
     "metadata": {},
     "output_type": "execute_result"
    }
   ],
   "source": [
    "pred_df = train_df\n",
    "y_pred = model.predict_expectation(pred_df[features]).values\n",
    "concordance_index(pred_df.days_proxy, y_pred, event_observed=pred_df.death )"
   ]
  },
  {
   "cell_type": "code",
   "execution_count": 8,
   "metadata": {},
   "outputs": [
    {
     "data": {
      "text/plain": [
       "0.5048592493297587"
      ]
     },
     "execution_count": 8,
     "metadata": {},
     "output_type": "execute_result"
    }
   ],
   "source": [
    "pred_df = val_df\n",
    "y_pred = model.predict_expectation(pred_df[features]).values\n",
    "concordance_index(pred_df.days_proxy, y_pred, event_observed=pred_df.death )"
   ]
  },
  {
   "cell_type": "code",
   "execution_count": 9,
   "metadata": {},
   "outputs": [
    {
     "data": {
      "text/plain": [
       "0.6330845771144279"
      ]
     },
     "execution_count": 9,
     "metadata": {},
     "output_type": "execute_result"
    }
   ],
   "source": [
    "pred_df = test_df\n",
    "y_pred = model.predict_expectation(pred_df[features]).values\n",
    "concordance_index(pred_df.days_proxy, y_pred, event_observed=pred_df.death )"
   ]
  },
  {
   "cell_type": "code",
   "execution_count": 10,
   "metadata": {},
   "outputs": [
    {
     "data": {
      "text/plain": [
       "(44849, 44849, 22575)"
      ]
     },
     "execution_count": 10,
     "metadata": {},
     "output_type": "execute_result"
    }
   ],
   "source": [
    "mult = 300\n",
    "train_df = replicate_with_jjitter(train_df, mult)\n",
    "val_df = replicate_with_jjitter(val_df, mult)\n",
    "test_df = replicate_with_jjitter(test_df, mult)\n",
    "\n",
    "len(train_df), len(val_df), len(test_df)"
   ]
  },
  {
   "cell_type": "code",
   "execution_count": null,
   "metadata": {},
   "outputs": [],
   "source": []
  },
  {
   "cell_type": "code",
   "execution_count": null,
   "metadata": {},
   "outputs": [],
   "source": []
  },
  {
   "cell_type": "code",
   "execution_count": 11,
   "metadata": {},
   "outputs": [],
   "source": [
    "from fastai import *\n",
    "from fastai.column_data import *\n",
    "import torch\n",
    "import torch.nn as nn\n",
    "import torch.nn.functional as F\n",
    "import torch.optim as optim\n",
    "\n",
    "LIVER_PATH = Path('/DATA/BIO/GDC/liver')\n",
    "LIVER_SAMPLES = LIVER_PATH/\"samples\"\n",
    "EXP_PATH = LIVER_PATH/\"exp_age\"\n",
    "EXP_MODEL_PATH = EXP_PATH/\"models\"\n",
    "    \n",
    "for d in [EXP_PATH, EXP_MODEL_PATH]:\n",
    "    if not d.exists():\n",
    "        d.mkdir()"
   ]
  },
  {
   "cell_type": "code",
   "execution_count": 12,
   "metadata": {},
   "outputs": [],
   "source": [
    "class SurvialDataset(Dataset):\n",
    "    def __init__(self, xs, ys, is_reg=False, is_multi=False):\n",
    "        self.xs = xs\n",
    "        self.y = ys\n",
    "        self.is_reg = is_reg\n",
    "        self.is_multi = is_multi\n",
    "\n",
    "    def __len__(self): return len(self.y)\n",
    "    def __getitem__(self, idx): \n",
    "        return [self.xs[idx]] + [self.y[idx]]\n",
    "\n",
    "def get_data(bs):\n",
    "    def make_ds(df):\n",
    "        return SurvialDataset(df[features].values, df[targets].values)\n",
    "    train_ds = make_ds(train_df)\n",
    "    val_ds = make_ds(val_df)\n",
    "    test_ds = make_ds(test_df)\n",
    "\n",
    "    train_dl = DataLoader(train_ds, batch_size=bs, shuffle=True)\n",
    "    val_dl = DataLoader(val_ds, batch_size=bs, shuffle=True)\n",
    "    test_dl = DataLoader(test_ds, batch_size=bs, shuffle=True)\n",
    "\n",
    "    mdata = ModelData.from_dls(EXP_PATH, train_dl, val_dl, test_dl=test_dl)\n",
    "    return mdata\n",
    "\n",
    "bs = 512\n",
    "data = get_data(bs)"
   ]
  },
  {
   "cell_type": "code",
   "execution_count": 13,
   "metadata": {},
   "outputs": [],
   "source": [
    "class ConcordanceIndex(Callback):\n",
    "    def __init__(self, ):\n",
    "        self.reset()\n",
    "\n",
    "    def on_epoch_begin(self, metrics):\n",
    "        self.reset()\n",
    "\n",
    "    def on_epoch_end(self, metrics):\n",
    "        #import pdb; pdb.set_trace()\n",
    "        ci = concordance_index(\n",
    "            self.evt_times, \n",
    "            self.preds, \n",
    "            self.evt_types\n",
    "        )\n",
    "        print('ci: ', ci)\n",
    "        self.reset()\n",
    "\n",
    "    def reset(self):\n",
    "        self.preds = np.array([])\n",
    "        self.evt_times = np.array([])\n",
    "        self.evt_types = np.array([])\n",
    "        self.mcount = 0\n",
    "       \n",
    "    def concordance_metric(self, preds, target):\n",
    "        #import pdb; pdb.set_trace()\n",
    "        #print(preds.sum().item())\n",
    "        self.evt_times = np.concatenate([self.evt_times, np.array(target[:,0])])\n",
    "        self.evt_types = np.concatenate([self.evt_types, np.array(target[:,1])])\n",
    "        self.preds = np.concatenate([self.preds, np.array(preds[:,0])])\n",
    "        self.mcount += 1\n",
    "        return 0.0 #self.mcount  "
   ]
  },
  {
   "cell_type": "code",
   "execution_count": 33,
   "metadata": {},
   "outputs": [],
   "source": [
    "def convex(x, y, sigma=1.0): \n",
    "    '''\n",
    "    any convex function probably would work\n",
    "    sigma here looks like a hyperparam\n",
    "    '''\n",
    "    #print('sigma:', sigma)\n",
    "    return torch.exp(-(x-y)/sigma)\n",
    "\n",
    "def deephit_loss(preds, evt_times, evt_types, eps=1e-2, sigma=1.0):\n",
    "    #import pdb; pdb.set_trace()\n",
    "    t_max = preds.shape[1]\n",
    "    preds_cdf = torch.cumsum(preds, dim=1)\n",
    "    \n",
    "    uncensored_idx = evt_types > 0\n",
    "    censored_idx = evt_types == 0\n",
    "    n_unc = uncensored_idx.sum().item()\n",
    "    n_cen = censored_idx.sum().item()\n",
    "    \n",
    "    # prob loss\n",
    "    if n_unc > 0:\n",
    "        l1_part1_probs = preds[uncensored_idx, evt_times[uncensored_idx]]\n",
    "        l1_part_1 = torch.sum(torch.log(l1_part1_probs))\n",
    "    else:\n",
    "        l1_part_1 = 0.0\n",
    "    \n",
    "    if n_cen > 0:\n",
    "        #import pdb; pdb.set_trace()\n",
    "        l1_part_2 = torch.log(1 - preds_cdf[censored_idx, evt_times[censored_idx]] + eps).sum()\n",
    "    else:\n",
    "        l1_part_2 = 0.0\n",
    "        \n",
    "    l1_loss = -(l1_part_1 + l1_part_2)\n",
    "    \n",
    "    # pairwise concordance loss\n",
    "    if True:\n",
    "        preds_cdf_uncensored = preds_cdf[uncensored_idx]\n",
    "        evt_times_uncensored = evt_times[uncensored_idx]\n",
    "\n",
    "        pair_idxs = [] # (si, i, j)\n",
    "        for idx_i, si in enumerate(evt_times_uncensored):\n",
    "            for idx_j, sj in enumerate(evt_times_uncensored):\n",
    "                if idx_i != idx_j:\n",
    "                    if si < sj:\n",
    "                        pair_idxs.append([si, idx_i, idx_j])\n",
    "\n",
    "        # index to si cdf values for both paient\n",
    "        pairwise_loss = 0.0\n",
    "        for si, idx_i, idx_j in pair_idxs:\n",
    "            Fki = preds_cdf_uncensored[idx_i, si]\n",
    "            Fkj = preds_cdf_uncensored[idx_j, si]\n",
    "            pairwise_loss += convex(Fki, Fkj, sigma=sigma)\n",
    "    else:\n",
    "        pairwise_loss = l1_loss\n",
    "\n",
    "    return l1_loss, pairwise_loss\n",
    "\n",
    "def custom_loss(preds, target, beta = 0.1):\n",
    "    evt_times = target[:,0].long()\n",
    "    evt_types = target[:,1].long()\n",
    "    \n",
    "    l1, l2 = deephit_loss(preds, evt_times, evt_types, eps=1e-5, sigma=1.0)\n",
    "    #print(\"peek\\n\",l1.item(),l2.item())\n",
    "    loss = l1 + beta * l2\n",
    "    return loss"
   ]
  },
  {
   "cell_type": "code",
   "execution_count": 34,
   "metadata": {},
   "outputs": [],
   "source": [
    "class SurvModel(nn.Module):\n",
    "    def __init__(self, n_feat, hidden):\n",
    "        super().__init__()\n",
    "        self.in_layer = nn.Linear(in_features=n_feat, out_features=hidden)\n",
    "        self.bn_in = nn.BatchNorm1d(hidden)\n",
    "        \n",
    "        self.layer_1 = nn.Linear(in_features=hidden, out_features=hidden//2)\n",
    "        self.bn1 = nn.BatchNorm1d(hidden//2)\n",
    "\n",
    "        self.out_layer = nn.Linear(in_features=hidden//2, out_features=t_max)\n",
    "        self.out_activation = nn.Softmax()\n",
    "\n",
    "    def forward(self, x):\n",
    "        #import pdb; pdb.set_trace()\n",
    "        x = self.in_layer(x)\n",
    "        x = self.bn_in(x)\n",
    "        x = F.relu(x)\n",
    "        x = F.dropout(x)\n",
    "\n",
    "        x = self.layer_1(x) \n",
    "        x = self.bn1(x)\n",
    "        x = F.relu(x)\n",
    "        x = F.dropout(x) \n",
    "\n",
    "        x = self.out_layer(x)\n",
    "        x = self.out_activation(x)\n",
    "        #x = self.bn2(x)\n",
    "        #x = F.relu(x)\n",
    "        #x = F.softmax(x)\n",
    "        return x\n",
    "\n",
    "t_max = int(fit_df.days_proxy.max()*1.05)\n",
    "\n",
    "model = SurvModel(1,512)\n",
    "learn = Learner.from_model_data(model, data)\n",
    "learn.crit = custom_loss\n",
    "learn.opt_fn = optim.Adam\n",
    "\n",
    "cindex = ConcordanceIndex()\n",
    "callbacks = [cindex]\n",
    "learn.metrics = [cindex.concordance_metric]\n"
   ]
  },
  {
   "cell_type": "code",
   "execution_count": 37,
   "metadata": {},
   "outputs": [],
   "source": [
    "#learn.lr_find()\n",
    "#learn.sched.plot()"
   ]
  },
  {
   "cell_type": "code",
   "execution_count": 85,
   "metadata": {},
   "outputs": [
    {
     "data": {
      "application/vnd.jupyter.widget-view+json": {
       "model_id": "cecf8ed340594cf6bd76280468968f0f",
       "version_major": 2,
       "version_minor": 0
      },
      "text/plain": [
       "HBox(children=(IntProgress(value=0, description='Epoch', max=2), HTML(value='')))"
      ]
     },
     "metadata": {},
     "output_type": "display_data"
    },
    {
     "name": "stdout",
     "output_type": "stream",
     "text": [
      "ci:  0.5308802118624933                                       \n",
      "epoch      trn_loss   val_loss   concordance_metric \n",
      "    0      1436.392884 2397.462405 0.0       \n",
      "ci:  0.5452765793822884                                       \n",
      "    1      1424.471334 3309.21009 0.0       \n"
     ]
    },
    {
     "data": {
      "text/plain": [
       "[3309.2100902886455, 0.0]"
      ]
     },
     "execution_count": 85,
     "metadata": {},
     "output_type": "execute_result"
    }
   ],
   "source": [
    "cindex = ConcordanceIndex()\n",
    "callbacks = [cindex]\n",
    "learn.metrics = [cindex.concordance_metric]\n",
    "\n",
    "cindex.reset()\n",
    "learn.fit(0.01, \n",
    "          1, cycle_len=2, \n",
    "          use_clr_beta = (40,20,0.95,0.85), \n",
    "          callbacks = callbacks)"
   ]
  },
  {
   "cell_type": "code",
   "execution_count": 86,
   "metadata": {},
   "outputs": [],
   "source": [
    "#learn.predict(is_test=True)"
   ]
  },
  {
   "cell_type": "code",
   "execution_count": 87,
   "metadata": {},
   "outputs": [],
   "source": [
    "pred, targs = learn.predict_with_targs(is_test=True)\n",
    "pred = np.argmax(pred,1)"
   ]
  },
  {
   "cell_type": "code",
   "execution_count": 88,
   "metadata": {},
   "outputs": [
    {
     "data": {
      "text/plain": [
       "(22575,)"
      ]
     },
     "execution_count": 88,
     "metadata": {},
     "output_type": "execute_result"
    }
   ],
   "source": [
    "pred.shape"
   ]
  },
  {
   "cell_type": "code",
   "execution_count": 89,
   "metadata": {},
   "outputs": [
    {
     "data": {
      "text/plain": [
       "(22575, 2)"
      ]
     },
     "execution_count": 89,
     "metadata": {},
     "output_type": "execute_result"
    }
   ],
   "source": [
    "targs.shape"
   ]
  },
  {
   "cell_type": "code",
   "execution_count": 90,
   "metadata": {},
   "outputs": [
    {
     "data": {
      "text/plain": [
       "<matplotlib.axes._subplots.AxesSubplot at 0x7f1340b122e8>"
      ]
     },
     "execution_count": 90,
     "metadata": {},
     "output_type": "execute_result"
    },
    {
     "data": {
      "image/png": "[encoded data removed]",
      "text/plain": [
       "<Figure size 432x288 with 1 Axes>"
      ]
     },
     "metadata": {},
     "output_type": "display_data"
    }
   ],
   "source": [
    "pd.Series(pred.flatten()).hist()"
   ]
  },
  {
   "cell_type": "code",
   "execution_count": 91,
   "metadata": {},
   "outputs": [
    {
     "data": {
      "text/plain": [
       "<matplotlib.axes._subplots.AxesSubplot at 0x7f1340ca2c88>"
      ]
     },
     "execution_count": 91,
     "metadata": {},
     "output_type": "execute_result"
    },
    {
     "data": {
      "image/png": "[encoded data removed]",
      "text/plain": [
       "<Figure size 432x288 with 1 Axes>"
      ]
     },
     "metadata": {},
     "output_type": "display_data"
    }
   ],
   "source": [
    "pd.Series(targs[:,0]).hist()"
   ]
  },
  {
   "cell_type": "code",
   "execution_count": 92,
   "metadata": {},
   "outputs": [
    {
     "data": {
      "text/plain": [
       "0.5945560634273173"
      ]
     },
     "execution_count": 92,
     "metadata": {},
     "output_type": "execute_result"
    }
   ],
   "source": [
    "concordance_index(targs[:,0], pred, event_observed=targs[:,1])"
   ]
  },
  {
   "cell_type": "code",
   "execution_count": 93,
   "metadata": {},
   "outputs": [
    {
     "data": {
      "text/plain": [
       "<matplotlib.collections.PathCollection at 0x7f1341526c50>"
      ]
     },
     "execution_count": 93,
     "metadata": {},
     "output_type": "execute_result"
    },
    {
     "data": {
      "image/png": "[encoded data removed]",
      "text/plain": [
       "<Figure size 432x288 with 1 Axes>"
      ]
     },
     "metadata": {},
     "output_type": "display_data"
    }
   ],
   "source": [
    "pred1 = pred[targs[:,1] == 1]\n",
    "actual = targs[targs[:,1] == 1,0]\n",
    "scatter(actual, pred1)"
   ]
  },
  {
   "cell_type": "code",
   "execution_count": 94,
   "metadata": {},
   "outputs": [
    {
     "data": {
      "text/plain": [
       "<matplotlib.collections.PathCollection at 0x7f1340513588>"
      ]
     },
     "execution_count": 94,
     "metadata": {},
     "output_type": "execute_result"
    },
    {
     "data": {
      "image/png": "[encoded data removed]",
      "text/plain": [
       "<Figure size 432x288 with 1 Axes>"
      ]
     },
     "metadata": {},
     "output_type": "display_data"
    }
   ],
   "source": [
    "pred1 = pred[targs[:,1] == 0]\n",
    "actual = targs[targs[:,1] == 0,0]\n",
    "scatter(actual, pred1)"
   ]
  },
  {
   "cell_type": "code",
   "execution_count": null,
   "metadata": {},
   "outputs": [],
   "source": []
  },
  {
   "cell_type": "code",
   "execution_count": null,
   "metadata": {},
   "outputs": [],
   "source": []
  }
 ],
 "metadata": {
  "kernelspec": {
   "display_name": "Python 3",
   "language": "python",
   "name": "python3"
  },
  "language_info": {
   "codemirror_mode": {
    "name": "ipython",
    "version": 3
   },
   "file_extension": ".py",
   "mimetype": "text/x-python",
   "name": "python",
   "nbconvert_exporter": "python",
   "pygments_lexer": "ipython3",
   "version": "3.6.5"
  }
 },
 "nbformat": 4,
 "nbformat_minor": 2
}
