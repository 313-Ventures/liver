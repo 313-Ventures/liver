{
 "cells": [
  {
   "cell_type": "markdown",
   "metadata": {},
   "source": [
    "20180524\n",
    "\n",
    "Adding a censor label for calculation of the C-index and for future train improvements\n",
    "\n",
    "Adding sample_type_id which must be 01A for the primary tumor"
   ]
  },
  {
   "cell_type": "code",
   "execution_count": 1,
   "metadata": {},
   "outputs": [
    {
     "name": "stdout",
     "output_type": "stream",
     "text": [
      "Populating the interactive namespace from numpy and matplotlib\n"
     ]
    }
   ],
   "source": [
    "%pylab inline\n",
    "import pandas as pd\n",
    "import numpy as np\n",
    "import fastai\n",
    "import torch\n",
    "from pathlib import Path\n",
    "import PIL\n",
    "import tqdm\n",
    "import os\n",
    "import json\n",
    "tqdm.monitor_interval = 0"
   ]
  },
  {
   "cell_type": "code",
   "execution_count": 2,
   "metadata": {},
   "outputs": [],
   "source": [
    "from fastai.conv_learner import resnet34, resnet152, transforms_top_down, CropType, \\\n",
    "    tfms_from_model, ConvLearner, optim, T\n",
    "from fastai.dataset import ImageClassifierData, Denormalize\n",
    "from fastai.sgdr import TrainingPhase, DecayType\n",
    "from lifelines.utils import concordance_index"
   ]
  },
  {
   "cell_type": "code",
   "execution_count": 3,
   "metadata": {},
   "outputs": [],
   "source": [
    "def cindex_metric(preds, targs):\n",
    "    try:\n",
    "        cindex = concordance_index(preds, targs)\n",
    "    except:\n",
    "        cindex = 0.0\n",
    "    return cindex"
   ]
  },
  {
   "cell_type": "code",
   "execution_count": 4,
   "metadata": {},
   "outputs": [
    {
     "data": {
      "text/plain": [
       "1"
      ]
     },
     "execution_count": 4,
     "metadata": {},
     "output_type": "execute_result"
    }
   ],
   "source": [
    "torch.backends.cudnn.benchmark=True\n",
    "torch.cuda.set_device(1)\n",
    "torch.cuda.current_device()\n"
   ]
  },
  {
   "cell_type": "code",
   "execution_count": 5,
   "metadata": {},
   "outputs": [],
   "source": [
    "LIVER_PATH = Path('/DATA/BIO/GDC/liver')\n",
    "LIVER_SAMPLES = LIVER_PATH/\"samples\"\n",
    "EXP_PATH = LIVER_PATH/\"exp1\"\n",
    "EXP_MODEL_PATH = EXP_PATH/\"models\"\n",
    "EXP_DATA = EXP_PATH/\"data\"\n",
    "EXP_TRAIN_DATA = EXP_DATA/\"train\"\n",
    "EXP_TEST_DATA = EXP_DATA/\"test\"\n",
    "PATIENT_JSON = EXP_PATH/'patient_split_censor.json'\n",
    "TRAIN_CSV = EXP_PATH/'level_1_train.csv'\n",
    "TRAIN_CSV_FULL = EXP_PATH/'level_1_train_full.csv'\n",
    "TEST_CSV = EXP_PATH/'level_1_test.csv'\n",
    "TEST_CSV_FULL = EXP_PATH/'level_1_test_FULL.csv'\n",
    "\n",
    "for d in [EXP_PATH, EXP_DATA, EXP_TRAIN_DATA, EXP_TEST_DATA, EXP_MODEL_PATH]:\n",
    "    if not d.exists():\n",
    "        d.mkdir()"
   ]
  },
  {
   "cell_type": "code",
   "execution_count": 7,
   "metadata": {},
   "outputs": [],
   "source": [
    "slides = pd.read_csv(LIVER_PATH/'slides.csv')\n",
    "def get_tissue_type(x):\n",
    "    return x.split('-')[4]\n",
    "def get_sample_type(x):\n",
    "    ''' 01A samples are \"primary tumor\" and we want just those samples'''\n",
    "    return x.split('-')[3]\n",
    "\n",
    "tissue_type = slides.slide_file_name.apply(get_tissue_type)\n",
    "sample_type = slides.slide_file_name.apply(get_sample_type)\n",
    "slides = slides.loc[(tissue_type == '01') &  (sample_type=='01A'),:].copy()"
   ]
  },
  {
   "cell_type": "code",
   "execution_count": 12,
   "metadata": {},
   "outputs": [
    {
     "data": {
      "application/vnd.jupyter.widget-view+json": {
       "model_id": "68b70a5fcfcc4ac4b65c864c5cd3f47c",
       "version_major": 2,
       "version_minor": 0
      },
      "text/html": [
       "<p>Failed to display Jupyter Widget of type <code>HBox</code>.</p>\n",
       "<p>\n",
       "  If you're reading this message in the Jupyter Notebook or JupyterLab Notebook, it may mean\n",
       "  that the widgets JavaScript is still loading. If this message persists, it\n",
       "  likely means that the widgets JavaScript library is either not installed or\n",
       "  not enabled. See the <a href=\"https://ipywidgets.readthedocs.io/en/stable/user_install.html\">Jupyter\n",
       "  Widgets Documentation</a> for setup instructions.\n",
       "</p>\n",
       "<p>\n",
       "  If you're reading this message in another frontend (for example, a static\n",
       "  rendering on GitHub or <a href=\"https://nbviewer.jupyter.org/\">NBViewer</a>),\n",
       "  it may mean that your frontend doesn't currently support widgets.\n",
       "</p>\n"
      ],
      "text/plain": [
       "HBox(children=(IntProgress(value=0, max=377), HTML(value='')))"
      ]
     },
     "metadata": {},
     "output_type": "display_data"
    },
    {
     "name": "stdout",
     "output_type": "stream",
     "text": [
      "\n"
     ]
    }
   ],
   "source": [
    "try:\n",
    "    with open(PATIENT_JSON, 'r') as fobj:\n",
    "        patients = json.load(fobj)\n",
    "        train_patients = patients['train']\n",
    "        val_patients = patients['val']\n",
    "        test_patients = patients['test']\n",
    "    train_slides = slides.loc[slides.submitter_id.isin(train_patients)]\n",
    "    test_slides = slides.loc[slides.submitter_id.isin(test_patients)]\n",
    "\n",
    "    train_csv_df = pd.read_csv(TRAIN_CSV_FULL)\n",
    "    val_idx = train_csv_df.loc[train_csv_df.val_patient].index\n",
    "except:\n",
    "    slides['days_proxy'] = slides.days_to_death.fillna(slides.days_to_last_follow_up)\n",
    "    slides = slides.loc[slides.days_proxy.notnull()].copy()\n",
    "    #create censor label\n",
    "    slides['event_observed'] = True\n",
    "    slides.loc[slides.days_to_last_follow_up.notnull(),'event_observed'] = False    \n",
    "\n",
    "    patients = random.permutation(list(set(slides.submitter_id)))\n",
    "    split = int(0.95 * len(patients))\n",
    "    val_split = int(0.8 * split)\n",
    "    train_patients = patients[:split]\n",
    "    val_patients = patients[val_split:split]\n",
    "    test_patients = patients[split:]\n",
    "\n",
    "    patient_split = {\n",
    "        'train': list(train_patients),\n",
    "        'val': list(val_patients),\n",
    "        'test': list(test_patients)\n",
    "    }\n",
    "    with open(EXP_PATH/'patient_split_censor.json', 'w') as fobj:\n",
    "        json.dump(patient_split, fobj)\n",
    "\n",
    "    len(train_patients), len(val_patients), len(test_patients)\n",
    "    \n",
    "    train_slides = slides.loc[slides.submitter_id.isin(train_patients)]\n",
    "    test_slides = slides.loc[slides.submitter_id.isin(test_patients)]\n",
    "    \n",
    "    \n",
    "    train_items = []\n",
    "    test_items = []\n",
    "    num_slides = []\n",
    "    samples_per_slide = 50\n",
    "    for ix, patient in tqdm.tqdm_notebook(slides.iterrows(), total=len(slides)):\n",
    "        sfp = LIVER_SAMPLES/patient.slide_file_name.upper()/\"level_1\"\n",
    "        sample_files = list(sfp.iterdir())\n",
    "        num_samples = len(sample_files)\n",
    "        num_slides.append(num_samples)\n",
    "        for fn in np.random.choice(sample_files, size=min(samples_per_slide,num_samples), replace=False):\n",
    "            if patient.submitter_id in train_patients:\n",
    "                dest_path = EXP_TRAIN_DATA\n",
    "                train = True\n",
    "                if patient.submitter_id in val_patients:\n",
    "                    val = True\n",
    "                else:\n",
    "                    val = False\n",
    "            else:\n",
    "                dest_path = EXP_TEST_DATA\n",
    "                train = False\n",
    "\n",
    "            slide_id = os.path.basename(patient.slide_file_name).split('.')[0]\n",
    "            img_id = os.path.basename(fn).split('.')[0]\n",
    "            new_fn_base = '-'.join([slide_id, img_id]) + '.tiff'\n",
    "            full_path = dest_path/new_fn_base\n",
    "\n",
    "            if not full_path.exists():\n",
    "                os.symlink(fn, dest_path/new_fn_base)\n",
    "\n",
    "            if train:\n",
    "                train_items.append({\n",
    "                    'fn': str(new_fn_base),\n",
    "                    'val': patient.days_proxy,\n",
    "                    'val_patient': val,\n",
    "                    'patient_id': patient.submitter_id,\n",
    "                    'event_observed': patient.event_observed,\n",
    "                    'slide_file':patient.slide_file_name\n",
    "                })\n",
    "            else:\n",
    "                test_items.append({\n",
    "                    'fn': str(new_fn_base),\n",
    "                    'val': patient.days_proxy,\n",
    "                    'patient_id': patient.submitter_id,\n",
    "                    'event_observed': patient.event_observed,\n",
    "                    'slide_file':patient.slide_file_name\n",
    "                })\n",
    "                \n",
    "    train_csv_df = pd.DataFrame(list(random.permutation(train_items)))\n",
    "    \n",
    "    train_csv_df[['fn','val']].to_csv(TRAIN_CSV, index=False)\n",
    "    train_csv_df.to_csv(TRAIN_CSV_FULL, index=False)\n",
    "    val_idx = train_csv_df.loc[train_csv_df.val_patient].index\n",
    "\n",
    "    test_csv_df = pd.DataFrame(test_items)\n",
    "    test_csv_df[['fn','val']].to_csv(TEST_CSV, index=False)\n",
    "    test_csv_df.to_csv(TEST_CSV_FULL, index=False)"
   ]
  },
  {
   "cell_type": "code",
   "execution_count": 18,
   "metadata": {},
   "outputs": [
    {
     "name": "stdout",
     "output_type": "stream",
     "text": [
      "(17811, 6)\n"
     ]
    },
    {
     "data": {
      "text/plain": [
       "(4788, 6)"
      ]
     },
     "execution_count": 18,
     "metadata": {},
     "output_type": "execute_result"
    }
   ],
   "source": [
    "print(train_csv_df.shape)\n",
    "train_csv_df[train_csv_df.event_observed].shape\n"
   ]
  },
  {
   "cell_type": "code",
   "execution_count": 19,
   "metadata": {},
   "outputs": [],
   "source": [
    "f_model = resnet34\n",
    "sz=256\n",
    "bs=16\n",
    "tfms = tfms_from_model(f_model, sz, aug_tfms=transforms_top_down, crop_type=CropType.CENTER)\n",
    "md = ImageClassifierData.from_csv(\n",
    "    EXP_PATH, \"data/train\", TRAIN_CSV, tfms=tfms, bs=bs, val_idxs=val_idx, continuous=True\n",
    ")"
   ]
  },
  {
   "cell_type": "code",
   "execution_count": 20,
   "metadata": {},
   "outputs": [],
   "source": [
    "try:\n",
    "    test_csv_df\n",
    "except NameError:\n",
    "    test_csv_df = pd.read_csv(TEST_CSV_FULL)\n",
    "    \n",
    "md_test = ImageClassifierData.from_csv(\n",
    "    EXP_PATH, \"data/test\", TEST_CSV, tfms=tfms, bs=bs, val_idxs=test_csv_df.index, continuous=True\n",
    ")"
   ]
  },
  {
   "cell_type": "code",
   "execution_count": 21,
   "metadata": {},
   "outputs": [],
   "source": [
    "from fastai.layers import AdaptiveConcatPool2d,Flatten\n",
    "from torch.nn import BatchNorm1d,Dropout,ReLU,Linear,Sequential\n",
    "\n",
    "layers = [AdaptiveConcatPool2d(), Flatten()]\n",
    "layers += [BatchNorm1d(1024),\n",
    "            Dropout(p=0.25), \n",
    "            Linear(in_features=1024, out_features=512), \n",
    "            ReLU(), \n",
    "            BatchNorm1d(512),\n",
    "            Dropout(p=0.5), \n",
    "            Linear(in_features=512, out_features=1),\n",
    "            ReLU()]\n",
    "head_relu = Sequential(*layers)"
   ]
  },
  {
   "cell_type": "code",
   "execution_count": 22,
   "metadata": {},
   "outputs": [],
   "source": [
    "learn = ConvLearner.pretrained(f_model, md,custom_head=head_relu)\n",
    "learn.opt_fn = optim.Adam\n",
    "\n",
    "## criteria must be from funtional library.\n",
    "import torch.nn.functional as F\n",
    "learn.crit = F.mse_loss"
   ]
  },
  {
   "cell_type": "code",
   "execution_count": 23,
   "metadata": {},
   "outputs": [
    {
     "data": {
      "text/plain": [
       "[Conv2d (3, 64, kernel_size=(7, 7), stride=(2, 2), padding=(3, 3), bias=False),\n",
       " BatchNorm2d(64, eps=1e-05, momentum=0.1, affine=True),\n",
       " ReLU(inplace),\n",
       " MaxPool2d(kernel_size=(3, 3), stride=(2, 2), padding=(1, 1), dilation=(1, 1)),\n",
       " Sequential(\n",
       "   (0): BasicBlock(\n",
       "     (conv1): Conv2d (64, 64, kernel_size=(3, 3), stride=(1, 1), padding=(1, 1), bias=False)\n",
       "     (bn1): BatchNorm2d(64, eps=1e-05, momentum=0.1, affine=True)\n",
       "     (relu): ReLU(inplace)\n",
       "     (conv2): Conv2d (64, 64, kernel_size=(3, 3), stride=(1, 1), padding=(1, 1), bias=False)\n",
       "     (bn2): BatchNorm2d(64, eps=1e-05, momentum=0.1, affine=True)\n",
       "   )\n",
       "   (1): BasicBlock(\n",
       "     (conv1): Conv2d (64, 64, kernel_size=(3, 3), stride=(1, 1), padding=(1, 1), bias=False)\n",
       "     (bn1): BatchNorm2d(64, eps=1e-05, momentum=0.1, affine=True)\n",
       "     (relu): ReLU(inplace)\n",
       "     (conv2): Conv2d (64, 64, kernel_size=(3, 3), stride=(1, 1), padding=(1, 1), bias=False)\n",
       "     (bn2): BatchNorm2d(64, eps=1e-05, momentum=0.1, affine=True)\n",
       "   )\n",
       "   (2): BasicBlock(\n",
       "     (conv1): Conv2d (64, 64, kernel_size=(3, 3), stride=(1, 1), padding=(1, 1), bias=False)\n",
       "     (bn1): BatchNorm2d(64, eps=1e-05, momentum=0.1, affine=True)\n",
       "     (relu): ReLU(inplace)\n",
       "     (conv2): Conv2d (64, 64, kernel_size=(3, 3), stride=(1, 1), padding=(1, 1), bias=False)\n",
       "     (bn2): BatchNorm2d(64, eps=1e-05, momentum=0.1, affine=True)\n",
       "   )\n",
       " ),\n",
       " Sequential(\n",
       "   (0): BasicBlock(\n",
       "     (conv1): Conv2d (64, 128, kernel_size=(3, 3), stride=(2, 2), padding=(1, 1), bias=False)\n",
       "     (bn1): BatchNorm2d(128, eps=1e-05, momentum=0.1, affine=True)\n",
       "     (relu): ReLU(inplace)\n",
       "     (conv2): Conv2d (128, 128, kernel_size=(3, 3), stride=(1, 1), padding=(1, 1), bias=False)\n",
       "     (bn2): BatchNorm2d(128, eps=1e-05, momentum=0.1, affine=True)\n",
       "     (downsample): Sequential(\n",
       "       (0): Conv2d (64, 128, kernel_size=(1, 1), stride=(2, 2), bias=False)\n",
       "       (1): BatchNorm2d(128, eps=1e-05, momentum=0.1, affine=True)\n",
       "     )\n",
       "   )\n",
       "   (1): BasicBlock(\n",
       "     (conv1): Conv2d (128, 128, kernel_size=(3, 3), stride=(1, 1), padding=(1, 1), bias=False)\n",
       "     (bn1): BatchNorm2d(128, eps=1e-05, momentum=0.1, affine=True)\n",
       "     (relu): ReLU(inplace)\n",
       "     (conv2): Conv2d (128, 128, kernel_size=(3, 3), stride=(1, 1), padding=(1, 1), bias=False)\n",
       "     (bn2): BatchNorm2d(128, eps=1e-05, momentum=0.1, affine=True)\n",
       "   )\n",
       "   (2): BasicBlock(\n",
       "     (conv1): Conv2d (128, 128, kernel_size=(3, 3), stride=(1, 1), padding=(1, 1), bias=False)\n",
       "     (bn1): BatchNorm2d(128, eps=1e-05, momentum=0.1, affine=True)\n",
       "     (relu): ReLU(inplace)\n",
       "     (conv2): Conv2d (128, 128, kernel_size=(3, 3), stride=(1, 1), padding=(1, 1), bias=False)\n",
       "     (bn2): BatchNorm2d(128, eps=1e-05, momentum=0.1, affine=True)\n",
       "   )\n",
       "   (3): BasicBlock(\n",
       "     (conv1): Conv2d (128, 128, kernel_size=(3, 3), stride=(1, 1), padding=(1, 1), bias=False)\n",
       "     (bn1): BatchNorm2d(128, eps=1e-05, momentum=0.1, affine=True)\n",
       "     (relu): ReLU(inplace)\n",
       "     (conv2): Conv2d (128, 128, kernel_size=(3, 3), stride=(1, 1), padding=(1, 1), bias=False)\n",
       "     (bn2): BatchNorm2d(128, eps=1e-05, momentum=0.1, affine=True)\n",
       "   )\n",
       " ),\n",
       " Sequential(\n",
       "   (0): BasicBlock(\n",
       "     (conv1): Conv2d (128, 256, kernel_size=(3, 3), stride=(2, 2), padding=(1, 1), bias=False)\n",
       "     (bn1): BatchNorm2d(256, eps=1e-05, momentum=0.1, affine=True)\n",
       "     (relu): ReLU(inplace)\n",
       "     (conv2): Conv2d (256, 256, kernel_size=(3, 3), stride=(1, 1), padding=(1, 1), bias=False)\n",
       "     (bn2): BatchNorm2d(256, eps=1e-05, momentum=0.1, affine=True)\n",
       "     (downsample): Sequential(\n",
       "       (0): Conv2d (128, 256, kernel_size=(1, 1), stride=(2, 2), bias=False)\n",
       "       (1): BatchNorm2d(256, eps=1e-05, momentum=0.1, affine=True)\n",
       "     )\n",
       "   )\n",
       "   (1): BasicBlock(\n",
       "     (conv1): Conv2d (256, 256, kernel_size=(3, 3), stride=(1, 1), padding=(1, 1), bias=False)\n",
       "     (bn1): BatchNorm2d(256, eps=1e-05, momentum=0.1, affine=True)\n",
       "     (relu): ReLU(inplace)\n",
       "     (conv2): Conv2d (256, 256, kernel_size=(3, 3), stride=(1, 1), padding=(1, 1), bias=False)\n",
       "     (bn2): BatchNorm2d(256, eps=1e-05, momentum=0.1, affine=True)\n",
       "   )\n",
       "   (2): BasicBlock(\n",
       "     (conv1): Conv2d (256, 256, kernel_size=(3, 3), stride=(1, 1), padding=(1, 1), bias=False)\n",
       "     (bn1): BatchNorm2d(256, eps=1e-05, momentum=0.1, affine=True)\n",
       "     (relu): ReLU(inplace)\n",
       "     (conv2): Conv2d (256, 256, kernel_size=(3, 3), stride=(1, 1), padding=(1, 1), bias=False)\n",
       "     (bn2): BatchNorm2d(256, eps=1e-05, momentum=0.1, affine=True)\n",
       "   )\n",
       "   (3): BasicBlock(\n",
       "     (conv1): Conv2d (256, 256, kernel_size=(3, 3), stride=(1, 1), padding=(1, 1), bias=False)\n",
       "     (bn1): BatchNorm2d(256, eps=1e-05, momentum=0.1, affine=True)\n",
       "     (relu): ReLU(inplace)\n",
       "     (conv2): Conv2d (256, 256, kernel_size=(3, 3), stride=(1, 1), padding=(1, 1), bias=False)\n",
       "     (bn2): BatchNorm2d(256, eps=1e-05, momentum=0.1, affine=True)\n",
       "   )\n",
       "   (4): BasicBlock(\n",
       "     (conv1): Conv2d (256, 256, kernel_size=(3, 3), stride=(1, 1), padding=(1, 1), bias=False)\n",
       "     (bn1): BatchNorm2d(256, eps=1e-05, momentum=0.1, affine=True)\n",
       "     (relu): ReLU(inplace)\n",
       "     (conv2): Conv2d (256, 256, kernel_size=(3, 3), stride=(1, 1), padding=(1, 1), bias=False)\n",
       "     (bn2): BatchNorm2d(256, eps=1e-05, momentum=0.1, affine=True)\n",
       "   )\n",
       "   (5): BasicBlock(\n",
       "     (conv1): Conv2d (256, 256, kernel_size=(3, 3), stride=(1, 1), padding=(1, 1), bias=False)\n",
       "     (bn1): BatchNorm2d(256, eps=1e-05, momentum=0.1, affine=True)\n",
       "     (relu): ReLU(inplace)\n",
       "     (conv2): Conv2d (256, 256, kernel_size=(3, 3), stride=(1, 1), padding=(1, 1), bias=False)\n",
       "     (bn2): BatchNorm2d(256, eps=1e-05, momentum=0.1, affine=True)\n",
       "   )\n",
       " ),\n",
       " Sequential(\n",
       "   (0): BasicBlock(\n",
       "     (conv1): Conv2d (256, 512, kernel_size=(3, 3), stride=(2, 2), padding=(1, 1), bias=False)\n",
       "     (bn1): BatchNorm2d(512, eps=1e-05, momentum=0.1, affine=True)\n",
       "     (relu): ReLU(inplace)\n",
       "     (conv2): Conv2d (512, 512, kernel_size=(3, 3), stride=(1, 1), padding=(1, 1), bias=False)\n",
       "     (bn2): BatchNorm2d(512, eps=1e-05, momentum=0.1, affine=True)\n",
       "     (downsample): Sequential(\n",
       "       (0): Conv2d (256, 512, kernel_size=(1, 1), stride=(2, 2), bias=False)\n",
       "       (1): BatchNorm2d(512, eps=1e-05, momentum=0.1, affine=True)\n",
       "     )\n",
       "   )\n",
       "   (1): BasicBlock(\n",
       "     (conv1): Conv2d (512, 512, kernel_size=(3, 3), stride=(1, 1), padding=(1, 1), bias=False)\n",
       "     (bn1): BatchNorm2d(512, eps=1e-05, momentum=0.1, affine=True)\n",
       "     (relu): ReLU(inplace)\n",
       "     (conv2): Conv2d (512, 512, kernel_size=(3, 3), stride=(1, 1), padding=(1, 1), bias=False)\n",
       "     (bn2): BatchNorm2d(512, eps=1e-05, momentum=0.1, affine=True)\n",
       "   )\n",
       "   (2): BasicBlock(\n",
       "     (conv1): Conv2d (512, 512, kernel_size=(3, 3), stride=(1, 1), padding=(1, 1), bias=False)\n",
       "     (bn1): BatchNorm2d(512, eps=1e-05, momentum=0.1, affine=True)\n",
       "     (relu): ReLU(inplace)\n",
       "     (conv2): Conv2d (512, 512, kernel_size=(3, 3), stride=(1, 1), padding=(1, 1), bias=False)\n",
       "     (bn2): BatchNorm2d(512, eps=1e-05, momentum=0.1, affine=True)\n",
       "   )\n",
       " ),\n",
       " Sequential(\n",
       "   (0): AdaptiveConcatPool2d(\n",
       "     (ap): AdaptiveAvgPool2d(output_size=(1, 1))\n",
       "     (mp): AdaptiveMaxPool2d(output_size=(1, 1))\n",
       "   )\n",
       "   (1): Flatten(\n",
       "   )\n",
       "   (2): BatchNorm1d(1024, eps=1e-05, momentum=0.1, affine=True)\n",
       "   (3): Dropout(p=0.25)\n",
       "   (4): Linear(in_features=1024, out_features=512)\n",
       "   (5): ReLU()\n",
       "   (6): BatchNorm1d(512, eps=1e-05, momentum=0.1, affine=True)\n",
       "   (7): Dropout(p=0.5)\n",
       "   (8): Linear(in_features=512, out_features=1)\n",
       "   (9): ReLU()\n",
       " )]"
      ]
     },
     "execution_count": 23,
     "metadata": {},
     "output_type": "execute_result"
    }
   ],
   "source": [
    "learn.children[-10:]"
   ]
  },
  {
   "cell_type": "code",
   "execution_count": 25,
   "metadata": {},
   "outputs": [
    {
     "data": {
      "application/vnd.jupyter.widget-view+json": {
       "model_id": "4849c3a5958f41299f36f5489219a7e8",
       "version_major": 2,
       "version_minor": 0
      },
      "text/html": [
       "<p>Failed to display Jupyter Widget of type <code>HBox</code>.</p>\n",
       "<p>\n",
       "  If you're reading this message in the Jupyter Notebook or JupyterLab Notebook, it may mean\n",
       "  that the widgets JavaScript is still loading. If this message persists, it\n",
       "  likely means that the widgets JavaScript library is either not installed or\n",
       "  not enabled. See the <a href=\"https://ipywidgets.readthedocs.io/en/stable/user_install.html\">Jupyter\n",
       "  Widgets Documentation</a> for setup instructions.\n",
       "</p>\n",
       "<p>\n",
       "  If you're reading this message in another frontend (for example, a static\n",
       "  rendering on GitHub or <a href=\"https://nbviewer.jupyter.org/\">NBViewer</a>),\n",
       "  it may mean that your frontend doesn't currently support widgets.\n",
       "</p>\n"
      ],
      "text/plain": [
       "HBox(children=(IntProgress(value=0, description='Epoch', max=1), HTML(value='')))"
      ]
     },
     "metadata": {},
     "output_type": "display_data"
    },
    {
     "name": "stdout",
     "output_type": "stream",
     "text": [
      "epoch      trn_loss   val_loss                                  \n",
      "    0      1148857.939197 172469884659.02875\n",
      "\n"
     ]
    },
    {
     "data": {
      "image/png": "[encoded data removed]",
      "text/plain": [
       "<matplotlib.figure.Figure at 0x7f11632277f0>"
      ]
     },
     "metadata": {},
     "output_type": "display_data"
    }
   ],
   "source": [
    "# set to true to try learning rate finder\n",
    "if True:\n",
    "    learn.save('tmp')\n",
    "    lrf=learn.lr_find()\n",
    "    learn.sched.plot(0)\n",
    "    learn.load('tmp')"
   ]
  },
  {
   "cell_type": "code",
   "execution_count": 27,
   "metadata": {},
   "outputs": [
    {
     "data": {
      "application/vnd.jupyter.widget-view+json": {
       "model_id": "bb2e2b5c65454d9cb8421d6339bf8709",
       "version_major": 2,
       "version_minor": 0
      },
      "text/html": [
       "<p>Failed to display Jupyter Widget of type <code>HBox</code>.</p>\n",
       "<p>\n",
       "  If you're reading this message in the Jupyter Notebook or JupyterLab Notebook, it may mean\n",
       "  that the widgets JavaScript is still loading. If this message persists, it\n",
       "  likely means that the widgets JavaScript library is either not installed or\n",
       "  not enabled. See the <a href=\"https://ipywidgets.readthedocs.io/en/stable/user_install.html\">Jupyter\n",
       "  Widgets Documentation</a> for setup instructions.\n",
       "</p>\n",
       "<p>\n",
       "  If you're reading this message in another frontend (for example, a static\n",
       "  rendering on GitHub or <a href=\"https://nbviewer.jupyter.org/\">NBViewer</a>),\n",
       "  it may mean that your frontend doesn't currently support widgets.\n",
       "</p>\n"
      ],
      "text/plain": [
       "HBox(children=(IntProgress(value=0, description='Epoch', max=20), HTML(value='')))"
      ]
     },
     "metadata": {},
     "output_type": "display_data"
    },
    {
     "name": "stdout",
     "output_type": "stream",
     "text": [
      " 21%|██        | 186/894 [00:07<00:26, 26.52it/s, loss=4.71e+05]\n",
      " 21%|██▏       | 192/894 [00:07<00:26, 26.58it/s, loss=4.8e+05] "
     ]
    },
    {
     "name": "stderr",
     "output_type": "stream",
     "text": [
      "Exception in thread Thread-8:\n",
      "Traceback (most recent call last):\n",
      "  File \"/usr/lib/python3.6/threading.py\", line 916, in _bootstrap_inner\n",
      "    self.run()\n",
      "  File \"/usr/local/lib/python3.6/dist-packages/tqdm/_tqdm.py\", line 144, in run\n",
      "    for instance in self.tqdm_cls._instances:\n",
      "  File \"/usr/lib/python3.6/_weakrefset.py\", line 60, in __iter__\n",
      "    for itemref in self.data:\n",
      "RuntimeError: Set changed size during iteration\n",
      "\n"
     ]
    },
    {
     "name": "stdout",
     "output_type": "stream",
     "text": [
      "epoch      trn_loss   val_loss   cindex_metric                  \n",
      "    0      485354.931295 510337.782997 0.523801  \n",
      "    1      490698.702549 526657.53125 0.521294                  \n",
      "    2      483611.310494 515818.12335 0.519937                  \n",
      "    3      465645.700428 504705.264109 0.520707                 \n",
      "    4      491576.835927 511887.20461 0.520721                  \n",
      "    5      427831.973362 504395.292744 0.522261                 \n",
      "    6      489709.727315 544702.288062 0.522136                 \n",
      "    7      483192.945115 518282.89408 0.520704                  \n",
      "    8      462326.066705 520236.749066 0.523799                 \n",
      "    9      481763.045106 514125.032642 0.522035                 \n",
      "    10     451643.084486 535328.773202 0.524451                 \n",
      "    11     467981.683479 554817.839419 0.521838                 \n",
      "    12     438877.119805 499398.635249 0.522                    \n",
      "    13     446777.657714 502148.600291 0.523038                 \n",
      "    14     436969.736671 496076.910212 0.523524                 \n",
      "    15     468851.703959 530010.337907 0.524208                 \n",
      "    16     437319.938892 504160.868628 0.522703                 \n",
      "    17     486820.64013 558085.012464 0.52057                   \n",
      "    18     458154.549604 527206.986234 0.526302                 \n",
      "    19     450279.655289 625609.137628 0.523896                 \n",
      "\n"
     ]
    }
   ],
   "source": [
    "lr = 0.0015\n",
    "learn.fit(lr, 4, cycle_len=5, use_clr=(32,5), best_save_name='liver_mse_best_1', metrics=[cindex_metric])\n",
    "learn.save('liver_mse_1')"
   ]
  },
  {
   "cell_type": "code",
   "execution_count": 28,
   "metadata": {},
   "outputs": [
    {
     "data": {
      "application/vnd.jupyter.widget-view+json": {
       "model_id": "9a1851fdbfeb4fd2a75af4c487d20b08",
       "version_major": 2,
       "version_minor": 0
      },
      "text/html": [
       "<p>Failed to display Jupyter Widget of type <code>HBox</code>.</p>\n",
       "<p>\n",
       "  If you're reading this message in the Jupyter Notebook or JupyterLab Notebook, it may mean\n",
       "  that the widgets JavaScript is still loading. If this message persists, it\n",
       "  likely means that the widgets JavaScript library is either not installed or\n",
       "  not enabled. See the <a href=\"https://ipywidgets.readthedocs.io/en/stable/user_install.html\">Jupyter\n",
       "  Widgets Documentation</a> for setup instructions.\n",
       "</p>\n",
       "<p>\n",
       "  If you're reading this message in another frontend (for example, a static\n",
       "  rendering on GitHub or <a href=\"https://nbviewer.jupyter.org/\">NBViewer</a>),\n",
       "  it may mean that your frontend doesn't currently support widgets.\n",
       "</p>\n"
      ],
      "text/plain": [
       "HBox(children=(IntProgress(value=0, description='Epoch'), HTML(value='')))"
      ]
     },
     "metadata": {},
     "output_type": "display_data"
    },
    {
     "name": "stdout",
     "output_type": "stream",
     "text": [
      "epoch      trn_loss   val_loss   cindex_metric                  \n",
      "    0      459779.657454 508971.343786 0.517869  \n",
      "    1      437328.338126 557673.740342 0.519152                 \n",
      "    2      413561.578415 1496211.916139 0.52155                 \n",
      "    3      422041.258591 8347342.050601 0.525324                \n",
      "    4      424271.842902 5389901.284135 0.539144                \n",
      "    5      429283.167787 11204715.256206 0.536591               \n",
      "    6      394898.466423 1432143.74582 0.538557                 \n",
      "    7      384770.520522 2879471.990982 0.542441                \n",
      "    8      396585.192991 2403799.339287 0.544608                \n",
      "    9      380744.124694 7853229.808903 0.54461                 \n",
      "    10     393129.822739 5771018.495971 0.551641                \n",
      "    11     385848.092781 2249043.121069 0.551906                \n",
      "    12     343315.175917 802383.530125 0.550982                 \n",
      "    13     371060.84701 1206345.583808 0.551063                 \n",
      "    14     340362.21393 5085726.907286 0.555701                 \n",
      "    15     330692.580967 6569979.666899 0.555397                \n",
      "    16     321331.793444 7196612.432822 0.561553                \n",
      "    17     322491.435628 4252451.180163 0.557399                \n",
      "    18     342150.575223 3341566.188976 0.560739                \n",
      "    19     296369.927148 7369232.705415 0.560368                \n",
      "    20     321874.382495 2780360.559988 0.562285                \n",
      "    21     307782.142462 3915798.157357 0.557238                \n",
      "    22     312398.434976 7375820.619117 0.56122                 \n",
      "    23     295346.25533 8284571.188087 0.564506                 \n",
      "    24     302656.650441 25070992.157606 0.564154               \n",
      "    25     290434.275761 47217864.615529 0.567668               \n",
      "    26     280021.804373 21893474.380896 0.56741                \n",
      "    27     248421.211382 24030554.058076 0.568131               \n",
      "    28     277366.026469 7669161.058569 0.570187                \n",
      "    29     261374.80937 4777378.904071 0.569066                 \n",
      "    30     270879.577716 24936614.179754 0.567628               \n",
      "    31     290974.675099 13078153.074208 0.5726                 \n",
      "    32     266923.628241 6456497.701867 0.572431                \n",
      "    33     259921.247746 36887136.734722 0.57196                \n",
      "    34     259137.812744 12990084.637415 0.576513               \n",
      "    35     257117.665146 211085091.308809 0.572504              \n",
      "    36     218479.470198 199561335.305372 0.578185              \n",
      "    37     245610.557208 18777757.176184 0.578327               \n",
      "    38     203305.385887 90986687.88932 0.576662                \n",
      "    39     217623.439174 29205267.136983 0.57827                \n",
      "    40     266851.640431 63020168.329486 0.568743               \n",
      "    41     260302.393522 23987333.683636 0.576294               \n",
      "    42     246492.362286 13585004.396926 0.573436               \n",
      "    43     243157.851264 41882033.343236 0.572851               \n",
      "    44     253838.393527 7954323.908945 0.580436                \n",
      "    45     204515.949756 6322712.628842 0.576451                \n",
      "    46     207838.411107 4219282.657113 0.582848                \n",
      "    47     208146.379409 17732074.260438 0.58087                \n",
      "    48     207042.760624 9162264.847696 0.578806                \n",
      "    49     219797.9546 5193951.938269 0.579291                  \n",
      "    50     219116.983 2656754.532348 0.57846                    \n",
      "    51     198952.903178 11836971.738924 0.579731               \n",
      "    52     195353.042814 17069740.852689 0.58275                \n",
      "    53     203083.11788 5490535.467871 0.587085                 \n",
      "    54     215278.810242 307182.906354 0.583643                 \n",
      "    55     191979.367099 899305.618296 0.587476                 \n",
      "    56     183340.836821 3032320.710584 0.586145                \n",
      "    57     184382.129822 2460771.175376 0.587718                \n",
      "    58     208943.861465 7909120.838502 0.589303                \n",
      "    59     178117.136938 1389373.106318 0.587101                \n",
      "    60     172582.335711 316169.571475 0.582408                 \n",
      "    61     199899.305361 906575.195201 0.581353                 \n",
      "    62     187401.338824 5383748.038805 0.582683                \n",
      "    63     192942.251917 6914590.712941 0.585985                \n",
      "    64     176322.526828 2893954.085167 0.586702                \n",
      "    65     193259.643867 14243117.211109 0.587078               \n",
      "    66     161811.840628 10967087.249144 0.589813               \n",
      "    67     173076.189325 1094671.058176 0.591124                \n",
      "    68     153208.317698 1606285.011628 0.586221                \n",
      "    69     170736.058763 1499224.935995 0.59198                 \n",
      "    70     181132.768053 1062678.71429 0.587733                 \n",
      "    71     176678.99306 10274933.497163 0.584093                \n",
      "    72     186286.941224 36299461.017515 0.589481               \n",
      "    73     174127.09035 100047656.667575 0.587586               \n",
      "    74     171499.401229 34064684.309254 0.591124               \n",
      "    75     165568.638302 34141667.981013 0.590072               \n",
      "    76     171323.331777 5790659.220529 0.593772                \n",
      "    77     157352.975538 16889258.038074 0.590887               \n",
      "    78     168461.271947 7707920.55139 0.594066                 \n",
      "    79     154584.90129 4158789.974488 0.592298                 \n",
      "    80     167840.452396 2055436.49193 0.589672                 \n",
      "    81     184237.23141 681056.23956 0.59029                    \n",
      "    82     165981.81314 4483009.92637 0.59504                   \n",
      "    83     177277.27571 2435487.958943 0.592515                 \n",
      "    84     163009.151718 430264.441039 0.593158                 \n",
      "    85     159138.844186 5575228.590291 0.593252                \n",
      "    86     150623.966165 1014108.256347 0.59247                 \n",
      "    87     145915.279733 867649.092103 0.594845                 \n",
      "    88     137888.626591 486869.37189 0.596462                  \n",
      "    89     135501.924476 689132.748837 0.594274                 \n",
      "    90     142909.187786 534616.724633 0.591726                 \n",
      "    91     162245.542942 2704664.381862 0.591627                \n",
      "    92     137721.273488 3908893.139865 0.592038                \n",
      "    93     137383.993869 24764355.565398 0.596555               \n",
      "    94     144292.173441 5994817.227943 0.590259                \n",
      "    95     148525.607031 14384611.586384 0.593568               \n",
      "    96     122776.312785 3131708.592054 0.593327                \n",
      "    97     121557.609852 5717612.927936 0.59907                 \n",
      "    98     128485.527135 5797241.427753 0.598186                \n",
      "    99     121938.079412 5538652.331475 0.600859                \n",
      "\n"
     ]
    }
   ],
   "source": [
    "lrs = np.array([lr/1000, lr/100, lr])\n",
    "learn.freeze_to(-2) #unfreeze res and head layers\n",
    "learn.fit(lrs, 10, cycle_len=10, use_clr=(32,10), best_save_name='liver_mse_best_2', metrics=[cindex_metric])\n",
    "learn.save('liver_mse_2')"
   ]
  },
  {
   "cell_type": "code",
   "execution_count": 29,
   "metadata": {},
   "outputs": [
    {
     "data": {
      "application/vnd.jupyter.widget-view+json": {
       "model_id": "582f3b37d7a44f809b6d8308c991600c",
       "version_major": 2,
       "version_minor": 0
      },
      "text/html": [
       "<p>Failed to display Jupyter Widget of type <code>HBox</code>.</p>\n",
       "<p>\n",
       "  If you're reading this message in the Jupyter Notebook or JupyterLab Notebook, it may mean\n",
       "  that the widgets JavaScript is still loading. If this message persists, it\n",
       "  likely means that the widgets JavaScript library is either not installed or\n",
       "  not enabled. See the <a href=\"https://ipywidgets.readthedocs.io/en/stable/user_install.html\">Jupyter\n",
       "  Widgets Documentation</a> for setup instructions.\n",
       "</p>\n",
       "<p>\n",
       "  If you're reading this message in another frontend (for example, a static\n",
       "  rendering on GitHub or <a href=\"https://nbviewer.jupyter.org/\">NBViewer</a>),\n",
       "  it may mean that your frontend doesn't currently support widgets.\n",
       "</p>\n"
      ],
      "text/plain": [
       "HBox(children=(IntProgress(value=0, description='Epoch'), HTML(value='')))"
      ]
     },
     "metadata": {},
     "output_type": "display_data"
    },
    {
     "name": "stdout",
     "output_type": "stream",
     "text": [
      "epoch      trn_loss   val_loss   cindex_metric                  \n",
      "    0      194742.113985 20013224.552988 0.577507  \n",
      "    1      192040.617846 2180219.456011 0.580901                \n",
      "    2      192595.860793 13948159.219851 0.591775               \n",
      "    3      183206.376124 3317289.047942 0.593221                \n",
      "    4      177144.539681 9136432.947498 0.588163                \n",
      "    5      148883.857953 8927923.977883 0.589323                \n",
      "    6      156557.81924 20149045.612037 0.59446                 \n",
      "    7      140521.81732 1211967.711284 0.589393                 \n",
      "    8      152310.949348 2254519.009689 0.591625                \n",
      "    9      147698.099458 3020096.262857 0.595302                \n",
      "    10     179066.110159 1139858.014567 0.593023                \n",
      "    11     164104.909762 6764653.223332 0.591386                \n",
      "    12     145671.285908 2690141.976629 0.592763                \n",
      "    13     151319.934132 6935018.245664 0.589258                \n",
      "    14     140410.953964 4250831.823492 0.590753                \n",
      "    15     131091.950839 865454.742732 0.594282                 \n",
      "    16     141222.053265 6794470.046871 0.59575                 \n",
      "    17     139928.601871 12298586.808605 0.593419               \n",
      "    18     123482.532806 7682986.174496 0.595422                \n",
      "    19     123070.310547 29122666.13842 0.59733                 \n",
      "    20     147615.046151 2861387.917657 0.591551                \n",
      "    21     152287.041342 10991598.242116 0.595695               \n",
      "    22     144387.514873 10307059.630954 0.597185               \n",
      "    23     150351.230636 8122266.827834 0.596911                \n",
      "    24     124510.989539 15176727.674178 0.598908               \n",
      "    25     121080.469841 4505405.488984 0.599545                \n",
      "    26     135568.1069 13798412.612679 0.602551                 \n",
      "    27     141949.065706 1041444.848301 0.599706                \n",
      "    28     114265.821234 10670368.501774 0.601701               \n",
      "    29     111227.594031 2349753.868946 0.605514                \n",
      "    30     129258.875769 1594382.43987 0.596173                 \n",
      "    31     146487.80083 22205627.078096 0.599008                \n",
      "    32     135422.310944 64688808.248657 0.598042               \n",
      "    33     112652.367996 3628613.951055 0.601057                \n",
      "    34     119698.23122 258799664.426262 0.60335                \n",
      "    35     117210.222882 31755449.11682 0.607685                \n",
      "    36     118995.458761 13784038.388491 0.605663               \n",
      "    37     109198.116254 445350408.650681 0.608049              \n",
      "    38     119437.133795 8418765.967994 0.608045                \n",
      "    39     113578.252162 32267837.742321 0.604858               \n",
      "    40     119575.717779 21413324.607612 0.603928               \n",
      "    41     120121.558068 30317647.843461 0.606406               \n",
      "    42     112600.100129 43143675.161926 0.599832               \n",
      "    43     108599.162136 75031102.109315 0.603503               \n",
      "    44     99355.864625 19392931.787251 0.600382                \n",
      "    45     117052.391968 12617921.707997 0.600511               \n",
      "    46     97880.94667 35852533.116653 0.600047                 \n",
      "    47     109759.163636 43027357.055546 0.599458               \n",
      "    48     95552.871433 41458819.216376 0.607251                \n",
      "    49     98217.848085 7243425.602234 0.606152                 \n",
      "    50     117524.228172 40686363.592683 0.602542               \n",
      "    51     105569.165749 62969951.621596 0.600914               \n",
      "    52     109121.140729 228864716.270923 0.602676              \n",
      "    53     108412.150591 126310234.492141 0.598554              \n",
      "    54     108569.036962 50049164.295739 0.608112               \n",
      "    55     105550.248462 103688148.34867 0.607833               \n",
      "    56     86434.539272 46611583.311233 0.608374                \n",
      "    57     102766.643972 20107917.145983 0.608645               \n",
      "    58     95129.958531 22215709.102743 0.609105                \n",
      "    59     92069.148701 49887079.243735 0.608891                \n",
      "    60     113384.257549 133897912.965942 0.599802              \n",
      "    61     108980.644119 112472133.087104 0.600444              \n",
      "    62     102295.837891 175547973.832129 0.604999              \n",
      "    63     102038.850964 118725115.120277 0.610788              \n",
      "    64     108903.978346 56180661.426639 0.606752               \n",
      "    65     97721.227044 87477897.901928 0.609729                \n",
      "    66     99981.449786 35965779.711478 0.605311                \n",
      "    67     100906.863422 134596739.05804 0.608905               \n",
      "    68     89176.918923 45304758.817211 0.616473                \n",
      "    69     85738.510356 71347934.06307 0.612782                 \n",
      "    70     101813.208845 77064059.405965 0.60704                \n",
      "    71     92837.532877 95438118.027208 0.602383                \n",
      "    72     84101.603171 130055922.536237 0.608252               \n",
      "    73     100222.781448 75639207.128788 0.610263               \n",
      "    74     90328.245375 38476833.747568 0.614086                \n",
      "    75     80021.526345 92266762.933254 0.615138                \n",
      "    76     97122.94445 116213229.788799 0.608183                \n",
      "    77     83968.520194 92188817.997537 0.608248                \n",
      "    78     95283.415942 46041045.496425 0.614802                \n",
      "    79     78058.323565 84722121.748393 0.617822                \n",
      "    80     87570.081897 11956338.31009 0.603026                 \n",
      "    81     98189.145494 17549254.753413 0.608872                \n",
      "    82     96459.365858 17443973.387539 0.613572                \n",
      "    83     85554.824855 14324778.280048 0.610368                \n",
      "    84     95153.803548 25991574.006407 0.618427                \n",
      "    85     96743.669583 19205888.853317 0.617021                \n",
      "    86     86002.534604 7956760.805915 0.617201                 \n",
      "    87     86379.907321 8176355.103379 0.614755                 \n",
      "    88     78303.111795 6301189.603541 0.617865                 \n",
      "    89     76142.717883 4573035.67981 0.615066                  \n",
      "    90     98188.268926 4525124.424676 0.610462                 \n",
      "    91     89192.365921 59779336.147012 0.603533                \n",
      "    92     98042.926438 17665934.44622 0.608909                 \n",
      "    93     96606.436165 1548461.618823 0.617545                 \n",
      "    94     87906.272733 2014565.42738 0.609235                  \n",
      "    95     93872.958468 127629660.056748 0.617369               \n",
      "    96     81365.335269 50370745.730154 0.61476                 \n",
      "    97     83207.385281 4851058.550483 0.613703                 \n",
      "    98     74053.795211 29868715.910202 0.613343                \n",
      "    99     79395.241734 63724897.855378 0.615378                \n",
      "\n"
     ]
    }
   ],
   "source": [
    "lrs = np.array([lr/1000, lr/100, lr])\n",
    "learn.unfreeze() #unfreeze all types, including conv layers\n",
    "learn.fit(lrs, 10, cycle_len=10, use_clr=(32,10), best_save_name='liver_mse_best_3', metrics=[cindex_metric])\n",
    "learn.save('liver_mse_3')"
   ]
  },
  {
   "cell_type": "code",
   "execution_count": 31,
   "metadata": {},
   "outputs": [],
   "source": [
    "from torch.autograd import Variable\n",
    "def eval_model(learn, model_name):\n",
    "    learn.save('tmp')\n",
    "    learn.load(model_name)\n",
    "    y_pred, y_targ = learn.predict_with_targs()\n",
    "    learn.load('tmp')\n",
    "#    return learn.crit(T(y_pred), T(y_targ)), cindex_metric(y_pred, y_targ)\n",
    "    crit_data = learn.crit(Variable(T(y_pred)),Variable(T(y_targ))).data[0]\n",
    "    return crit_data,cindex_metric(y_pred, y_targ)"
   ]
  },
  {
   "cell_type": "code",
   "execution_count": 32,
   "metadata": {
    "scrolled": true
   },
   "outputs": [
    {
     "name": "stdout",
     "output_type": "stream",
     "text": [
      "liver_mse_1 (625609.125, 0.5874257140371368)\n",
      "liver_mse_best_1 (527207.0, 0.5902777338977413)\n",
      "liver_mse_2 (5538652.0, 0.779573840973883)\n",
      "liver_mse_best_2 (5538652.0, 0.779573840973883)\n",
      "liver_mse_3 (63724900.0, 0.8314227496483081)\n",
      "liver_mse_best_3 (25991572.0, 0.8290818568397568)\n"
     ]
    }
   ],
   "source": [
    "for mname in ['liver_mse_1', 'liver_mse_best_1'\n",
    "              ,'liver_mse_2', 'liver_mse_best_2'\n",
    "              ,'liver_mse_3', 'liver_mse_best_3'\n",
    "             ]:\n",
    "    print(mname,eval_model(learn, mname))"
   ]
  },
  {
   "cell_type": "code",
   "execution_count": 33,
   "metadata": {},
   "outputs": [],
   "source": [
    "learn.load('liver_mse_best_3')"
   ]
  },
  {
   "cell_type": "code",
   "execution_count": 34,
   "metadata": {},
   "outputs": [
    {
     "data": {
      "text/plain": [
       "((950, 1), (950, 6))"
      ]
     },
     "execution_count": 34,
     "metadata": {},
     "output_type": "execute_result"
    }
   ],
   "source": [
    "y_pred = learn.predict_dl(md_test.val_dl)\n",
    "test_df = test_csv_df.copy()\n",
    "test_df['y_pred'] = y_pred\n",
    "\n",
    "y_pred.shape, test_df.shape"
   ]
  },
  {
   "cell_type": "code",
   "execution_count": 35,
   "metadata": {},
   "outputs": [],
   "source": [
    "yp_pred = test_df.groupby('patient_id').y_pred.min()\n",
    "yp_targ = test_df.groupby('patient_id').val.mean()"
   ]
  },
  {
   "cell_type": "code",
   "execution_count": 36,
   "metadata": {},
   "outputs": [
    {
     "data": {
      "text/plain": [
       "0.5244755244755245"
      ]
     },
     "execution_count": 36,
     "metadata": {},
     "output_type": "execute_result"
    }
   ],
   "source": [
    "concordance_index(yp_pred, yp_targ )"
   ]
  },
  {
   "cell_type": "code",
   "execution_count": 37,
   "metadata": {},
   "outputs": [
    {
     "data": {
      "text/plain": [
       "Variable containing:\n",
       "1.00000e+06 *\n",
       "  1.4039\n",
       "[torch.cuda.FloatTensor of size 1 (GPU 1)]"
      ]
     },
     "execution_count": 37,
     "metadata": {},
     "output_type": "execute_result"
    }
   ],
   "source": [
    "learn.crit(Variable(T(yp_pred)), Variable(T(yp_targ)))"
   ]
  },
  {
   "cell_type": "code",
   "execution_count": 38,
   "metadata": {},
   "outputs": [
    {
     "data": {
      "text/plain": [
       "<matplotlib.collections.PathCollection at 0x7f116351d2e8>"
      ]
     },
     "execution_count": 38,
     "metadata": {},
     "output_type": "execute_result"
    },
    {
     "data": {
      "image/png": "[encoded data removed]",
      "text/plain": [
       "<matplotlib.figure.Figure at 0x7f1163a1cdd8>"
      ]
     },
     "metadata": {},
     "output_type": "display_data"
    }
   ],
   "source": [
    "scatter(yp_targ, yp_pred)"
   ]
  },
  {
   "cell_type": "code",
   "execution_count": 39,
   "metadata": {},
   "outputs": [
    {
     "data": {
      "text/plain": [
       "<matplotlib.axes._subplots.AxesSubplot at 0x7f1163538860>"
      ]
     },
     "execution_count": 39,
     "metadata": {},
     "output_type": "execute_result"
    },
    {
     "data": {
      "image/png": "[encoded data removed]",
      "text/plain": [
       "<matplotlib.figure.Figure at 0x7f11637177b8>"
      ]
     },
     "metadata": {},
     "output_type": "display_data"
    }
   ],
   "source": [
    "test_df.val.hist()"
   ]
  },
  {
   "cell_type": "code",
   "execution_count": 40,
   "metadata": {},
   "outputs": [
    {
     "data": {
      "text/plain": [
       "<matplotlib.axes._subplots.AxesSubplot at 0x7f1163748eb8>"
      ]
     },
     "execution_count": 40,
     "metadata": {},
     "output_type": "execute_result"
    },
    {
     "data": {
      "image/png": "[encoded data removed]",
      "text/plain": [
       "<matplotlib.figure.Figure at 0x7f11639b84a8>"
      ]
     },
     "metadata": {},
     "output_type": "display_data"
    }
   ],
   "source": [
    "train_csv_df.val.hist()"
   ]
  },
  {
   "cell_type": "code",
   "execution_count": 41,
   "metadata": {},
   "outputs": [],
   "source": [
    "y_pred = learn.predict_dl(md_test.val_dl)"
   ]
  },
  {
   "cell_type": "code",
   "execution_count": 42,
   "metadata": {},
   "outputs": [],
   "source": [
    "out = next(iter(md_test.val_dl))\n"
   ]
  },
  {
   "cell_type": "code",
   "execution_count": 43,
   "metadata": {},
   "outputs": [
    {
     "data": {
      "text/plain": [
       "torch.Size([16, 3, 256, 256])"
      ]
     },
     "execution_count": 43,
     "metadata": {},
     "output_type": "execute_result"
    }
   ],
   "source": [
    "out[0].size()"
   ]
  },
  {
   "cell_type": "code",
   "execution_count": 44,
   "metadata": {},
   "outputs": [
    {
     "data": {
      "text/plain": [
       "\n",
       "  322\n",
       "  322\n",
       "  322\n",
       "  322\n",
       "  322\n",
       "  322\n",
       "  322\n",
       "  322\n",
       "  322\n",
       "  322\n",
       "  322\n",
       "  322\n",
       "  322\n",
       "  322\n",
       "  322\n",
       "  322\n",
       "[torch.cuda.FloatTensor of size 16x1 (GPU 1)]"
      ]
     },
     "execution_count": 44,
     "metadata": {},
     "output_type": "execute_result"
    }
   ],
   "source": [
    "out[1]"
   ]
  },
  {
   "cell_type": "code",
   "execution_count": 45,
   "metadata": {},
   "outputs": [
    {
     "data": {
      "text/plain": [
       "patient_id\n",
       "TCGA-5C-A9VH     50\n",
       "TCGA-BC-A10R    100\n",
       "TCGA-BC-A8YO     50\n",
       "TCGA-CC-5262     50\n",
       "TCGA-CC-A8HU     50\n",
       "TCGA-DD-A1EB     50\n",
       "TCGA-DD-A4ND     50\n",
       "TCGA-DD-A4NI     50\n",
       "TCGA-DD-A73E     50\n",
       "TCGA-DD-AACB     50\n",
       "TCGA-DD-AACK     50\n",
       "TCGA-DD-AADM     50\n",
       "TCGA-DD-AAW1     50\n",
       "TCGA-FV-A2QR     50\n",
       "TCGA-G3-A25Z     50\n",
       "TCGA-MI-A75H     50\n",
       "TCGA-RG-A7D4     50\n",
       "TCGA-ZS-A9CF     50\n",
       "Name: y_pred, dtype: int64"
      ]
     },
     "execution_count": 45,
     "metadata": {},
     "output_type": "execute_result"
    }
   ],
   "source": [
    "test_df.groupby('patient_id').y_pred.count()"
   ]
  },
  {
   "cell_type": "code",
   "execution_count": 46,
   "metadata": {},
   "outputs": [],
   "source": [
    "preds = learn.predict()"
   ]
  },
  {
   "cell_type": "code",
   "execution_count": 47,
   "metadata": {},
   "outputs": [
    {
     "data": {
      "text/plain": [
       "(3514, 1)"
      ]
     },
     "execution_count": 47,
     "metadata": {},
     "output_type": "execute_result"
    }
   ],
   "source": [
    "preds.shape"
   ]
  },
  {
   "cell_type": "code",
   "execution_count": 48,
   "metadata": {},
   "outputs": [
    {
     "data": {
      "text/plain": [
       "array([[288.1973 ],\n",
       "       [696.7984 ],\n",
       "       [559.4727 ],\n",
       "       [907.321  ],\n",
       "       [764.2301 ],\n",
       "       [689.4082 ],\n",
       "       [855.73364],\n",
       "       [614.3366 ],\n",
       "       [537.2747 ],\n",
       "       [510.63712]], dtype=float32)"
      ]
     },
     "execution_count": 48,
     "metadata": {},
     "output_type": "execute_result"
    }
   ],
   "source": [
    "preds[:10]"
   ]
  },
  {
   "cell_type": "code",
   "execution_count": 49,
   "metadata": {},
   "outputs": [
    {
     "data": {
      "text/plain": [
       "3514"
      ]
     },
     "execution_count": 49,
     "metadata": {},
     "output_type": "execute_result"
    }
   ],
   "source": [
    "md.val_ds.n"
   ]
  },
  {
   "cell_type": "code",
   "execution_count": 50,
   "metadata": {},
   "outputs": [
    {
     "name": "stdout",
     "output_type": "stream",
     "text": [
      "724.0\n",
      "724.0\n",
      "724.0\n",
      "724.0\n"
     ]
    },
    {
     "data": {
      "image/png": "[encoded data removed]",
      "text/plain": [
       "<matplotlib.figure.Figure at 0x7f116370b940>"
      ]
     },
     "metadata": {},
     "output_type": "display_data"
    }
   ],
   "source": [
    "\n",
    "for kk in range(4):\n",
    "    out = next(iter(md.val_ds))\n",
    "    out_img = md.trn_ds.denorm(out[0])\n",
    "    print(out[1][0])\n",
    "    plt.subplot(2,2,kk+1)\n",
    "    plt.imshow(out_img.squeeze())\n",
    "           "
   ]
  },
  {
   "cell_type": "code",
   "execution_count": null,
   "metadata": {},
   "outputs": [],
   "source": []
  }
 ],
 "metadata": {
  "kernelspec": {
   "display_name": "Python 3",
   "language": "python",
   "name": "python3"
  },
  "language_info": {
   "codemirror_mode": {
    "name": "ipython",
    "version": 3
   },
   "file_extension": ".py",
   "mimetype": "text/x-python",
   "name": "python",
   "nbconvert_exporter": "python",
   "pygments_lexer": "ipython3",
   "version": "3.6.3"
  },
  "varInspector": {
   "cols": {
    "lenName": 16,
    "lenType": 16,
    "lenVar": 40
   },
   "kernels_config": {
    "python": {
     "delete_cmd_postfix": "",
     "delete_cmd_prefix": "del ",
     "library": "var_list.py",
     "varRefreshCmd": "print(var_dic_list())"
    },
    "r": {
     "delete_cmd_postfix": ") ",
     "delete_cmd_prefix": "rm(",
     "library": "var_list.r",
     "varRefreshCmd": "cat(var_dic_list()) "
    }
   },
   "position": {
    "height": "499px",
    "left": "799.5px",
    "right": "115px",
    "top": "128px",
    "width": "653px"
   },
   "types_to_exclude": [
    "module",
    "function",
    "builtin_function_or_method",
    "instance",
    "_Feature"
   ],
   "window_display": false
  }
 },
 "nbformat": 4,
 "nbformat_minor": 2
}
