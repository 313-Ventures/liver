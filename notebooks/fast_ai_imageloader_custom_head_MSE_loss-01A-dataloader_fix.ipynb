{
 "cells": [
  {
   "cell_type": "markdown",
   "metadata": {},
   "source": [
    "20180524\n",
    "\n",
    "Adding a censor label for calculation of the C-index and for future train improvements\n",
    "\n",
    "Adding sample_type_id which must be 01A for the primary tumor\n",
    "\n",
    "20180525\n",
    "\n",
    "Fixed the Data Loader so that we sort on filename before calling.  Then our indices work and our loading of the file works also. "
   ]
  },
  {
   "cell_type": "code",
   "execution_count": 1,
   "metadata": {},
   "outputs": [
    {
     "name": "stdout",
     "output_type": "stream",
     "text": [
      "Populating the interactive namespace from numpy and matplotlib\n"
     ]
    }
   ],
   "source": [
    "%pylab inline\n",
    "import pandas as pd\n",
    "import numpy as np\n",
    "import fastai\n",
    "import torch\n",
    "from pathlib import Path\n",
    "import PIL\n",
    "import tqdm\n",
    "import os\n",
    "import json\n",
    "tqdm.monitor_interval = 0"
   ]
  },
  {
   "cell_type": "code",
   "execution_count": 2,
   "metadata": {},
   "outputs": [],
   "source": [
    "from fastai.conv_learner import resnet34, resnet152, transforms_top_down, CropType, \\\n",
    "    tfms_from_model, ConvLearner, optim, T\n",
    "from fastai.dataset import ImageClassifierData, Denormalize\n",
    "from fastai.sgdr import TrainingPhase, DecayType\n",
    "from lifelines.utils import concordance_index"
   ]
  },
  {
   "cell_type": "code",
   "execution_count": 3,
   "metadata": {},
   "outputs": [],
   "source": [
    "def cindex_metric(preds, targs):\n",
    "    try:\n",
    "        cindex = concordance_index(preds, targs)\n",
    "    except:\n",
    "        cindex = 0.0\n",
    "    return cindex"
   ]
  },
  {
   "cell_type": "code",
   "execution_count": 4,
   "metadata": {},
   "outputs": [
    {
     "data": {
      "text/plain": [
       "1"
      ]
     },
     "execution_count": 4,
     "metadata": {},
     "output_type": "execute_result"
    }
   ],
   "source": [
    "torch.backends.cudnn.benchmark=True\n",
    "torch.cuda.set_device(1)\n",
    "torch.cuda.current_device()\n"
   ]
  },
  {
   "cell_type": "code",
   "execution_count": 5,
   "metadata": {},
   "outputs": [],
   "source": [
    "LIVER_PATH = Path('/DATA/BIO/GDC/liver')\n",
    "LIVER_SAMPLES = LIVER_PATH/\"samples\"\n",
    "EXP_PATH = LIVER_PATH/\"exp1\"\n",
    "EXP_MODEL_PATH = EXP_PATH/\"models\"\n",
    "EXP_DATA = EXP_PATH/\"data\"\n",
    "EXP_TRAIN_DATA = EXP_DATA/\"train\"\n",
    "EXP_TEST_DATA = EXP_DATA/\"test\"\n",
    "PATIENT_JSON = EXP_PATH/'patient_split_censor_new.json'\n",
    "TRAIN_CSV = EXP_PATH/'level_1_train.csv'\n",
    "TRAIN_CSV_FULL = EXP_PATH/'level_1_train_full.csv'\n",
    "TEST_CSV = EXP_PATH/'level_1_test.csv'\n",
    "TEST_CSV_FULL = EXP_PATH/'level_1_test_FULL.csv'\n",
    "\n",
    "for d in [EXP_PATH, EXP_DATA, EXP_TRAIN_DATA, EXP_TEST_DATA, EXP_MODEL_PATH]:\n",
    "    if not d.exists():\n",
    "        d.mkdir()"
   ]
  },
  {
   "cell_type": "code",
   "execution_count": 7,
   "metadata": {},
   "outputs": [],
   "source": [
    "slides = pd.read_csv(LIVER_PATH/'slides.csv')\n",
    "def get_tissue_type(x):\n",
    "    return x.split('-')[4]\n",
    "def get_sample_type(x):\n",
    "    ''' 01A samples are \"primary tumor\" and we want just those samples'''\n",
    "    return x.split('-')[3]\n",
    "\n",
    "tissue_type = slides.slide_file_name.apply(get_tissue_type)\n",
    "sample_type = slides.slide_file_name.apply(get_sample_type)\n",
    "slides = slides.loc[(tissue_type == '01') &  (sample_type=='01A'),:].copy()"
   ]
  },
  {
   "cell_type": "code",
   "execution_count": 8,
   "metadata": {},
   "outputs": [
    {
     "data": {
      "application/vnd.jupyter.widget-view+json": {
       "model_id": "7fe3b71581ef49bfa0d872ef7c5d1ba4",
       "version_major": 2,
       "version_minor": 0
      },
      "text/plain": [
       "HBox(children=(IntProgress(value=0, max=377), HTML(value='')))"
      ]
     },
     "metadata": {},
     "output_type": "display_data"
    },
    {
     "name": "stdout",
     "output_type": "stream",
     "text": [
      "\n"
     ]
    }
   ],
   "source": [
    "try:\n",
    "    with open(PATIENT_JSON, 'r') as fobj:\n",
    "        patients = json.load(fobj)\n",
    "        train_patients = patients['train']\n",
    "        val_patients = patients['val']\n",
    "        test_patients = patients['test']\n",
    "    train_slides = slides.loc[slides.submitter_id.isin(train_patients)]\n",
    "    test_slides = slides.loc[slides.submitter_id.isin(test_patients)]\n",
    "\n",
    "    train_csv_df = pd.read_csv(TRAIN_CSV_FULL)\n",
    "    val_idx = train_csv_df.loc[train_csv_df.val_patient].index\n",
    "except:\n",
    "    slides['days_proxy'] = slides.days_to_death.fillna(slides.days_to_last_follow_up)\n",
    "    slides = slides.loc[slides.days_proxy.notnull()].copy()\n",
    "    #create censor label\n",
    "    slides['event_observed'] = True\n",
    "    slides.loc[slides.days_to_last_follow_up.notnull(),'event_observed'] = False    \n",
    "\n",
    "    patients = random.permutation(list(set(slides.submitter_id)))\n",
    "    split = int(0.95 * len(patients))\n",
    "    val_split = int(0.8 * split)\n",
    "    train_patients = patients[:split]\n",
    "    val_patients = patients[val_split:split]\n",
    "    test_patients = patients[split:]\n",
    "\n",
    "    patient_split = {\n",
    "        'train': list(train_patients),\n",
    "        'val': list(val_patients),\n",
    "        'test': list(test_patients)\n",
    "    }\n",
    "    with open(EXP_PATH/'patient_split_censor_new.json', 'w') as fobj:\n",
    "        json.dump(patient_split, fobj)\n",
    "\n",
    "    len(train_patients), len(val_patients), len(test_patients)\n",
    "    \n",
    "    train_slides = slides.loc[slides.submitter_id.isin(train_patients)]\n",
    "    test_slides = slides.loc[slides.submitter_id.isin(test_patients)]\n",
    "    \n",
    "    \n",
    "    train_items = []\n",
    "    test_items = []\n",
    "    num_slides = []\n",
    "    samples_per_slide = 50\n",
    "    for ix, patient in tqdm.tqdm_notebook(slides.iterrows(), total=len(slides)):\n",
    "        sfp = LIVER_SAMPLES/patient.slide_file_name.upper()/\"level_1\"\n",
    "        sample_files = list(sfp.iterdir())\n",
    "        num_samples = len(sample_files)\n",
    "        num_slides.append(num_samples)\n",
    "        for fn in np.random.choice(sample_files, size=min(samples_per_slide,num_samples), replace=False):\n",
    "            if patient.submitter_id in train_patients:\n",
    "                dest_path = EXP_TRAIN_DATA\n",
    "                train = True\n",
    "                if patient.submitter_id in val_patients:\n",
    "                    val = True\n",
    "                else:\n",
    "                    val = False\n",
    "            else:\n",
    "                dest_path = EXP_TEST_DATA\n",
    "                train = False\n",
    "\n",
    "            slide_id = os.path.basename(patient.slide_file_name).split('.')[0]\n",
    "            img_id = os.path.basename(fn).split('.')[0]\n",
    "            new_fn_base = '-'.join([slide_id, img_id]) + '.tiff'\n",
    "            full_path = dest_path/new_fn_base\n",
    "\n",
    "            if not full_path.exists():\n",
    "                os.symlink(fn, dest_path/new_fn_base)\n",
    "\n",
    "            if train:\n",
    "                train_items.append({\n",
    "                    'fn': str(new_fn_base),\n",
    "                    'val': patient.days_proxy,\n",
    "                    'val_patient': val,\n",
    "                    'patient_id': patient.submitter_id,\n",
    "                    'event_observed': patient.event_observed,\n",
    "                    'slide_file':patient.slide_file_name\n",
    "                })\n",
    "            else:\n",
    "                test_items.append({\n",
    "                    'fn': str(new_fn_base),\n",
    "                    'val': patient.days_proxy,\n",
    "                    'patient_id': patient.submitter_id,\n",
    "                    'event_observed': patient.event_observed,\n",
    "                    'slide_file':patient.slide_file_name\n",
    "                })\n",
    "                \n",
    "    train_csv_df = pd.DataFrame(list(random.permutation(train_items)))\n",
    "     #fast.ai will sort on filenames, idx will be a mess!\n",
    "    train_csv_df = train_csv_df.sort_values('fn').reset_index(drop=True)\n",
    "    \n",
    "    train_csv_df[['fn','val']].to_csv(TRAIN_CSV, index=False)\n",
    "    train_csv_df.to_csv(TRAIN_CSV_FULL, index=False)\n",
    "    val_idx = train_csv_df.loc[train_csv_df.val_patient].index\n",
    "    \n",
    "    test_csv_df = pd.DataFrame(test_items)\n",
    "    test_csv_df = test_csv_df.sort_values('fn').reset_index(drop=True)\n",
    "    \n",
    "    test_csv_df[['fn','val']].to_csv(TEST_CSV, index=False)\n",
    "    test_csv_df.to_csv(TEST_CSV_FULL, index=False)\n",
    "    "
   ]
  },
  {
   "cell_type": "code",
   "execution_count": 9,
   "metadata": {},
   "outputs": [],
   "source": [
    "f_model = resnet34\n",
    "sz=256\n",
    "bs=16\n",
    "tfms = tfms_from_model(f_model, sz, aug_tfms=transforms_top_down, crop_type=CropType.CENTER)\n",
    "md = ImageClassifierData.from_csv(\n",
    "    EXP_PATH, \"data/train\", TRAIN_CSV, tfms=tfms, bs=bs, val_idxs=val_idx.values, continuous=True\n",
    ")"
   ]
  },
  {
   "cell_type": "code",
   "execution_count": 16,
   "metadata": {},
   "outputs": [
    {
     "name": "stdout",
     "output_type": "stream",
     "text": [
      "Object `tfms_from_stats` not found.\n"
     ]
    }
   ],
   "source": [
    "tfms_from_stats??"
   ]
  },
  {
   "cell_type": "code",
   "execution_count": 9,
   "metadata": {},
   "outputs": [],
   "source": [
    "try:\n",
    "    test_csv_df\n",
    "except NameError:\n",
    "    test_csv_df = pd.read_csv(TEST_CSV_FULL)\n",
    "    \n",
    "md_test = ImageClassifierData.from_csv(\n",
    "    EXP_PATH, \"data/test\", TEST_CSV, tfms=tfms, bs=bs, val_idxs=test_csv_df.index.values, continuous=True\n",
    ")"
   ]
  },
  {
   "cell_type": "code",
   "execution_count": 10,
   "metadata": {},
   "outputs": [],
   "source": [
    "from fastai.layers import AdaptiveConcatPool2d,Flatten\n",
    "from torch.nn import BatchNorm1d,Dropout,ReLU,Linear,Sequential\n",
    "\n",
    "layers = [AdaptiveConcatPool2d(), Flatten()]\n",
    "layers += [BatchNorm1d(1024),\n",
    "            Dropout(p=0.25), \n",
    "            Linear(in_features=1024, out_features=512), \n",
    "            ReLU(), \n",
    "            BatchNorm1d(512),\n",
    "            Dropout(p=0.5), \n",
    "            Linear(in_features=512, out_features=1),\n",
    "            ReLU()]\n",
    "head_relu = Sequential(*layers)"
   ]
  },
  {
   "cell_type": "code",
   "execution_count": 11,
   "metadata": {},
   "outputs": [],
   "source": [
    "learn = ConvLearner.pretrained(f_model, md,custom_head=head_relu)\n",
    "learn.opt_fn = optim.Adam\n",
    "\n",
    "## criteria must be from funtional library.\n",
    "import torch.nn.functional as F\n",
    "learn.crit = F.mse_loss"
   ]
  },
  {
   "cell_type": "code",
   "execution_count": 12,
   "metadata": {},
   "outputs": [
    {
     "data": {
      "text/plain": [
       "[Conv2d (3, 64, kernel_size=(7, 7), stride=(2, 2), padding=(3, 3), bias=False),\n",
       " BatchNorm2d(64, eps=1e-05, momentum=0.1, affine=True),\n",
       " ReLU(inplace),\n",
       " MaxPool2d(kernel_size=(3, 3), stride=(2, 2), padding=(1, 1), dilation=(1, 1)),\n",
       " Sequential(\n",
       "   (0): BasicBlock(\n",
       "     (conv1): Conv2d (64, 64, kernel_size=(3, 3), stride=(1, 1), padding=(1, 1), bias=False)\n",
       "     (bn1): BatchNorm2d(64, eps=1e-05, momentum=0.1, affine=True)\n",
       "     (relu): ReLU(inplace)\n",
       "     (conv2): Conv2d (64, 64, kernel_size=(3, 3), stride=(1, 1), padding=(1, 1), bias=False)\n",
       "     (bn2): BatchNorm2d(64, eps=1e-05, momentum=0.1, affine=True)\n",
       "   )\n",
       "   (1): BasicBlock(\n",
       "     (conv1): Conv2d (64, 64, kernel_size=(3, 3), stride=(1, 1), padding=(1, 1), bias=False)\n",
       "     (bn1): BatchNorm2d(64, eps=1e-05, momentum=0.1, affine=True)\n",
       "     (relu): ReLU(inplace)\n",
       "     (conv2): Conv2d (64, 64, kernel_size=(3, 3), stride=(1, 1), padding=(1, 1), bias=False)\n",
       "     (bn2): BatchNorm2d(64, eps=1e-05, momentum=0.1, affine=True)\n",
       "   )\n",
       "   (2): BasicBlock(\n",
       "     (conv1): Conv2d (64, 64, kernel_size=(3, 3), stride=(1, 1), padding=(1, 1), bias=False)\n",
       "     (bn1): BatchNorm2d(64, eps=1e-05, momentum=0.1, affine=True)\n",
       "     (relu): ReLU(inplace)\n",
       "     (conv2): Conv2d (64, 64, kernel_size=(3, 3), stride=(1, 1), padding=(1, 1), bias=False)\n",
       "     (bn2): BatchNorm2d(64, eps=1e-05, momentum=0.1, affine=True)\n",
       "   )\n",
       " ),\n",
       " Sequential(\n",
       "   (0): BasicBlock(\n",
       "     (conv1): Conv2d (64, 128, kernel_size=(3, 3), stride=(2, 2), padding=(1, 1), bias=False)\n",
       "     (bn1): BatchNorm2d(128, eps=1e-05, momentum=0.1, affine=True)\n",
       "     (relu): ReLU(inplace)\n",
       "     (conv2): Conv2d (128, 128, kernel_size=(3, 3), stride=(1, 1), padding=(1, 1), bias=False)\n",
       "     (bn2): BatchNorm2d(128, eps=1e-05, momentum=0.1, affine=True)\n",
       "     (downsample): Sequential(\n",
       "       (0): Conv2d (64, 128, kernel_size=(1, 1), stride=(2, 2), bias=False)\n",
       "       (1): BatchNorm2d(128, eps=1e-05, momentum=0.1, affine=True)\n",
       "     )\n",
       "   )\n",
       "   (1): BasicBlock(\n",
       "     (conv1): Conv2d (128, 128, kernel_size=(3, 3), stride=(1, 1), padding=(1, 1), bias=False)\n",
       "     (bn1): BatchNorm2d(128, eps=1e-05, momentum=0.1, affine=True)\n",
       "     (relu): ReLU(inplace)\n",
       "     (conv2): Conv2d (128, 128, kernel_size=(3, 3), stride=(1, 1), padding=(1, 1), bias=False)\n",
       "     (bn2): BatchNorm2d(128, eps=1e-05, momentum=0.1, affine=True)\n",
       "   )\n",
       "   (2): BasicBlock(\n",
       "     (conv1): Conv2d (128, 128, kernel_size=(3, 3), stride=(1, 1), padding=(1, 1), bias=False)\n",
       "     (bn1): BatchNorm2d(128, eps=1e-05, momentum=0.1, affine=True)\n",
       "     (relu): ReLU(inplace)\n",
       "     (conv2): Conv2d (128, 128, kernel_size=(3, 3), stride=(1, 1), padding=(1, 1), bias=False)\n",
       "     (bn2): BatchNorm2d(128, eps=1e-05, momentum=0.1, affine=True)\n",
       "   )\n",
       "   (3): BasicBlock(\n",
       "     (conv1): Conv2d (128, 128, kernel_size=(3, 3), stride=(1, 1), padding=(1, 1), bias=False)\n",
       "     (bn1): BatchNorm2d(128, eps=1e-05, momentum=0.1, affine=True)\n",
       "     (relu): ReLU(inplace)\n",
       "     (conv2): Conv2d (128, 128, kernel_size=(3, 3), stride=(1, 1), padding=(1, 1), bias=False)\n",
       "     (bn2): BatchNorm2d(128, eps=1e-05, momentum=0.1, affine=True)\n",
       "   )\n",
       " ),\n",
       " Sequential(\n",
       "   (0): BasicBlock(\n",
       "     (conv1): Conv2d (128, 256, kernel_size=(3, 3), stride=(2, 2), padding=(1, 1), bias=False)\n",
       "     (bn1): BatchNorm2d(256, eps=1e-05, momentum=0.1, affine=True)\n",
       "     (relu): ReLU(inplace)\n",
       "     (conv2): Conv2d (256, 256, kernel_size=(3, 3), stride=(1, 1), padding=(1, 1), bias=False)\n",
       "     (bn2): BatchNorm2d(256, eps=1e-05, momentum=0.1, affine=True)\n",
       "     (downsample): Sequential(\n",
       "       (0): Conv2d (128, 256, kernel_size=(1, 1), stride=(2, 2), bias=False)\n",
       "       (1): BatchNorm2d(256, eps=1e-05, momentum=0.1, affine=True)\n",
       "     )\n",
       "   )\n",
       "   (1): BasicBlock(\n",
       "     (conv1): Conv2d (256, 256, kernel_size=(3, 3), stride=(1, 1), padding=(1, 1), bias=False)\n",
       "     (bn1): BatchNorm2d(256, eps=1e-05, momentum=0.1, affine=True)\n",
       "     (relu): ReLU(inplace)\n",
       "     (conv2): Conv2d (256, 256, kernel_size=(3, 3), stride=(1, 1), padding=(1, 1), bias=False)\n",
       "     (bn2): BatchNorm2d(256, eps=1e-05, momentum=0.1, affine=True)\n",
       "   )\n",
       "   (2): BasicBlock(\n",
       "     (conv1): Conv2d (256, 256, kernel_size=(3, 3), stride=(1, 1), padding=(1, 1), bias=False)\n",
       "     (bn1): BatchNorm2d(256, eps=1e-05, momentum=0.1, affine=True)\n",
       "     (relu): ReLU(inplace)\n",
       "     (conv2): Conv2d (256, 256, kernel_size=(3, 3), stride=(1, 1), padding=(1, 1), bias=False)\n",
       "     (bn2): BatchNorm2d(256, eps=1e-05, momentum=0.1, affine=True)\n",
       "   )\n",
       "   (3): BasicBlock(\n",
       "     (conv1): Conv2d (256, 256, kernel_size=(3, 3), stride=(1, 1), padding=(1, 1), bias=False)\n",
       "     (bn1): BatchNorm2d(256, eps=1e-05, momentum=0.1, affine=True)\n",
       "     (relu): ReLU(inplace)\n",
       "     (conv2): Conv2d (256, 256, kernel_size=(3, 3), stride=(1, 1), padding=(1, 1), bias=False)\n",
       "     (bn2): BatchNorm2d(256, eps=1e-05, momentum=0.1, affine=True)\n",
       "   )\n",
       "   (4): BasicBlock(\n",
       "     (conv1): Conv2d (256, 256, kernel_size=(3, 3), stride=(1, 1), padding=(1, 1), bias=False)\n",
       "     (bn1): BatchNorm2d(256, eps=1e-05, momentum=0.1, affine=True)\n",
       "     (relu): ReLU(inplace)\n",
       "     (conv2): Conv2d (256, 256, kernel_size=(3, 3), stride=(1, 1), padding=(1, 1), bias=False)\n",
       "     (bn2): BatchNorm2d(256, eps=1e-05, momentum=0.1, affine=True)\n",
       "   )\n",
       "   (5): BasicBlock(\n",
       "     (conv1): Conv2d (256, 256, kernel_size=(3, 3), stride=(1, 1), padding=(1, 1), bias=False)\n",
       "     (bn1): BatchNorm2d(256, eps=1e-05, momentum=0.1, affine=True)\n",
       "     (relu): ReLU(inplace)\n",
       "     (conv2): Conv2d (256, 256, kernel_size=(3, 3), stride=(1, 1), padding=(1, 1), bias=False)\n",
       "     (bn2): BatchNorm2d(256, eps=1e-05, momentum=0.1, affine=True)\n",
       "   )\n",
       " ),\n",
       " Sequential(\n",
       "   (0): BasicBlock(\n",
       "     (conv1): Conv2d (256, 512, kernel_size=(3, 3), stride=(2, 2), padding=(1, 1), bias=False)\n",
       "     (bn1): BatchNorm2d(512, eps=1e-05, momentum=0.1, affine=True)\n",
       "     (relu): ReLU(inplace)\n",
       "     (conv2): Conv2d (512, 512, kernel_size=(3, 3), stride=(1, 1), padding=(1, 1), bias=False)\n",
       "     (bn2): BatchNorm2d(512, eps=1e-05, momentum=0.1, affine=True)\n",
       "     (downsample): Sequential(\n",
       "       (0): Conv2d (256, 512, kernel_size=(1, 1), stride=(2, 2), bias=False)\n",
       "       (1): BatchNorm2d(512, eps=1e-05, momentum=0.1, affine=True)\n",
       "     )\n",
       "   )\n",
       "   (1): BasicBlock(\n",
       "     (conv1): Conv2d (512, 512, kernel_size=(3, 3), stride=(1, 1), padding=(1, 1), bias=False)\n",
       "     (bn1): BatchNorm2d(512, eps=1e-05, momentum=0.1, affine=True)\n",
       "     (relu): ReLU(inplace)\n",
       "     (conv2): Conv2d (512, 512, kernel_size=(3, 3), stride=(1, 1), padding=(1, 1), bias=False)\n",
       "     (bn2): BatchNorm2d(512, eps=1e-05, momentum=0.1, affine=True)\n",
       "   )\n",
       "   (2): BasicBlock(\n",
       "     (conv1): Conv2d (512, 512, kernel_size=(3, 3), stride=(1, 1), padding=(1, 1), bias=False)\n",
       "     (bn1): BatchNorm2d(512, eps=1e-05, momentum=0.1, affine=True)\n",
       "     (relu): ReLU(inplace)\n",
       "     (conv2): Conv2d (512, 512, kernel_size=(3, 3), stride=(1, 1), padding=(1, 1), bias=False)\n",
       "     (bn2): BatchNorm2d(512, eps=1e-05, momentum=0.1, affine=True)\n",
       "   )\n",
       " ),\n",
       " Sequential(\n",
       "   (0): AdaptiveConcatPool2d(\n",
       "     (ap): AdaptiveAvgPool2d(output_size=(1, 1))\n",
       "     (mp): AdaptiveMaxPool2d(output_size=(1, 1))\n",
       "   )\n",
       "   (1): Flatten(\n",
       "   )\n",
       "   (2): BatchNorm1d(1024, eps=1e-05, momentum=0.1, affine=True)\n",
       "   (3): Dropout(p=0.25)\n",
       "   (4): Linear(in_features=1024, out_features=512)\n",
       "   (5): ReLU()\n",
       "   (6): BatchNorm1d(512, eps=1e-05, momentum=0.1, affine=True)\n",
       "   (7): Dropout(p=0.5)\n",
       "   (8): Linear(in_features=512, out_features=1)\n",
       "   (9): ReLU()\n",
       " )]"
      ]
     },
     "execution_count": 12,
     "metadata": {},
     "output_type": "execute_result"
    }
   ],
   "source": [
    "learn.children[-10:]"
   ]
  },
  {
   "cell_type": "code",
   "execution_count": 13,
   "metadata": {},
   "outputs": [
    {
     "data": {
      "application/vnd.jupyter.widget-view+json": {
       "model_id": "f63de4a5e99a41b9a49d736b03d63a69",
       "version_major": 2,
       "version_minor": 0
      },
      "text/html": [
       "<p>Failed to display Jupyter Widget of type <code>HBox</code>.</p>\n",
       "<p>\n",
       "  If you're reading this message in the Jupyter Notebook or JupyterLab Notebook, it may mean\n",
       "  that the widgets JavaScript is still loading. If this message persists, it\n",
       "  likely means that the widgets JavaScript library is either not installed or\n",
       "  not enabled. See the <a href=\"https://ipywidgets.readthedocs.io/en/stable/user_install.html\">Jupyter\n",
       "  Widgets Documentation</a> for setup instructions.\n",
       "</p>\n",
       "<p>\n",
       "  If you're reading this message in another frontend (for example, a static\n",
       "  rendering on GitHub or <a href=\"https://nbviewer.jupyter.org/\">NBViewer</a>),\n",
       "  it may mean that your frontend doesn't currently support widgets.\n",
       "</p>\n"
      ],
      "text/plain": [
       "HBox(children=(IntProgress(value=0, description='Epoch', max=1), HTML(value='')))"
      ]
     },
     "metadata": {},
     "output_type": "display_data"
    },
    {
     "name": "stdout",
     "output_type": "stream",
     "text": [
      "epoch      trn_loss   val_loss                                  \n",
      "    0      1119629.234116 1205922.096433\n",
      "\n"
     ]
    },
    {
     "data": {
      "image/png": "[encoded data removed]",
      "text/plain": [
       "<matplotlib.figure.Figure at 0x7f7ea72d75c0>"
      ]
     },
     "metadata": {},
     "output_type": "display_data"
    }
   ],
   "source": [
    "# set to true to try learning rate finder\n",
    "if True:\n",
    "    learn.save('tmp')\n",
    "    lrf=learn.lr_find()\n",
    "    learn.sched.plot(0)\n",
    "    learn.load('tmp')"
   ]
  },
  {
   "cell_type": "code",
   "execution_count": null,
   "metadata": {},
   "outputs": [
    {
     "data": {
      "application/vnd.jupyter.widget-view+json": {
       "model_id": "b4e0dea61d4145f692c0193fc871d3ac",
       "version_major": 2,
       "version_minor": 0
      },
      "text/html": [
       "<p>Failed to display Jupyter Widget of type <code>HBox</code>.</p>\n",
       "<p>\n",
       "  If you're reading this message in the Jupyter Notebook or JupyterLab Notebook, it may mean\n",
       "  that the widgets JavaScript is still loading. If this message persists, it\n",
       "  likely means that the widgets JavaScript library is either not installed or\n",
       "  not enabled. See the <a href=\"https://ipywidgets.readthedocs.io/en/stable/user_install.html\">Jupyter\n",
       "  Widgets Documentation</a> for setup instructions.\n",
       "</p>\n",
       "<p>\n",
       "  If you're reading this message in another frontend (for example, a static\n",
       "  rendering on GitHub or <a href=\"https://nbviewer.jupyter.org/\">NBViewer</a>),\n",
       "  it may mean that your frontend doesn't currently support widgets.\n",
       "</p>\n"
      ],
      "text/plain": [
       "HBox(children=(IntProgress(value=0, description='Epoch', max=10), HTML(value='')))"
      ]
     },
     "metadata": {},
     "output_type": "display_data"
    },
    {
     "name": "stdout",
     "output_type": "stream",
     "text": [
      " 47%|████▋     | 414/886 [00:14<00:16, 28.02it/s, loss=8.83e+05]"
     ]
    }
   ],
   "source": [
    "lr = 0.005\n",
    "learn.fit(lr, 2, cycle_len=5, use_clr=(32,5), best_save_name='liver_mse_best_1', metrics=[cindex_metric])\n",
    "learn.save('liver_mse_1')"
   ]
  },
  {
   "cell_type": "code",
   "execution_count": null,
   "metadata": {},
   "outputs": [],
   "source": [
    "lrs = np.array([lr/1000, lr/100, lr])\n",
    "learn.freeze_to(-2) #unfreeze res and head layers\n",
    "learn.fit(lrs, 10, cycle_len=10, use_clr=(32,10), best_save_name='liver_mse_best_2', metrics=[cindex_metric])\n",
    "learn.save('liver_mse_2')"
   ]
  },
  {
   "cell_type": "code",
   "execution_count": null,
   "metadata": {},
   "outputs": [],
   "source": [
    "lrs = np.array([lr/1000, lr/100, lr])\n",
    "learn.unfreeze() #unfreeze all types, including conv layers\n",
    "learn.fit(lrs, 10, cycle_len=10, use_clr=(32,10), best_save_name='liver_mse_best_3', metrics=[cindex_metric])\n",
    "learn.save('liver_mse_3')"
   ]
  },
  {
   "cell_type": "code",
   "execution_count": null,
   "metadata": {},
   "outputs": [],
   "source": [
    "from torch.autograd import Variable\n",
    "def eval_model(learn, model_name):\n",
    "    learn.save('tmp')\n",
    "    learn.load(model_name)\n",
    "    y_pred, y_targ = learn.predict_with_targs()\n",
    "    learn.load('tmp')\n",
    "#    return learn.crit(T(y_pred), T(y_targ)), cindex_metric(y_pred, y_targ)\n",
    "    crit_data = learn.crit(Variable(T(y_pred)),Variable(T(y_targ))).data[0]\n",
    "    return crit_data,cindex_metric(y_pred, y_targ)"
   ]
  },
  {
   "cell_type": "code",
   "execution_count": null,
   "metadata": {
    "scrolled": true
   },
   "outputs": [],
   "source": [
    "for mname in ['liver_mse_1', 'liver_mse_best_1'\n",
    "              ,'liver_mse_2', 'liver_mse_best_2'\n",
    "              ,'liver_mse_3', 'liver_mse_best_3'\n",
    "             ]:\n",
    "    print(mname,eval_model(learn, mname))"
   ]
  },
  {
   "cell_type": "code",
   "execution_count": null,
   "metadata": {},
   "outputs": [],
   "source": [
    "learn.load('liver_mse_best_3')"
   ]
  },
  {
   "cell_type": "markdown",
   "metadata": {},
   "source": [
    "Check that we have sensible values for the Cindex making sure we have sorted correctly"
   ]
  },
  {
   "cell_type": "code",
   "execution_count": 44,
   "metadata": {},
   "outputs": [],
   "source": [
    "y_pred,y_targ = learn.predict_with_targs()"
   ]
  },
  {
   "cell_type": "code",
   "execution_count": 45,
   "metadata": {},
   "outputs": [
    {
     "name": "stdout",
     "output_type": "stream",
     "text": [
      "0.8387566183947543\n"
     ]
    }
   ],
   "source": [
    "print(cindex_metric(y_pred,y_targ))"
   ]
  },
  {
   "cell_type": "code",
   "execution_count": 46,
   "metadata": {},
   "outputs": [
    {
     "name": "stdout",
     "output_type": "stream",
     "text": [
      "(3600, 1)\n",
      "3600\n",
      "14261\n"
     ]
    }
   ],
   "source": [
    "print(y_pred.shape)\n",
    "print(md.val_dl.dataset.n)\n",
    "print(md.trn_dl.dataset.n)\n"
   ]
  },
  {
   "cell_type": "code",
   "execution_count": 47,
   "metadata": {},
   "outputs": [],
   "source": [
    "y_pred_val = learn.predict_dl(md.val_dl)\n",
    "val_df = train_csv_df.loc[train_csv_df.val_patient,:].copy()"
   ]
  },
  {
   "cell_type": "code",
   "execution_count": 48,
   "metadata": {},
   "outputs": [
    {
     "data": {
      "text/plain": [
       "array(['data/train/TCGA-2Y-A9GS-01A-01-TS1-101.tiff', 'data/train/TCGA-2Y-A9GS-01A-01-TS1-107.tiff',\n",
       "       'data/train/TCGA-2Y-A9GS-01A-01-TS1-112.tiff', 'data/train/TCGA-2Y-A9GS-01A-01-TS1-114.tiff',\n",
       "       'data/train/TCGA-2Y-A9GS-01A-01-TS1-12.tiff', 'data/train/TCGA-2Y-A9GS-01A-01-TS1-120.tiff',\n",
       "       'data/train/TCGA-2Y-A9GS-01A-01-TS1-127.tiff', 'data/train/TCGA-2Y-A9GS-01A-01-TS1-135.tiff',\n",
       "       'data/train/TCGA-2Y-A9GS-01A-01-TS1-139.tiff', 'data/train/TCGA-2Y-A9GS-01A-01-TS1-158.tiff'],\n",
       "      dtype='<U44')"
      ]
     },
     "execution_count": 48,
     "metadata": {},
     "output_type": "execute_result"
    }
   ],
   "source": [
    "md.val_ds.fnames[:10]"
   ]
  },
  {
   "cell_type": "code",
   "execution_count": 49,
   "metadata": {},
   "outputs": [
    {
     "data": {
      "text/html": [
       "<div>\n",
       "<style scoped>\n",
       "    .dataframe tbody tr th:only-of-type {\n",
       "        vertical-align: middle;\n",
       "    }\n",
       "\n",
       "    .dataframe tbody tr th {\n",
       "        vertical-align: top;\n",
       "    }\n",
       "\n",
       "    .dataframe thead th {\n",
       "        text-align: right;\n",
       "    }\n",
       "</style>\n",
       "<table border=\"1\" class=\"dataframe\">\n",
       "  <thead>\n",
       "    <tr style=\"text-align: right;\">\n",
       "      <th></th>\n",
       "      <th>event_observed</th>\n",
       "      <th>fn</th>\n",
       "      <th>patient_id</th>\n",
       "      <th>slide_file</th>\n",
       "      <th>val</th>\n",
       "      <th>val_patient</th>\n",
       "    </tr>\n",
       "  </thead>\n",
       "  <tbody>\n",
       "    <tr>\n",
       "      <th>0</th>\n",
       "      <td>True</td>\n",
       "      <td>TCGA-2Y-A9GS-01A-01-TS1-101.tiff</td>\n",
       "      <td>TCGA-2Y-A9GS</td>\n",
       "      <td>TCGA-2Y-A9GS-01A-01-TS1.7AC59B6B-B3FF-4E31-B60...</td>\n",
       "      <td>724.0</td>\n",
       "      <td>True</td>\n",
       "    </tr>\n",
       "    <tr>\n",
       "      <th>1</th>\n",
       "      <td>True</td>\n",
       "      <td>TCGA-2Y-A9GS-01A-01-TS1-107.tiff</td>\n",
       "      <td>TCGA-2Y-A9GS</td>\n",
       "      <td>TCGA-2Y-A9GS-01A-01-TS1.7AC59B6B-B3FF-4E31-B60...</td>\n",
       "      <td>724.0</td>\n",
       "      <td>True</td>\n",
       "    </tr>\n",
       "    <tr>\n",
       "      <th>2</th>\n",
       "      <td>True</td>\n",
       "      <td>TCGA-2Y-A9GS-01A-01-TS1-112.tiff</td>\n",
       "      <td>TCGA-2Y-A9GS</td>\n",
       "      <td>TCGA-2Y-A9GS-01A-01-TS1.7AC59B6B-B3FF-4E31-B60...</td>\n",
       "      <td>724.0</td>\n",
       "      <td>True</td>\n",
       "    </tr>\n",
       "    <tr>\n",
       "      <th>3</th>\n",
       "      <td>True</td>\n",
       "      <td>TCGA-2Y-A9GS-01A-01-TS1-114.tiff</td>\n",
       "      <td>TCGA-2Y-A9GS</td>\n",
       "      <td>TCGA-2Y-A9GS-01A-01-TS1.7AC59B6B-B3FF-4E31-B60...</td>\n",
       "      <td>724.0</td>\n",
       "      <td>True</td>\n",
       "    </tr>\n",
       "    <tr>\n",
       "      <th>4</th>\n",
       "      <td>True</td>\n",
       "      <td>TCGA-2Y-A9GS-01A-01-TS1-12.tiff</td>\n",
       "      <td>TCGA-2Y-A9GS</td>\n",
       "      <td>TCGA-2Y-A9GS-01A-01-TS1.7AC59B6B-B3FF-4E31-B60...</td>\n",
       "      <td>724.0</td>\n",
       "      <td>True</td>\n",
       "    </tr>\n",
       "  </tbody>\n",
       "</table>\n",
       "</div>"
      ],
      "text/plain": [
       "   event_observed                                fn    patient_id  \\\n",
       "0            True  TCGA-2Y-A9GS-01A-01-TS1-101.tiff  TCGA-2Y-A9GS   \n",
       "1            True  TCGA-2Y-A9GS-01A-01-TS1-107.tiff  TCGA-2Y-A9GS   \n",
       "2            True  TCGA-2Y-A9GS-01A-01-TS1-112.tiff  TCGA-2Y-A9GS   \n",
       "3            True  TCGA-2Y-A9GS-01A-01-TS1-114.tiff  TCGA-2Y-A9GS   \n",
       "4            True   TCGA-2Y-A9GS-01A-01-TS1-12.tiff  TCGA-2Y-A9GS   \n",
       "\n",
       "                                          slide_file    val  val_patient  \n",
       "0  TCGA-2Y-A9GS-01A-01-TS1.7AC59B6B-B3FF-4E31-B60...  724.0         True  \n",
       "1  TCGA-2Y-A9GS-01A-01-TS1.7AC59B6B-B3FF-4E31-B60...  724.0         True  \n",
       "2  TCGA-2Y-A9GS-01A-01-TS1.7AC59B6B-B3FF-4E31-B60...  724.0         True  \n",
       "3  TCGA-2Y-A9GS-01A-01-TS1.7AC59B6B-B3FF-4E31-B60...  724.0         True  \n",
       "4  TCGA-2Y-A9GS-01A-01-TS1.7AC59B6B-B3FF-4E31-B60...  724.0         True  "
      ]
     },
     "execution_count": 49,
     "metadata": {},
     "output_type": "execute_result"
    }
   ],
   "source": [
    "val_df.head()"
   ]
  },
  {
   "cell_type": "code",
   "execution_count": 50,
   "metadata": {},
   "outputs": [],
   "source": [
    "val_df.loc[:,'y_pred']=y_pred_val.copy()"
   ]
  },
  {
   "cell_type": "code",
   "execution_count": 51,
   "metadata": {},
   "outputs": [
    {
     "data": {
      "text/plain": [
       "<matplotlib.collections.PathCollection at 0x7fb9502325c0>"
      ]
     },
     "execution_count": 51,
     "metadata": {},
     "output_type": "execute_result"
    },
    {
     "data": {
      "image/png": "[encoded data removed]",
      "text/plain": [
       "<matplotlib.figure.Figure at 0x7fb9524bb5c0>"
      ]
     },
     "metadata": {},
     "output_type": "display_data"
    }
   ],
   "source": [
    "plt.scatter(val_df.y_pred,val_df.val)"
   ]
  },
  {
   "cell_type": "code",
   "execution_count": 52,
   "metadata": {},
   "outputs": [
    {
     "name": "stdout",
     "output_type": "stream",
     "text": [
      "0.8387566183947543\n",
      "0.8387566183947543\n"
     ]
    }
   ],
   "source": [
    "print(concordance_index(val_df.y_pred,val_df.val))\n",
    "print(cindex_metric(val_df.y_pred,val_df.val))\n"
   ]
  },
  {
   "cell_type": "markdown",
   "metadata": {},
   "source": [
    "### TEST"
   ]
  },
  {
   "cell_type": "code",
   "execution_count": 36,
   "metadata": {},
   "outputs": [
    {
     "data": {
      "text/plain": [
       "((900, 1), (900, 6))"
      ]
     },
     "execution_count": 36,
     "metadata": {},
     "output_type": "execute_result"
    }
   ],
   "source": [
    "y_pred = learn.predict_dl(md_test.val_dl)\n",
    "test_df = test_csv_df.copy()\n",
    "test_df['y_pred'] = y_pred\n",
    "\n",
    "y_pred.shape, test_df.shape"
   ]
  },
  {
   "cell_type": "code",
   "execution_count": 38,
   "metadata": {},
   "outputs": [
    {
     "data": {
      "text/plain": [
       "0.9166666666666666"
      ]
     },
     "execution_count": 38,
     "metadata": {},
     "output_type": "execute_result"
    }
   ],
   "source": [
    "yp_pred = test_df.groupby('patient_id').y_pred.min()\n",
    "yp_targ = test_df.groupby('patient_id').val.mean()\n",
    "concordance_index(yp_pred, yp_targ )"
   ]
  },
  {
   "cell_type": "code",
   "execution_count": 39,
   "metadata": {},
   "outputs": [
    {
     "data": {
      "text/plain": [
       "<matplotlib.collections.PathCollection at 0x7fb95227ad30>"
      ]
     },
     "execution_count": 39,
     "metadata": {},
     "output_type": "execute_result"
    },
    {
     "data": {
      "image/png": "[encoded data removed]",
      "text/plain": [
       "<matplotlib.figure.Figure at 0x7fb9524c67b8>"
      ]
     },
     "metadata": {},
     "output_type": "display_data"
    }
   ],
   "source": [
    "scatter(yp_targ, yp_pred)"
   ]
  },
  {
   "cell_type": "code",
   "execution_count": 40,
   "metadata": {},
   "outputs": [
    {
     "data": {
      "text/plain": [
       "<matplotlib.axes._subplots.AxesSubplot at 0x7fb952221518>"
      ]
     },
     "execution_count": 40,
     "metadata": {},
     "output_type": "execute_result"
    },
    {
     "data": {
      "image/png": "[encoded data removed]",
      "text/plain": [
       "<matplotlib.figure.Figure at 0x7fb9522eac50>"
      ]
     },
     "metadata": {},
     "output_type": "display_data"
    }
   ],
   "source": [
    "test_df.val.hist()"
   ]
  },
  {
   "cell_type": "code",
   "execution_count": 41,
   "metadata": {},
   "outputs": [
    {
     "data": {
      "text/plain": [
       "<matplotlib.axes._subplots.AxesSubplot at 0x7fb9521f7198>"
      ]
     },
     "execution_count": 41,
     "metadata": {},
     "output_type": "execute_result"
    },
    {
     "data": {
      "image/png": "[encoded data removed]",
      "text/plain": [
       "<matplotlib.figure.Figure at 0x7fb9524c0748>"
      ]
     },
     "metadata": {},
     "output_type": "display_data"
    }
   ],
   "source": [
    "train_csv_df.val.hist()"
   ]
  },
  {
   "cell_type": "code",
   "execution_count": null,
   "metadata": {},
   "outputs": [],
   "source": []
  }
 ],
 "metadata": {
  "kernelspec": {
   "display_name": "Python 3",
   "language": "python",
   "name": "python3"
  },
  "language_info": {
   "codemirror_mode": {
    "name": "ipython",
    "version": 3
   },
   "file_extension": ".py",
   "mimetype": "text/x-python",
   "name": "python",
   "nbconvert_exporter": "python",
   "pygments_lexer": "ipython3",
   "version": "3.6.5"
  },
  "varInspector": {
   "cols": {
    "lenName": 16,
    "lenType": 16,
    "lenVar": 40
   },
   "kernels_config": {
    "python": {
     "delete_cmd_postfix": "",
     "delete_cmd_prefix": "del ",
     "library": "var_list.py",
     "varRefreshCmd": "print(var_dic_list())"
    },
    "r": {
     "delete_cmd_postfix": ") ",
     "delete_cmd_prefix": "rm(",
     "library": "var_list.r",
     "varRefreshCmd": "cat(var_dic_list()) "
    }
   },
   "position": {
    "height": "499px",
    "left": "799.5px",
    "right": "115px",
    "top": "128px",
    "width": "653px"
   },
   "types_to_exclude": [
    "module",
    "function",
    "builtin_function_or_method",
    "instance",
    "_Feature"
   ],
   "window_display": false
  }
 },
 "nbformat": 4,
 "nbformat_minor": 2
}
