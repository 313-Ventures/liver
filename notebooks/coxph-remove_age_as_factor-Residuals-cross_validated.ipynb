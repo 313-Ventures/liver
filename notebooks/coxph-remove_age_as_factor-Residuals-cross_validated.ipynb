{
 "cells": [
  {
   "cell_type": "markdown",
   "metadata": {},
   "source": [
    "Filter down to the patient level to be sure we are grouping by patient\n",
    "\n",
    "20% fit coxPH\n",
    "\n",
    "next 20%, find residual errors, do OLS\n",
    "\n",
    "Test on remaining 60%.  \n",
    "\n",
    "prior:  There is no structure in the data or in the errors\n"
   ]
  },
  {
   "cell_type": "code",
   "execution_count": 1,
   "metadata": {},
   "outputs": [
    {
     "name": "stdout",
     "output_type": "stream",
     "text": [
      "Populating the interactive namespace from numpy and matplotlib\n"
     ]
    }
   ],
   "source": [
    "%pylab inline\n",
    "%load_ext autoreload\n",
    "%autoreload 2\n",
    "\n",
    "import pandas as pd\n",
    "import numpy as np\n",
    "from pathlib import Path\n",
    "from lifelines.utils import concordance_index, survival_table_from_events, k_fold_cross_validation\n",
    "from lifelines import CoxPHFitter, AalenAdditiveFitter\n",
    "from sklearn.preprocessing import MinMaxScaler"
   ]
  },
  {
   "cell_type": "code",
   "execution_count": 2,
   "metadata": {},
   "outputs": [],
   "source": [
    "LIVER_PATH = Path('/DATA/BIO/GDC/liver')\n",
    "LIVER_SAMPLES = LIVER_PATH/\"samples\"\n",
    "EXP_PATH = LIVER_PATH/\"exp_cox\"\n",
    "\n",
    "\n",
    "for d in [EXP_PATH]:\n",
    "    if not d.exists():\n",
    "        d.mkdir()"
   ]
  },
  {
   "cell_type": "code",
   "execution_count": 26,
   "metadata": {},
   "outputs": [
    {
     "name": "stdout",
     "output_type": "stream",
     "text": [
      "376\n",
      "75\n",
      "75\n",
      "226\n"
     ]
    }
   ],
   "source": [
    "slides = pd.read_csv(LIVER_PATH/'slides.csv')\n",
    "slides = slides.loc[slides.sample_type_id.isin([1])]\n",
    "slide_level = 'level_1'\n",
    "slides['days_proxy'] = slides.days_to_death.fillna(slides.days_to_last_follow_up)\n",
    "slides = slides.loc[slides.days_proxy.notnull()]\n",
    "slides['death'] = True\n",
    "slides.loc[slides.days_to_last_follow_up.notnull(),'death'] = False    \n",
    "slides['death'] = slides['death'].astype(int)\n",
    "\n",
    "slides['sec_loc'] = (slides.section_location == 'TOP').astype(int)\n",
    "\n",
    "features =  [    \n",
    "    #'percent_tumor_nuclei',\n",
    "    #'percent_tumor_cells',\n",
    "    #'percent_normal_cells',\n",
    "    'age_at_diagnosis',\n",
    "    #'creation_datetime',\n",
    "    #'sec_loc'\n",
    "]\n",
    "\n",
    "targets = [\n",
    "    'days_proxy',\n",
    "    'death',  \n",
    "]\n",
    "scaler = MinMaxScaler()\n",
    "#fit_df = slides.loc[slides.sample_type_id == 1, features+targets].dropna()\n",
    "\n",
    "\n",
    "patients = list(set(slides.submitter_id))\n",
    "num_patients = len(patients)\n",
    "split = 0.2\n",
    "train_split_count = int(split * num_patients)\n",
    "\n",
    "random_patients = np.random.permutation(patients)\n",
    "train_patients = random_patients[                  0:  train_split_count]\n",
    "valid_patients = random_patients[  train_split_count:2*train_split_count]\n",
    "test_patients  = random_patients[2*train_split_count:]\n",
    "print(num_patients)\n",
    "print(len(train_patients))\n",
    "print(len(valid_patients))\n",
    "print(len(test_patients))\n",
    "\n",
    "fit_df = slides[slides.submitter_id.isin(train_patients)].loc[slides.sample_type_id == 1, features+targets].dropna()\n",
    "fit_df.loc[:,features] = scaler.fit_transform(fit_df[features])\n",
    "\n",
    "valid_df = slides[slides.submitter_id.isin(valid_patients)].loc[slides.sample_type_id == 1, features+targets].dropna()\n",
    "valid_df.loc[:,features] = scaler.fit_transform(valid_df[features])\n",
    "\n",
    "test_df = slides[slides.submitter_id.isin(test_patients)].loc[slides.sample_type_id == 1, features+targets].dropna()\n",
    "test_df.loc[:,features] = scaler.fit_transform(test_df[features])\n"
   ]
  },
  {
   "cell_type": "code",
   "execution_count": 27,
   "metadata": {},
   "outputs": [
    {
     "name": "stdout",
     "output_type": "stream",
     "text": [
      "          removed  observed  censored  entrance  at_risk\n",
      "event_at                                                \n",
      "0.0             0         0         0        81       81\n",
      "6.0             2         0         2         0       81\n",
      "9.0             1         0         1         0       79\n",
      "10.0            1         0         1         0       78\n",
      "14.0            2         2         0         0       77\n"
     ]
    }
   ],
   "source": [
    "surv_table = survival_table_from_events(fit_df['days_proxy'], fit_df['death'])\n",
    "print(surv_table.head())\n"
   ]
  },
  {
   "cell_type": "code",
   "execution_count": 28,
   "metadata": {},
   "outputs": [
    {
     "data": {
      "text/plain": [
       "(81, 3)"
      ]
     },
     "execution_count": 28,
     "metadata": {},
     "output_type": "execute_result"
    }
   ],
   "source": [
    "fit_df.shape"
   ]
  },
  {
   "cell_type": "markdown",
   "metadata": {},
   "source": [
    "### 1. Fix CoxPH curve to the data in the train set"
   ]
  },
  {
   "cell_type": "code",
   "execution_count": 29,
   "metadata": {},
   "outputs": [
    {
     "data": {
      "text/plain": [
       "[0.42, 0.6857142857142857, 0.4594594594594595, 0.46808510638297873, 0.5]"
      ]
     },
     "execution_count": 29,
     "metadata": {},
     "output_type": "execute_result"
    }
   ],
   "source": [
    "model = CoxPHFitter()\n",
    "k_fold_cross_validation(model,fit_df,'days_proxy', event_col='death')\n",
    "#model.fit(fit_df, 'days_proxy', event_col='death')"
   ]
  },
  {
   "cell_type": "code",
   "execution_count": 30,
   "metadata": {},
   "outputs": [
    {
     "name": "stdout",
     "output_type": "stream",
     "text": [
      "n=65, number of events=20\n",
      "\n",
      "                   coef  exp(coef)  se(coef)      z      p  lower 0.95  upper 0.95   \n",
      "age_at_diagnosis 0.2013     1.2230    1.0727 0.1877 0.8511     -1.9011      2.3037   \n",
      "---\n",
      "Signif. codes:  0 '***' 0.001 '**' 0.01 '*' 0.05 '.' 0.1 ' ' 1 \n",
      "\n",
      "Concordance = 0.551\n"
     ]
    }
   ],
   "source": [
    "model.print_summary()"
   ]
  },
  {
   "cell_type": "code",
   "execution_count": 31,
   "metadata": {},
   "outputs": [
    {
     "data": {
      "text/plain": [
       "<matplotlib.axes._subplots.AxesSubplot at 0x7f7c0bf11550>"
      ]
     },
     "execution_count": 31,
     "metadata": {},
     "output_type": "execute_result"
    },
    {
     "data": {
      "image/png": "[encoded data removed]",
      "text/plain": [
       "<matplotlib.figure.Figure at 0x7f7c10465278>"
      ]
     },
     "metadata": {},
     "output_type": "display_data"
    }
   ],
   "source": [
    "model.plot()"
   ]
  },
  {
   "cell_type": "code",
   "execution_count": 33,
   "metadata": {},
   "outputs": [
    {
     "data": {
      "text/plain": [
       "<matplotlib.axes._subplots.AxesSubplot at 0x7f7c0bf084e0>"
      ]
     },
     "execution_count": 33,
     "metadata": {},
     "output_type": "execute_result"
    },
    {
     "data": {
      "image/png": "[encoded data removed]",
      "text/plain": [
       "<matplotlib.figure.Figure at 0x7f7c1048c898>"
      ]
     },
     "metadata": {},
     "output_type": "display_data"
    }
   ],
   "source": [
    "model.plot_covariate_groups('age_at_diagnosis' ,np.linspace(0.25,2.64,5))"
   ]
  },
  {
   "cell_type": "markdown",
   "metadata": {},
   "source": [
    "What are the predictions when you account for the age factor? What are the residual errors?"
   ]
  },
  {
   "cell_type": "code",
   "execution_count": 34,
   "metadata": {},
   "outputs": [
    {
     "data": {
      "text/plain": [
       "<matplotlib.axes._subplots.AxesSubplot at 0x7f7c10228748>"
      ]
     },
     "execution_count": 34,
     "metadata": {},
     "output_type": "execute_result"
    },
    {
     "data": {
      "image/png": "[encoded data removed]",
      "text/plain": [
       "<matplotlib.figure.Figure at 0x7f7c0be1f588>"
      ]
     },
     "metadata": {},
     "output_type": "display_data"
    },
    {
     "data": {
      "image/png": "[encoded data removed]",
      "text/plain": [
       "<matplotlib.figure.Figure at 0x7f7c10214748>"
      ]
     },
     "metadata": {},
     "output_type": "display_data"
    }
   ],
   "source": [
    "X = fit_df.drop(['days_proxy','death'],axis=1)\n",
    "fit_df['preds'] = model.predict_expectation(X)\n",
    "\n",
    "fit_df.loc[fit_df.death == 0,['preds','days_proxy','death']].plot(kind='scatter',x='preds',y='days_proxy')\n",
    "fit_df.loc[fit_df.death != 0,['preds','days_proxy','death']].plot(kind='scatter',x='preds',y='days_proxy')"
   ]
  },
  {
   "cell_type": "code",
   "execution_count": 35,
   "metadata": {},
   "outputs": [
    {
     "data": {
      "text/plain": [
       "0.5350488021295474"
      ]
     },
     "execution_count": 35,
     "metadata": {},
     "output_type": "execute_result"
    }
   ],
   "source": [
    "concordance_index(fit_df.days_proxy, fit_df.preds, fit_df.death)"
   ]
  },
  {
   "cell_type": "markdown",
   "metadata": {},
   "source": [
    "### 2. Check the error of the CoxPH model in validation data, correct for this error"
   ]
  },
  {
   "cell_type": "code",
   "execution_count": 67,
   "metadata": {},
   "outputs": [],
   "source": [
    "valid_df['preds'] = model.predict_expectation( valid_df.drop(['days_proxy','death'],axis=1) )"
   ]
  },
  {
   "cell_type": "code",
   "execution_count": 68,
   "metadata": {},
   "outputs": [
    {
     "data": {
      "text/plain": [
       "<matplotlib.axes._subplots.AxesSubplot at 0x7f7c11cb7b00>"
      ]
     },
     "execution_count": 68,
     "metadata": {},
     "output_type": "execute_result"
    },
    {
     "data": {
      "image/png": "[encoded data removed]",
      "text/plain": [
       "<matplotlib.figure.Figure at 0x7f7c08f93358>"
      ]
     },
     "metadata": {},
     "output_type": "display_data"
    },
    {
     "data": {
      "image/png": "[encoded data removed]",
      "text/plain": [
       "<matplotlib.figure.Figure at 0x7f7c08d81320>"
      ]
     },
     "metadata": {},
     "output_type": "display_data"
    }
   ],
   "source": [
    "valid_df.loc[valid_df.death == 0,['preds','days_proxy','death']].plot(kind='scatter',x='preds',y='days_proxy',color='g')\n",
    "valid_df.loc[valid_df.death != 0,['preds','days_proxy','death']].plot(kind='scatter',x='preds',y='days_proxy')"
   ]
  },
  {
   "cell_type": "code",
   "execution_count": 69,
   "metadata": {},
   "outputs": [
    {
     "data": {
      "text/html": [
       "<div>\n",
       "<style scoped>\n",
       "    .dataframe tbody tr th:only-of-type {\n",
       "        vertical-align: middle;\n",
       "    }\n",
       "\n",
       "    .dataframe tbody tr th {\n",
       "        vertical-align: top;\n",
       "    }\n",
       "\n",
       "    .dataframe thead th {\n",
       "        text-align: right;\n",
       "    }\n",
       "</style>\n",
       "<table border=\"1\" class=\"dataframe\">\n",
       "  <thead>\n",
       "    <tr style=\"text-align: right;\">\n",
       "      <th></th>\n",
       "      <th>age_at_diagnosis</th>\n",
       "      <th>days_proxy</th>\n",
       "      <th>death</th>\n",
       "      <th>preds</th>\n",
       "      <th>resid</th>\n",
       "    </tr>\n",
       "  </thead>\n",
       "  <tbody>\n",
       "    <tr>\n",
       "      <th>7</th>\n",
       "      <td>0.860348</td>\n",
       "      <td>849.0</td>\n",
       "      <td>0</td>\n",
       "      <td>1450.742615</td>\n",
       "      <td>-601.742615</td>\n",
       "    </tr>\n",
       "    <tr>\n",
       "      <th>8</th>\n",
       "      <td>0.860348</td>\n",
       "      <td>849.0</td>\n",
       "      <td>0</td>\n",
       "      <td>1450.742615</td>\n",
       "      <td>-601.742615</td>\n",
       "    </tr>\n",
       "    <tr>\n",
       "      <th>16</th>\n",
       "      <td>0.312954</td>\n",
       "      <td>2728.0</td>\n",
       "      <td>0</td>\n",
       "      <td>1526.548764</td>\n",
       "      <td>1201.451236</td>\n",
       "    </tr>\n",
       "    <tr>\n",
       "      <th>22</th>\n",
       "      <td>0.398649</td>\n",
       "      <td>1085.0</td>\n",
       "      <td>0</td>\n",
       "      <td>1514.865434</td>\n",
       "      <td>-429.865434</td>\n",
       "    </tr>\n",
       "    <tr>\n",
       "      <th>30</th>\n",
       "      <td>0.613502</td>\n",
       "      <td>217.0</td>\n",
       "      <td>0</td>\n",
       "      <td>1485.265502</td>\n",
       "      <td>-1268.265502</td>\n",
       "    </tr>\n",
       "    <tr>\n",
       "      <th>38</th>\n",
       "      <td>0.498194</td>\n",
       "      <td>566.0</td>\n",
       "      <td>0</td>\n",
       "      <td>1501.205026</td>\n",
       "      <td>-935.205026</td>\n",
       "    </tr>\n",
       "    <tr>\n",
       "      <th>42</th>\n",
       "      <td>0.479968</td>\n",
       "      <td>425.0</td>\n",
       "      <td>0</td>\n",
       "      <td>1503.713257</td>\n",
       "      <td>-1078.713257</td>\n",
       "    </tr>\n",
       "    <tr>\n",
       "      <th>46</th>\n",
       "      <td>0.518630</td>\n",
       "      <td>1231.0</td>\n",
       "      <td>0</td>\n",
       "      <td>1498.389060</td>\n",
       "      <td>-267.389060</td>\n",
       "    </tr>\n",
       "    <tr>\n",
       "      <th>47</th>\n",
       "      <td>0.108850</td>\n",
       "      <td>219.0</td>\n",
       "      <td>0</td>\n",
       "      <td>1554.081681</td>\n",
       "      <td>-1335.081681</td>\n",
       "    </tr>\n",
       "    <tr>\n",
       "      <th>48</th>\n",
       "      <td>0.108850</td>\n",
       "      <td>219.0</td>\n",
       "      <td>0</td>\n",
       "      <td>1554.081681</td>\n",
       "      <td>-1335.081681</td>\n",
       "    </tr>\n",
       "  </tbody>\n",
       "</table>\n",
       "</div>"
      ],
      "text/plain": [
       "    age_at_diagnosis  days_proxy  death        preds        resid\n",
       "7           0.860348       849.0      0  1450.742615  -601.742615\n",
       "8           0.860348       849.0      0  1450.742615  -601.742615\n",
       "16          0.312954      2728.0      0  1526.548764  1201.451236\n",
       "22          0.398649      1085.0      0  1514.865434  -429.865434\n",
       "30          0.613502       217.0      0  1485.265502 -1268.265502\n",
       "38          0.498194       566.0      0  1501.205026  -935.205026\n",
       "42          0.479968       425.0      0  1503.713257 -1078.713257\n",
       "46          0.518630      1231.0      0  1498.389060  -267.389060\n",
       "47          0.108850       219.0      0  1554.081681 -1335.081681\n",
       "48          0.108850       219.0      0  1554.081681 -1335.081681"
      ]
     },
     "execution_count": 69,
     "metadata": {},
     "output_type": "execute_result"
    }
   ],
   "source": [
    "valid_df.head(10)"
   ]
  },
  {
   "cell_type": "code",
   "execution_count": 70,
   "metadata": {},
   "outputs": [],
   "source": [
    "valid_df['resid'] = valid_df.days_proxy - valid_df.preds"
   ]
  },
  {
   "cell_type": "code",
   "execution_count": 71,
   "metadata": {},
   "outputs": [
    {
     "data": {
      "text/plain": [
       "<matplotlib.axes._subplots.AxesSubplot at 0x7f7c08e8cfd0>"
      ]
     },
     "execution_count": 71,
     "metadata": {},
     "output_type": "execute_result"
    },
    {
     "data": {
      "image/png": "[encoded data removed]",
      "text/plain": [
       "<matplotlib.figure.Figure at 0x7f7c08e5ec50>"
      ]
     },
     "metadata": {},
     "output_type": "display_data"
    },
    {
     "data": {
      "image/png": "[encoded data removed]",
      "text/plain": [
       "<matplotlib.figure.Figure at 0x7f7c08f67710>"
      ]
     },
     "metadata": {},
     "output_type": "display_data"
    }
   ],
   "source": [
    "valid_df.loc[valid_df.death == 0,['resid','preds','death']].plot(kind='scatter',x='preds',y='resid')\n",
    "valid_df.loc[valid_df.death != 0,['resid','preds','death']].plot(kind='scatter',x='preds',y='resid')"
   ]
  },
  {
   "cell_type": "markdown",
   "metadata": {},
   "source": [
    "Will CIndex get better if we do a regression on the errors?  Then remove the obvious linear trend and scale properly?  or will CIndex all stay the same?\n"
   ]
  },
  {
   "cell_type": "code",
   "execution_count": 72,
   "metadata": {},
   "outputs": [
    {
     "data": {
      "text/plain": [
       "<matplotlib.collections.PathCollection at 0x7f7c11ca2278>"
      ]
     },
     "execution_count": 72,
     "metadata": {},
     "output_type": "execute_result"
    },
    {
     "data": {
      "image/png": "[encoded data removed]",
      "text/plain": [
       "<matplotlib.figure.Figure at 0x7f7c08ee5780>"
      ]
     },
     "metadata": {},
     "output_type": "display_data"
    }
   ],
   "source": [
    "plt.scatter(valid_df.resid,valid_df.preds)"
   ]
  },
  {
   "cell_type": "code",
   "execution_count": 74,
   "metadata": {},
   "outputs": [
    {
     "data": {
      "text/html": [
       "<table class=\"simpletable\">\n",
       "<caption>OLS Regression Results</caption>\n",
       "<tr>\n",
       "  <th>Dep. Variable:</th>          <td>resid</td>      <th>  R-squared:         </th> <td>   0.030</td>\n",
       "</tr>\n",
       "<tr>\n",
       "  <th>Model:</th>                   <td>OLS</td>       <th>  Adj. R-squared:    </th> <td>   0.018</td>\n",
       "</tr>\n",
       "<tr>\n",
       "  <th>Method:</th>             <td>Least Squares</td>  <th>  F-statistic:       </th> <td>   2.440</td>\n",
       "</tr>\n",
       "<tr>\n",
       "  <th>Date:</th>             <td>Thu, 21 Jun 2018</td> <th>  Prob (F-statistic):</th>  <td> 0.122</td> \n",
       "</tr>\n",
       "<tr>\n",
       "  <th>Time:</th>                 <td>14:08:42</td>     <th>  Log-Likelihood:    </th> <td> -646.20</td>\n",
       "</tr>\n",
       "<tr>\n",
       "  <th>No. Observations:</th>      <td>    80</td>      <th>  AIC:               </th> <td>   1296.</td>\n",
       "</tr>\n",
       "<tr>\n",
       "  <th>Df Residuals:</th>          <td>    78</td>      <th>  BIC:               </th> <td>   1301.</td>\n",
       "</tr>\n",
       "<tr>\n",
       "  <th>Df Model:</th>              <td>     1</td>      <th>                     </th>     <td> </td>   \n",
       "</tr>\n",
       "<tr>\n",
       "  <th>Covariance Type:</th>      <td>nonrobust</td>    <th>                     </th>     <td> </td>   \n",
       "</tr>\n",
       "</table>\n",
       "<table class=\"simpletable\">\n",
       "<tr>\n",
       "      <td></td>         <th>coef</th>     <th>std err</th>      <th>t</th>      <th>P>|t|</th>  <th>[0.025</th>    <th>0.975]</th>  \n",
       "</tr>\n",
       "<tr>\n",
       "  <th>Intercept</th> <td> 5643.2801</td> <td> 4020.775</td> <td>    1.404</td> <td> 0.164</td> <td>-2361.468</td> <td> 1.36e+04</td>\n",
       "</tr>\n",
       "<tr>\n",
       "  <th>preds</th>     <td>   -4.2290</td> <td>    2.707</td> <td>   -1.562</td> <td> 0.122</td> <td>   -9.619</td> <td>    1.161</td>\n",
       "</tr>\n",
       "</table>\n",
       "<table class=\"simpletable\">\n",
       "<tr>\n",
       "  <th>Omnibus:</th>       <td>23.427</td> <th>  Durbin-Watson:     </th> <td>   1.840</td>\n",
       "</tr>\n",
       "<tr>\n",
       "  <th>Prob(Omnibus):</th> <td> 0.000</td> <th>  Jarque-Bera (JB):  </th> <td>  31.403</td>\n",
       "</tr>\n",
       "<tr>\n",
       "  <th>Skew:</th>          <td> 1.377</td> <th>  Prob(JB):          </th> <td>1.52e-07</td>\n",
       "</tr>\n",
       "<tr>\n",
       "  <th>Kurtosis:</th>      <td> 4.356</td> <th>  Cond. No.          </th> <td>6.77e+04</td>\n",
       "</tr>\n",
       "</table><br/><br/>Warnings:<br/>[1] Standard Errors assume that the covariance matrix of the errors is correctly specified.<br/>[2] The condition number is large, 6.77e+04. This might indicate that there are<br/>strong multicollinearity or other numerical problems."
      ],
      "text/plain": [
       "<class 'statsmodels.iolib.summary.Summary'>\n",
       "\"\"\"\n",
       "                            OLS Regression Results                            \n",
       "==============================================================================\n",
       "Dep. Variable:                  resid   R-squared:                       0.030\n",
       "Model:                            OLS   Adj. R-squared:                  0.018\n",
       "Method:                 Least Squares   F-statistic:                     2.440\n",
       "Date:                Thu, 21 Jun 2018   Prob (F-statistic):              0.122\n",
       "Time:                        14:08:42   Log-Likelihood:                -646.20\n",
       "No. Observations:                  80   AIC:                             1296.\n",
       "Df Residuals:                      78   BIC:                             1301.\n",
       "Df Model:                           1                                         \n",
       "Covariance Type:            nonrobust                                         \n",
       "==============================================================================\n",
       "                 coef    std err          t      P>|t|      [0.025      0.975]\n",
       "------------------------------------------------------------------------------\n",
       "Intercept   5643.2801   4020.775      1.404      0.164   -2361.468    1.36e+04\n",
       "preds         -4.2290      2.707     -1.562      0.122      -9.619       1.161\n",
       "==============================================================================\n",
       "Omnibus:                       23.427   Durbin-Watson:                   1.840\n",
       "Prob(Omnibus):                  0.000   Jarque-Bera (JB):               31.403\n",
       "Skew:                           1.377   Prob(JB):                     1.52e-07\n",
       "Kurtosis:                       4.356   Cond. No.                     6.77e+04\n",
       "==============================================================================\n",
       "\n",
       "Warnings:\n",
       "[1] Standard Errors assume that the covariance matrix of the errors is correctly specified.\n",
       "[2] The condition number is large, 6.77e+04. This might indicate that there are\n",
       "strong multicollinearity or other numerical problems.\n",
       "\"\"\""
      ]
     },
     "execution_count": 74,
     "metadata": {},
     "output_type": "execute_result"
    }
   ],
   "source": [
    "import statsmodels.formula.api as sm\n",
    "\n",
    "ols_model = sm.ols(formula='resid ~ preds',data=valid_df).fit()\n",
    "ols_pred_from_res = ols_model.predict(valid_df.preds)\n",
    "ols_model.summary()"
   ]
  },
  {
   "cell_type": "code",
   "execution_count": 75,
   "metadata": {},
   "outputs": [
    {
     "data": {
      "text/plain": [
       "<matplotlib.collections.PathCollection at 0x7f7c08c1df98>"
      ]
     },
     "execution_count": 75,
     "metadata": {},
     "output_type": "execute_result"
    },
    {
     "data": {
      "image/png": "[encoded data removed]",
      "text/plain": [
       "<matplotlib.figure.Figure at 0x7f7c08c3f7f0>"
      ]
     },
     "metadata": {},
     "output_type": "display_data"
    }
   ],
   "source": [
    "plt.scatter(ols_pred_from_res,valid_df.days_proxy)"
   ]
  },
  {
   "cell_type": "code",
   "execution_count": 76,
   "metadata": {},
   "outputs": [
    {
     "data": {
      "text/plain": [
       "0.44678362573099417"
      ]
     },
     "execution_count": 76,
     "metadata": {},
     "output_type": "execute_result"
    }
   ],
   "source": [
    "concordance_index(valid_df.days_proxy, ols_pred_from_res, valid_df.death)"
   ]
  },
  {
   "cell_type": "code",
   "execution_count": null,
   "metadata": {},
   "outputs": [],
   "source": []
  }
 ],
 "metadata": {
  "kernelspec": {
   "display_name": "Python 3",
   "language": "python",
   "name": "python3"
  },
  "language_info": {
   "codemirror_mode": {
    "name": "ipython",
    "version": 3
   },
   "file_extension": ".py",
   "mimetype": "text/x-python",
   "name": "python",
   "nbconvert_exporter": "python",
   "pygments_lexer": "ipython3",
   "version": "3.6.3"
  },
  "varInspector": {
   "cols": {
    "lenName": 16,
    "lenType": 16,
    "lenVar": 40
   },
   "kernels_config": {
    "python": {
     "delete_cmd_postfix": "",
     "delete_cmd_prefix": "del ",
     "library": "var_list.py",
     "varRefreshCmd": "print(var_dic_list())"
    },
    "r": {
     "delete_cmd_postfix": ") ",
     "delete_cmd_prefix": "rm(",
     "library": "var_list.r",
     "varRefreshCmd": "cat(var_dic_list()) "
    }
   },
   "types_to_exclude": [
    "module",
    "function",
    "builtin_function_or_method",
    "instance",
    "_Feature"
   ],
   "window_display": false
  }
 },
 "nbformat": 4,
 "nbformat_minor": 2
}
